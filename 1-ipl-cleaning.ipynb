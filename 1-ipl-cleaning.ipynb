{
 "cells": [
  {
   "cell_type": "code",
   "execution_count": 1,
   "id": "1d806cdc",
   "metadata": {
    "_cell_guid": "b1076dfc-b9ad-4769-8c92-a6c4dae69d19",
    "_uuid": "8f2839f25d086af736a60e9eeb907d3b93b6e0e5",
    "execution": {
     "iopub.execute_input": "2021-07-10T13:33:29.322642Z",
     "iopub.status.busy": "2021-07-10T13:33:29.321524Z",
     "iopub.status.idle": "2021-07-10T13:33:29.340950Z",
     "shell.execute_reply": "2021-07-10T13:33:29.341436Z",
     "shell.execute_reply.started": "2021-07-10T13:13:29.102491Z"
    },
    "papermill": {
     "duration": 0.070234,
     "end_time": "2021-07-10T13:33:29.341722",
     "exception": false,
     "start_time": "2021-07-10T13:33:29.271488",
     "status": "completed"
    },
    "tags": []
   },
   "outputs": [
    {
     "name": "stdout",
     "output_type": "stream",
     "text": [
      "/kaggle/input/ipl-data-set/matches.csv\n",
      "/kaggle/input/ipl-data-set/teamwise_home_and_away.csv\n",
      "/kaggle/input/ipl-data-set/deliveries.csv\n",
      "/kaggle/input/ipl-data-set/most_runs_average_strikerate.csv\n",
      "/kaggle/input/ipl-data-set/teams.csv\n",
      "/kaggle/input/ipl-data-set/Players.xlsx\n"
     ]
    }
   ],
   "source": [
    "# This Python 3 environment comes with many helpful analytics libraries installed\n",
    "# It is defined by the kaggle/python Docker image: https://github.com/kaggle/docker-python\n",
    "# For example, here's several helpful packages to load\n",
    "\n",
    "import numpy as np # linear algebra\n",
    "import pandas as pd # data processing, CSV file I/O (e.g. pd.read_csv)\n",
    "from datetime import datetime\n",
    "# Input data files are available in the read-only \"../input/\" directory\n",
    "# For example, running this (by clicking run or pressing Shift+Enter) will list all files under the input directory\n",
    "\n",
    "import os\n",
    "for dirname, _, filenames in os.walk('/kaggle/input'):\n",
    "    for filename in filenames:\n",
    "        print(os.path.join(dirname, filename))\n",
    "\n",
    "# You can write up to 20GB to the current directory (/kaggle/working/) that gets preserved as output when you create a version using \"Save & Run All\" \n",
    "# You can also write temporary files to /kaggle/temp/, but they won't be saved outside of the current session"
   ]
  },
  {
   "cell_type": "code",
   "execution_count": 2,
   "id": "7e3a0100",
   "metadata": {
    "execution": {
     "iopub.execute_input": "2021-07-10T13:33:29.451844Z",
     "iopub.status.busy": "2021-07-10T13:33:29.440738Z",
     "iopub.status.idle": "2021-07-10T13:33:38.230400Z",
     "shell.execute_reply": "2021-07-10T13:33:38.229727Z",
     "shell.execute_reply.started": "2021-07-10T13:13:29.115867Z"
    },
    "papermill": {
     "duration": 8.841849,
     "end_time": "2021-07-10T13:33:38.230541",
     "exception": false,
     "start_time": "2021-07-10T13:33:29.388692",
     "status": "completed"
    },
    "tags": []
   },
   "outputs": [
    {
     "name": "stdout",
     "output_type": "stream",
     "text": [
      "Collecting openpyxl\r\n",
      "  Downloading openpyxl-3.0.7-py2.py3-none-any.whl (243 kB)\r\n",
      "\u001b[K     |████████████████████████████████| 243 kB 3.7 MB/s \r\n",
      "\u001b[?25hCollecting et-xmlfile\r\n",
      "  Downloading et_xmlfile-1.1.0-py3-none-any.whl (4.7 kB)\r\n",
      "Installing collected packages: et-xmlfile, openpyxl\r\n",
      "Successfully installed et-xmlfile-1.1.0 openpyxl-3.0.7\r\n",
      "\u001b[33mWARNING: Running pip as root will break packages and permissions. You should install packages reliably by using venv: https://pip.pypa.io/warnings/venv\u001b[0m\r\n"
     ]
    }
   ],
   "source": [
    "!pip install openpyxl"
   ]
  },
  {
   "cell_type": "code",
   "execution_count": 3,
   "id": "e887bb2a",
   "metadata": {
    "execution": {
     "iopub.execute_input": "2021-07-10T13:33:38.332927Z",
     "iopub.status.busy": "2021-07-10T13:33:38.332302Z",
     "iopub.status.idle": "2021-07-10T13:33:39.233913Z",
     "shell.execute_reply": "2021-07-10T13:33:39.233204Z",
     "shell.execute_reply.started": "2021-07-10T13:13:36.331389Z"
    },
    "papermill": {
     "duration": 0.955541,
     "end_time": "2021-07-10T13:33:39.234065",
     "exception": false,
     "start_time": "2021-07-10T13:33:38.278524",
     "status": "completed"
    },
    "tags": []
   },
   "outputs": [],
   "source": [
    "base = '/kaggle/input/ipl-data-set/'\n",
    "names = ['matches.csv','teamwise_home_and_away.csv','deliveries.csv','most_runs_average_strikerate.csv','teams.csv']\n",
    "for i,name in enumerate(names):\n",
    "    my_code = name[:-4]+'='+'pd.read_csv(\"'+base+name+'\")'\n",
    "    exec(my_code)\n",
    "\n",
    "players = pd.read_excel(base+'Players.xlsx')"
   ]
  },
  {
   "cell_type": "code",
   "execution_count": 4,
   "id": "6f7222e7",
   "metadata": {
    "execution": {
     "iopub.execute_input": "2021-07-10T13:33:39.338895Z",
     "iopub.status.busy": "2021-07-10T13:33:39.338002Z",
     "iopub.status.idle": "2021-07-10T13:33:39.364493Z",
     "shell.execute_reply": "2021-07-10T13:33:39.364977Z",
     "shell.execute_reply.started": "2021-07-10T13:13:36.905682Z"
    },
    "papermill": {
     "duration": 0.083427,
     "end_time": "2021-07-10T13:33:39.365140",
     "exception": false,
     "start_time": "2021-07-10T13:33:39.281713",
     "status": "completed"
    },
    "tags": []
   },
   "outputs": [
    {
     "data": {
      "text/html": [
       "<div>\n",
       "<style scoped>\n",
       "    .dataframe tbody tr th:only-of-type {\n",
       "        vertical-align: middle;\n",
       "    }\n",
       "\n",
       "    .dataframe tbody tr th {\n",
       "        vertical-align: top;\n",
       "    }\n",
       "\n",
       "    .dataframe thead th {\n",
       "        text-align: right;\n",
       "    }\n",
       "</style>\n",
       "<table border=\"1\" class=\"dataframe\">\n",
       "  <thead>\n",
       "    <tr style=\"text-align: right;\">\n",
       "      <th></th>\n",
       "      <th>id</th>\n",
       "      <th>Season</th>\n",
       "      <th>city</th>\n",
       "      <th>date</th>\n",
       "      <th>team1</th>\n",
       "      <th>team2</th>\n",
       "      <th>toss_winner</th>\n",
       "      <th>toss_decision</th>\n",
       "      <th>result</th>\n",
       "      <th>dl_applied</th>\n",
       "      <th>winner</th>\n",
       "      <th>win_by_runs</th>\n",
       "      <th>win_by_wickets</th>\n",
       "      <th>player_of_match</th>\n",
       "      <th>venue</th>\n",
       "      <th>umpire1</th>\n",
       "      <th>umpire2</th>\n",
       "      <th>umpire3</th>\n",
       "    </tr>\n",
       "  </thead>\n",
       "  <tbody>\n",
       "    <tr>\n",
       "      <th>0</th>\n",
       "      <td>1</td>\n",
       "      <td>IPL-2017</td>\n",
       "      <td>Hyderabad</td>\n",
       "      <td>05-04-2017</td>\n",
       "      <td>Sunrisers Hyderabad</td>\n",
       "      <td>Royal Challengers Bangalore</td>\n",
       "      <td>Royal Challengers Bangalore</td>\n",
       "      <td>field</td>\n",
       "      <td>normal</td>\n",
       "      <td>0</td>\n",
       "      <td>Sunrisers Hyderabad</td>\n",
       "      <td>35</td>\n",
       "      <td>0</td>\n",
       "      <td>Yuvraj Singh</td>\n",
       "      <td>Rajiv Gandhi International Stadium, Uppal</td>\n",
       "      <td>AY Dandekar</td>\n",
       "      <td>NJ Llong</td>\n",
       "      <td>NaN</td>\n",
       "    </tr>\n",
       "    <tr>\n",
       "      <th>1</th>\n",
       "      <td>2</td>\n",
       "      <td>IPL-2017</td>\n",
       "      <td>Pune</td>\n",
       "      <td>06-04-2017</td>\n",
       "      <td>Mumbai Indians</td>\n",
       "      <td>Rising Pune Supergiant</td>\n",
       "      <td>Rising Pune Supergiant</td>\n",
       "      <td>field</td>\n",
       "      <td>normal</td>\n",
       "      <td>0</td>\n",
       "      <td>Rising Pune Supergiant</td>\n",
       "      <td>0</td>\n",
       "      <td>7</td>\n",
       "      <td>SPD Smith</td>\n",
       "      <td>Maharashtra Cricket Association Stadium</td>\n",
       "      <td>A Nand Kishore</td>\n",
       "      <td>S Ravi</td>\n",
       "      <td>NaN</td>\n",
       "    </tr>\n",
       "    <tr>\n",
       "      <th>2</th>\n",
       "      <td>3</td>\n",
       "      <td>IPL-2017</td>\n",
       "      <td>Rajkot</td>\n",
       "      <td>07-04-2017</td>\n",
       "      <td>Gujarat Lions</td>\n",
       "      <td>Kolkata Knight Riders</td>\n",
       "      <td>Kolkata Knight Riders</td>\n",
       "      <td>field</td>\n",
       "      <td>normal</td>\n",
       "      <td>0</td>\n",
       "      <td>Kolkata Knight Riders</td>\n",
       "      <td>0</td>\n",
       "      <td>10</td>\n",
       "      <td>CA Lynn</td>\n",
       "      <td>Saurashtra Cricket Association Stadium</td>\n",
       "      <td>Nitin Menon</td>\n",
       "      <td>CK Nandan</td>\n",
       "      <td>NaN</td>\n",
       "    </tr>\n",
       "    <tr>\n",
       "      <th>3</th>\n",
       "      <td>4</td>\n",
       "      <td>IPL-2017</td>\n",
       "      <td>Indore</td>\n",
       "      <td>08-04-2017</td>\n",
       "      <td>Rising Pune Supergiant</td>\n",
       "      <td>Kings XI Punjab</td>\n",
       "      <td>Kings XI Punjab</td>\n",
       "      <td>field</td>\n",
       "      <td>normal</td>\n",
       "      <td>0</td>\n",
       "      <td>Kings XI Punjab</td>\n",
       "      <td>0</td>\n",
       "      <td>6</td>\n",
       "      <td>GJ Maxwell</td>\n",
       "      <td>Holkar Cricket Stadium</td>\n",
       "      <td>AK Chaudhary</td>\n",
       "      <td>C Shamshuddin</td>\n",
       "      <td>NaN</td>\n",
       "    </tr>\n",
       "    <tr>\n",
       "      <th>4</th>\n",
       "      <td>5</td>\n",
       "      <td>IPL-2017</td>\n",
       "      <td>Bangalore</td>\n",
       "      <td>08-04-2017</td>\n",
       "      <td>Royal Challengers Bangalore</td>\n",
       "      <td>Delhi Daredevils</td>\n",
       "      <td>Royal Challengers Bangalore</td>\n",
       "      <td>bat</td>\n",
       "      <td>normal</td>\n",
       "      <td>0</td>\n",
       "      <td>Royal Challengers Bangalore</td>\n",
       "      <td>15</td>\n",
       "      <td>0</td>\n",
       "      <td>KM Jadhav</td>\n",
       "      <td>M Chinnaswamy Stadium</td>\n",
       "      <td>NaN</td>\n",
       "      <td>NaN</td>\n",
       "      <td>NaN</td>\n",
       "    </tr>\n",
       "  </tbody>\n",
       "</table>\n",
       "</div>"
      ],
      "text/plain": [
       "   id    Season       city        date                        team1  \\\n",
       "0   1  IPL-2017  Hyderabad  05-04-2017          Sunrisers Hyderabad   \n",
       "1   2  IPL-2017       Pune  06-04-2017               Mumbai Indians   \n",
       "2   3  IPL-2017     Rajkot  07-04-2017                Gujarat Lions   \n",
       "3   4  IPL-2017     Indore  08-04-2017       Rising Pune Supergiant   \n",
       "4   5  IPL-2017  Bangalore  08-04-2017  Royal Challengers Bangalore   \n",
       "\n",
       "                         team2                  toss_winner toss_decision  \\\n",
       "0  Royal Challengers Bangalore  Royal Challengers Bangalore         field   \n",
       "1       Rising Pune Supergiant       Rising Pune Supergiant         field   \n",
       "2        Kolkata Knight Riders        Kolkata Knight Riders         field   \n",
       "3              Kings XI Punjab              Kings XI Punjab         field   \n",
       "4             Delhi Daredevils  Royal Challengers Bangalore           bat   \n",
       "\n",
       "   result  dl_applied                       winner  win_by_runs  \\\n",
       "0  normal           0          Sunrisers Hyderabad           35   \n",
       "1  normal           0       Rising Pune Supergiant            0   \n",
       "2  normal           0        Kolkata Knight Riders            0   \n",
       "3  normal           0              Kings XI Punjab            0   \n",
       "4  normal           0  Royal Challengers Bangalore           15   \n",
       "\n",
       "   win_by_wickets player_of_match                                      venue  \\\n",
       "0               0    Yuvraj Singh  Rajiv Gandhi International Stadium, Uppal   \n",
       "1               7       SPD Smith    Maharashtra Cricket Association Stadium   \n",
       "2              10         CA Lynn     Saurashtra Cricket Association Stadium   \n",
       "3               6      GJ Maxwell                     Holkar Cricket Stadium   \n",
       "4               0       KM Jadhav                      M Chinnaswamy Stadium   \n",
       "\n",
       "          umpire1        umpire2 umpire3  \n",
       "0     AY Dandekar       NJ Llong     NaN  \n",
       "1  A Nand Kishore         S Ravi     NaN  \n",
       "2     Nitin Menon      CK Nandan     NaN  \n",
       "3    AK Chaudhary  C Shamshuddin     NaN  \n",
       "4             NaN            NaN     NaN  "
      ]
     },
     "execution_count": 4,
     "metadata": {},
     "output_type": "execute_result"
    }
   ],
   "source": [
    "matches.head()"
   ]
  },
  {
   "cell_type": "code",
   "execution_count": 5,
   "id": "0dfc1d2d",
   "metadata": {
    "execution": {
     "iopub.execute_input": "2021-07-10T13:33:39.475678Z",
     "iopub.status.busy": "2021-07-10T13:33:39.475034Z",
     "iopub.status.idle": "2021-07-10T13:33:39.481143Z",
     "shell.execute_reply": "2021-07-10T13:33:39.480540Z",
     "shell.execute_reply.started": "2021-07-10T13:13:36.933183Z"
    },
    "papermill": {
     "duration": 0.067375,
     "end_time": "2021-07-10T13:33:39.481269",
     "exception": false,
     "start_time": "2021-07-10T13:33:39.413894",
     "status": "completed"
    },
    "tags": []
   },
   "outputs": [
    {
     "data": {
      "text/html": [
       "<div>\n",
       "<style scoped>\n",
       "    .dataframe tbody tr th:only-of-type {\n",
       "        vertical-align: middle;\n",
       "    }\n",
       "\n",
       "    .dataframe tbody tr th {\n",
       "        vertical-align: top;\n",
       "    }\n",
       "\n",
       "    .dataframe thead th {\n",
       "        text-align: right;\n",
       "    }\n",
       "</style>\n",
       "<table border=\"1\" class=\"dataframe\">\n",
       "  <thead>\n",
       "    <tr style=\"text-align: right;\">\n",
       "      <th></th>\n",
       "      <th>team</th>\n",
       "      <th>home_wins</th>\n",
       "      <th>away_wins</th>\n",
       "      <th>home_matches</th>\n",
       "      <th>away_matches</th>\n",
       "      <th>home_win_percentage</th>\n",
       "      <th>away_win_percentage</th>\n",
       "    </tr>\n",
       "  </thead>\n",
       "  <tbody>\n",
       "    <tr>\n",
       "      <th>0</th>\n",
       "      <td>Rising Pune Supergiant</td>\n",
       "      <td>5</td>\n",
       "      <td>5</td>\n",
       "      <td>8</td>\n",
       "      <td>8</td>\n",
       "      <td>62.500000</td>\n",
       "      <td>62.500000</td>\n",
       "    </tr>\n",
       "    <tr>\n",
       "      <th>1</th>\n",
       "      <td>Mumbai Indians</td>\n",
       "      <td>58</td>\n",
       "      <td>51</td>\n",
       "      <td>101</td>\n",
       "      <td>86</td>\n",
       "      <td>57.425743</td>\n",
       "      <td>59.302326</td>\n",
       "    </tr>\n",
       "    <tr>\n",
       "      <th>2</th>\n",
       "      <td>Chennai Super Kings</td>\n",
       "      <td>51</td>\n",
       "      <td>49</td>\n",
       "      <td>89</td>\n",
       "      <td>75</td>\n",
       "      <td>57.303371</td>\n",
       "      <td>65.333333</td>\n",
       "    </tr>\n",
       "    <tr>\n",
       "      <th>3</th>\n",
       "      <td>Delhi Capitals</td>\n",
       "      <td>3</td>\n",
       "      <td>7</td>\n",
       "      <td>6</td>\n",
       "      <td>10</td>\n",
       "      <td>50.000000</td>\n",
       "      <td>70.000000</td>\n",
       "    </tr>\n",
       "    <tr>\n",
       "      <th>4</th>\n",
       "      <td>Sunrisers Hyderabad</td>\n",
       "      <td>30</td>\n",
       "      <td>28</td>\n",
       "      <td>63</td>\n",
       "      <td>45</td>\n",
       "      <td>47.619048</td>\n",
       "      <td>62.222222</td>\n",
       "    </tr>\n",
       "    <tr>\n",
       "      <th>5</th>\n",
       "      <td>Rajasthan Royals</td>\n",
       "      <td>29</td>\n",
       "      <td>46</td>\n",
       "      <td>67</td>\n",
       "      <td>80</td>\n",
       "      <td>43.283582</td>\n",
       "      <td>57.500000</td>\n",
       "    </tr>\n",
       "    <tr>\n",
       "      <th>6</th>\n",
       "      <td>Deccan Chargers</td>\n",
       "      <td>18</td>\n",
       "      <td>11</td>\n",
       "      <td>43</td>\n",
       "      <td>32</td>\n",
       "      <td>41.860465</td>\n",
       "      <td>34.375000</td>\n",
       "    </tr>\n",
       "    <tr>\n",
       "      <th>7</th>\n",
       "      <td>Kings XI Punjab</td>\n",
       "      <td>38</td>\n",
       "      <td>44</td>\n",
       "      <td>91</td>\n",
       "      <td>85</td>\n",
       "      <td>41.758242</td>\n",
       "      <td>51.764706</td>\n",
       "    </tr>\n",
       "    <tr>\n",
       "      <th>8</th>\n",
       "      <td>Royal Challengers Bangalore</td>\n",
       "      <td>35</td>\n",
       "      <td>49</td>\n",
       "      <td>85</td>\n",
       "      <td>95</td>\n",
       "      <td>41.176471</td>\n",
       "      <td>51.578947</td>\n",
       "    </tr>\n",
       "    <tr>\n",
       "      <th>9</th>\n",
       "      <td>Kolkata Knight Riders</td>\n",
       "      <td>34</td>\n",
       "      <td>58</td>\n",
       "      <td>83</td>\n",
       "      <td>95</td>\n",
       "      <td>40.963855</td>\n",
       "      <td>61.052632</td>\n",
       "    </tr>\n",
       "    <tr>\n",
       "      <th>10</th>\n",
       "      <td>Delhi Daredevils</td>\n",
       "      <td>25</td>\n",
       "      <td>42</td>\n",
       "      <td>72</td>\n",
       "      <td>89</td>\n",
       "      <td>34.722222</td>\n",
       "      <td>47.191011</td>\n",
       "    </tr>\n",
       "    <tr>\n",
       "      <th>11</th>\n",
       "      <td>Pune Warriors</td>\n",
       "      <td>6</td>\n",
       "      <td>6</td>\n",
       "      <td>20</td>\n",
       "      <td>26</td>\n",
       "      <td>30.000000</td>\n",
       "      <td>23.076923</td>\n",
       "    </tr>\n",
       "    <tr>\n",
       "      <th>12</th>\n",
       "      <td>Kochi Tuskers Kerala</td>\n",
       "      <td>2</td>\n",
       "      <td>4</td>\n",
       "      <td>7</td>\n",
       "      <td>7</td>\n",
       "      <td>28.571429</td>\n",
       "      <td>57.142857</td>\n",
       "    </tr>\n",
       "    <tr>\n",
       "      <th>13</th>\n",
       "      <td>Gujarat Lions</td>\n",
       "      <td>1</td>\n",
       "      <td>12</td>\n",
       "      <td>14</td>\n",
       "      <td>16</td>\n",
       "      <td>7.142857</td>\n",
       "      <td>75.000000</td>\n",
       "    </tr>\n",
       "  </tbody>\n",
       "</table>\n",
       "</div>"
      ],
      "text/plain": [
       "                           team  home_wins  away_wins  home_matches  \\\n",
       "0        Rising Pune Supergiant          5          5             8   \n",
       "1                Mumbai Indians         58         51           101   \n",
       "2           Chennai Super Kings         51         49            89   \n",
       "3                Delhi Capitals          3          7             6   \n",
       "4           Sunrisers Hyderabad         30         28            63   \n",
       "5              Rajasthan Royals         29         46            67   \n",
       "6               Deccan Chargers         18         11            43   \n",
       "7               Kings XI Punjab         38         44            91   \n",
       "8   Royal Challengers Bangalore         35         49            85   \n",
       "9         Kolkata Knight Riders         34         58            83   \n",
       "10             Delhi Daredevils         25         42            72   \n",
       "11                Pune Warriors          6          6            20   \n",
       "12         Kochi Tuskers Kerala          2          4             7   \n",
       "13                Gujarat Lions          1         12            14   \n",
       "\n",
       "    away_matches  home_win_percentage  away_win_percentage  \n",
       "0              8            62.500000            62.500000  \n",
       "1             86            57.425743            59.302326  \n",
       "2             75            57.303371            65.333333  \n",
       "3             10            50.000000            70.000000  \n",
       "4             45            47.619048            62.222222  \n",
       "5             80            43.283582            57.500000  \n",
       "6             32            41.860465            34.375000  \n",
       "7             85            41.758242            51.764706  \n",
       "8             95            41.176471            51.578947  \n",
       "9             95            40.963855            61.052632  \n",
       "10            89            34.722222            47.191011  \n",
       "11            26            30.000000            23.076923  \n",
       "12             7            28.571429            57.142857  \n",
       "13            16             7.142857            75.000000  "
      ]
     },
     "execution_count": 5,
     "metadata": {},
     "output_type": "execute_result"
    }
   ],
   "source": [
    "teamwise_home_and_away"
   ]
  },
  {
   "cell_type": "code",
   "execution_count": 6,
   "id": "87f16afc",
   "metadata": {
    "execution": {
     "iopub.execute_input": "2021-07-10T13:33:39.601923Z",
     "iopub.status.busy": "2021-07-10T13:33:39.595080Z",
     "iopub.status.idle": "2021-07-10T13:33:39.606597Z",
     "shell.execute_reply": "2021-07-10T13:33:39.605951Z",
     "shell.execute_reply.started": "2021-07-10T13:13:36.955166Z"
    },
    "papermill": {
     "duration": 0.076524,
     "end_time": "2021-07-10T13:33:39.606734",
     "exception": false,
     "start_time": "2021-07-10T13:33:39.530210",
     "status": "completed"
    },
    "tags": []
   },
   "outputs": [
    {
     "data": {
      "text/html": [
       "<div>\n",
       "<style scoped>\n",
       "    .dataframe tbody tr th:only-of-type {\n",
       "        vertical-align: middle;\n",
       "    }\n",
       "\n",
       "    .dataframe tbody tr th {\n",
       "        vertical-align: top;\n",
       "    }\n",
       "\n",
       "    .dataframe thead th {\n",
       "        text-align: right;\n",
       "    }\n",
       "</style>\n",
       "<table border=\"1\" class=\"dataframe\">\n",
       "  <thead>\n",
       "    <tr style=\"text-align: right;\">\n",
       "      <th></th>\n",
       "      <th>match_id</th>\n",
       "      <th>inning</th>\n",
       "      <th>batting_team</th>\n",
       "      <th>bowling_team</th>\n",
       "      <th>over</th>\n",
       "      <th>ball</th>\n",
       "      <th>batsman</th>\n",
       "      <th>non_striker</th>\n",
       "      <th>bowler</th>\n",
       "      <th>is_super_over</th>\n",
       "      <th>...</th>\n",
       "      <th>bye_runs</th>\n",
       "      <th>legbye_runs</th>\n",
       "      <th>noball_runs</th>\n",
       "      <th>penalty_runs</th>\n",
       "      <th>batsman_runs</th>\n",
       "      <th>extra_runs</th>\n",
       "      <th>total_runs</th>\n",
       "      <th>player_dismissed</th>\n",
       "      <th>dismissal_kind</th>\n",
       "      <th>fielder</th>\n",
       "    </tr>\n",
       "  </thead>\n",
       "  <tbody>\n",
       "    <tr>\n",
       "      <th>0</th>\n",
       "      <td>1</td>\n",
       "      <td>1</td>\n",
       "      <td>Sunrisers Hyderabad</td>\n",
       "      <td>Royal Challengers Bangalore</td>\n",
       "      <td>1</td>\n",
       "      <td>1</td>\n",
       "      <td>DA Warner</td>\n",
       "      <td>S Dhawan</td>\n",
       "      <td>TS Mills</td>\n",
       "      <td>0</td>\n",
       "      <td>...</td>\n",
       "      <td>0</td>\n",
       "      <td>0</td>\n",
       "      <td>0</td>\n",
       "      <td>0</td>\n",
       "      <td>0</td>\n",
       "      <td>0</td>\n",
       "      <td>0</td>\n",
       "      <td>NaN</td>\n",
       "      <td>NaN</td>\n",
       "      <td>NaN</td>\n",
       "    </tr>\n",
       "    <tr>\n",
       "      <th>1</th>\n",
       "      <td>1</td>\n",
       "      <td>1</td>\n",
       "      <td>Sunrisers Hyderabad</td>\n",
       "      <td>Royal Challengers Bangalore</td>\n",
       "      <td>1</td>\n",
       "      <td>2</td>\n",
       "      <td>DA Warner</td>\n",
       "      <td>S Dhawan</td>\n",
       "      <td>TS Mills</td>\n",
       "      <td>0</td>\n",
       "      <td>...</td>\n",
       "      <td>0</td>\n",
       "      <td>0</td>\n",
       "      <td>0</td>\n",
       "      <td>0</td>\n",
       "      <td>0</td>\n",
       "      <td>0</td>\n",
       "      <td>0</td>\n",
       "      <td>NaN</td>\n",
       "      <td>NaN</td>\n",
       "      <td>NaN</td>\n",
       "    </tr>\n",
       "    <tr>\n",
       "      <th>2</th>\n",
       "      <td>1</td>\n",
       "      <td>1</td>\n",
       "      <td>Sunrisers Hyderabad</td>\n",
       "      <td>Royal Challengers Bangalore</td>\n",
       "      <td>1</td>\n",
       "      <td>3</td>\n",
       "      <td>DA Warner</td>\n",
       "      <td>S Dhawan</td>\n",
       "      <td>TS Mills</td>\n",
       "      <td>0</td>\n",
       "      <td>...</td>\n",
       "      <td>0</td>\n",
       "      <td>0</td>\n",
       "      <td>0</td>\n",
       "      <td>0</td>\n",
       "      <td>4</td>\n",
       "      <td>0</td>\n",
       "      <td>4</td>\n",
       "      <td>NaN</td>\n",
       "      <td>NaN</td>\n",
       "      <td>NaN</td>\n",
       "    </tr>\n",
       "    <tr>\n",
       "      <th>3</th>\n",
       "      <td>1</td>\n",
       "      <td>1</td>\n",
       "      <td>Sunrisers Hyderabad</td>\n",
       "      <td>Royal Challengers Bangalore</td>\n",
       "      <td>1</td>\n",
       "      <td>4</td>\n",
       "      <td>DA Warner</td>\n",
       "      <td>S Dhawan</td>\n",
       "      <td>TS Mills</td>\n",
       "      <td>0</td>\n",
       "      <td>...</td>\n",
       "      <td>0</td>\n",
       "      <td>0</td>\n",
       "      <td>0</td>\n",
       "      <td>0</td>\n",
       "      <td>0</td>\n",
       "      <td>0</td>\n",
       "      <td>0</td>\n",
       "      <td>NaN</td>\n",
       "      <td>NaN</td>\n",
       "      <td>NaN</td>\n",
       "    </tr>\n",
       "    <tr>\n",
       "      <th>4</th>\n",
       "      <td>1</td>\n",
       "      <td>1</td>\n",
       "      <td>Sunrisers Hyderabad</td>\n",
       "      <td>Royal Challengers Bangalore</td>\n",
       "      <td>1</td>\n",
       "      <td>5</td>\n",
       "      <td>DA Warner</td>\n",
       "      <td>S Dhawan</td>\n",
       "      <td>TS Mills</td>\n",
       "      <td>0</td>\n",
       "      <td>...</td>\n",
       "      <td>0</td>\n",
       "      <td>0</td>\n",
       "      <td>0</td>\n",
       "      <td>0</td>\n",
       "      <td>0</td>\n",
       "      <td>2</td>\n",
       "      <td>2</td>\n",
       "      <td>NaN</td>\n",
       "      <td>NaN</td>\n",
       "      <td>NaN</td>\n",
       "    </tr>\n",
       "  </tbody>\n",
       "</table>\n",
       "<p>5 rows × 21 columns</p>\n",
       "</div>"
      ],
      "text/plain": [
       "   match_id  inning         batting_team                 bowling_team  over  \\\n",
       "0         1       1  Sunrisers Hyderabad  Royal Challengers Bangalore     1   \n",
       "1         1       1  Sunrisers Hyderabad  Royal Challengers Bangalore     1   \n",
       "2         1       1  Sunrisers Hyderabad  Royal Challengers Bangalore     1   \n",
       "3         1       1  Sunrisers Hyderabad  Royal Challengers Bangalore     1   \n",
       "4         1       1  Sunrisers Hyderabad  Royal Challengers Bangalore     1   \n",
       "\n",
       "   ball    batsman non_striker    bowler  is_super_over  ...  bye_runs  \\\n",
       "0     1  DA Warner    S Dhawan  TS Mills              0  ...         0   \n",
       "1     2  DA Warner    S Dhawan  TS Mills              0  ...         0   \n",
       "2     3  DA Warner    S Dhawan  TS Mills              0  ...         0   \n",
       "3     4  DA Warner    S Dhawan  TS Mills              0  ...         0   \n",
       "4     5  DA Warner    S Dhawan  TS Mills              0  ...         0   \n",
       "\n",
       "   legbye_runs  noball_runs  penalty_runs  batsman_runs  extra_runs  \\\n",
       "0            0            0             0             0           0   \n",
       "1            0            0             0             0           0   \n",
       "2            0            0             0             4           0   \n",
       "3            0            0             0             0           0   \n",
       "4            0            0             0             0           2   \n",
       "\n",
       "   total_runs  player_dismissed dismissal_kind fielder  \n",
       "0           0               NaN            NaN     NaN  \n",
       "1           0               NaN            NaN     NaN  \n",
       "2           4               NaN            NaN     NaN  \n",
       "3           0               NaN            NaN     NaN  \n",
       "4           2               NaN            NaN     NaN  \n",
       "\n",
       "[5 rows x 21 columns]"
      ]
     },
     "execution_count": 6,
     "metadata": {},
     "output_type": "execute_result"
    }
   ],
   "source": [
    "deliveries.head()"
   ]
  },
  {
   "cell_type": "code",
   "execution_count": 7,
   "id": "b4e50316",
   "metadata": {
    "execution": {
     "iopub.execute_input": "2021-07-10T13:33:39.718102Z",
     "iopub.status.busy": "2021-07-10T13:33:39.717494Z",
     "iopub.status.idle": "2021-07-10T13:33:39.721592Z",
     "shell.execute_reply": "2021-07-10T13:33:39.721067Z",
     "shell.execute_reply.started": "2021-07-10T13:13:36.990703Z"
    },
    "papermill": {
     "duration": 0.064948,
     "end_time": "2021-07-10T13:33:39.721723",
     "exception": false,
     "start_time": "2021-07-10T13:33:39.656775",
     "status": "completed"
    },
    "tags": []
   },
   "outputs": [
    {
     "data": {
      "text/html": [
       "<div>\n",
       "<style scoped>\n",
       "    .dataframe tbody tr th:only-of-type {\n",
       "        vertical-align: middle;\n",
       "    }\n",
       "\n",
       "    .dataframe tbody tr th {\n",
       "        vertical-align: top;\n",
       "    }\n",
       "\n",
       "    .dataframe thead th {\n",
       "        text-align: right;\n",
       "    }\n",
       "</style>\n",
       "<table border=\"1\" class=\"dataframe\">\n",
       "  <thead>\n",
       "    <tr style=\"text-align: right;\">\n",
       "      <th></th>\n",
       "      <th>batsman</th>\n",
       "      <th>total_runs</th>\n",
       "      <th>out</th>\n",
       "      <th>numberofballs</th>\n",
       "      <th>average</th>\n",
       "      <th>strikerate</th>\n",
       "    </tr>\n",
       "  </thead>\n",
       "  <tbody>\n",
       "    <tr>\n",
       "      <th>0</th>\n",
       "      <td>V Kohli</td>\n",
       "      <td>5426</td>\n",
       "      <td>152</td>\n",
       "      <td>4111</td>\n",
       "      <td>35.697368</td>\n",
       "      <td>131.987351</td>\n",
       "    </tr>\n",
       "    <tr>\n",
       "      <th>1</th>\n",
       "      <td>SK Raina</td>\n",
       "      <td>5386</td>\n",
       "      <td>160</td>\n",
       "      <td>3916</td>\n",
       "      <td>33.662500</td>\n",
       "      <td>137.538304</td>\n",
       "    </tr>\n",
       "    <tr>\n",
       "      <th>2</th>\n",
       "      <td>RG Sharma</td>\n",
       "      <td>4902</td>\n",
       "      <td>161</td>\n",
       "      <td>3742</td>\n",
       "      <td>30.447205</td>\n",
       "      <td>130.999466</td>\n",
       "    </tr>\n",
       "    <tr>\n",
       "      <th>3</th>\n",
       "      <td>DA Warner</td>\n",
       "      <td>4717</td>\n",
       "      <td>114</td>\n",
       "      <td>3292</td>\n",
       "      <td>41.377193</td>\n",
       "      <td>143.286756</td>\n",
       "    </tr>\n",
       "    <tr>\n",
       "      <th>4</th>\n",
       "      <td>S Dhawan</td>\n",
       "      <td>4601</td>\n",
       "      <td>137</td>\n",
       "      <td>3665</td>\n",
       "      <td>33.583942</td>\n",
       "      <td>125.538881</td>\n",
       "    </tr>\n",
       "  </tbody>\n",
       "</table>\n",
       "</div>"
      ],
      "text/plain": [
       "     batsman  total_runs  out  numberofballs    average  strikerate\n",
       "0    V Kohli        5426  152           4111  35.697368  131.987351\n",
       "1   SK Raina        5386  160           3916  33.662500  137.538304\n",
       "2  RG Sharma        4902  161           3742  30.447205  130.999466\n",
       "3  DA Warner        4717  114           3292  41.377193  143.286756\n",
       "4   S Dhawan        4601  137           3665  33.583942  125.538881"
      ]
     },
     "execution_count": 7,
     "metadata": {},
     "output_type": "execute_result"
    }
   ],
   "source": [
    "most_runs_average_strikerate.head()"
   ]
  },
  {
   "cell_type": "code",
   "execution_count": 8,
   "id": "d4b061b2",
   "metadata": {
    "execution": {
     "iopub.execute_input": "2021-07-10T13:33:39.828739Z",
     "iopub.status.busy": "2021-07-10T13:33:39.827886Z",
     "iopub.status.idle": "2021-07-10T13:33:39.831196Z",
     "shell.execute_reply": "2021-07-10T13:33:39.831646Z",
     "shell.execute_reply.started": "2021-07-10T13:13:37.015753Z"
    },
    "papermill": {
     "duration": 0.060478,
     "end_time": "2021-07-10T13:33:39.831806",
     "exception": false,
     "start_time": "2021-07-10T13:33:39.771328",
     "status": "completed"
    },
    "tags": []
   },
   "outputs": [
    {
     "data": {
      "text/html": [
       "<div>\n",
       "<style scoped>\n",
       "    .dataframe tbody tr th:only-of-type {\n",
       "        vertical-align: middle;\n",
       "    }\n",
       "\n",
       "    .dataframe tbody tr th {\n",
       "        vertical-align: top;\n",
       "    }\n",
       "\n",
       "    .dataframe thead th {\n",
       "        text-align: right;\n",
       "    }\n",
       "</style>\n",
       "<table border=\"1\" class=\"dataframe\">\n",
       "  <thead>\n",
       "    <tr style=\"text-align: right;\">\n",
       "      <th></th>\n",
       "      <th>team1</th>\n",
       "    </tr>\n",
       "  </thead>\n",
       "  <tbody>\n",
       "    <tr>\n",
       "      <th>0</th>\n",
       "      <td>Pune Warriors</td>\n",
       "    </tr>\n",
       "    <tr>\n",
       "      <th>1</th>\n",
       "      <td>Kolkata Knight Riders</td>\n",
       "    </tr>\n",
       "    <tr>\n",
       "      <th>2</th>\n",
       "      <td>Rajasthan Royals</td>\n",
       "    </tr>\n",
       "    <tr>\n",
       "      <th>3</th>\n",
       "      <td>Kochi Tuskers Kerala</td>\n",
       "    </tr>\n",
       "    <tr>\n",
       "      <th>4</th>\n",
       "      <td>Gujarat Lions</td>\n",
       "    </tr>\n",
       "  </tbody>\n",
       "</table>\n",
       "</div>"
      ],
      "text/plain": [
       "                   team1\n",
       "0          Pune Warriors\n",
       "1  Kolkata Knight Riders\n",
       "2       Rajasthan Royals\n",
       "3   Kochi Tuskers Kerala\n",
       "4          Gujarat Lions"
      ]
     },
     "execution_count": 8,
     "metadata": {},
     "output_type": "execute_result"
    }
   ],
   "source": [
    "teams.head()"
   ]
  },
  {
   "cell_type": "code",
   "execution_count": 9,
   "id": "81793f24",
   "metadata": {
    "execution": {
     "iopub.execute_input": "2021-07-10T13:33:39.940446Z",
     "iopub.status.busy": "2021-07-10T13:33:39.939807Z",
     "iopub.status.idle": "2021-07-10T13:33:39.951165Z",
     "shell.execute_reply": "2021-07-10T13:33:39.950535Z",
     "shell.execute_reply.started": "2021-07-10T13:13:37.029444Z"
    },
    "papermill": {
     "duration": 0.067293,
     "end_time": "2021-07-10T13:33:39.951289",
     "exception": false,
     "start_time": "2021-07-10T13:33:39.883996",
     "status": "completed"
    },
    "tags": []
   },
   "outputs": [
    {
     "data": {
      "text/html": [
       "<div>\n",
       "<style scoped>\n",
       "    .dataframe tbody tr th:only-of-type {\n",
       "        vertical-align: middle;\n",
       "    }\n",
       "\n",
       "    .dataframe tbody tr th {\n",
       "        vertical-align: top;\n",
       "    }\n",
       "\n",
       "    .dataframe thead th {\n",
       "        text-align: right;\n",
       "    }\n",
       "</style>\n",
       "<table border=\"1\" class=\"dataframe\">\n",
       "  <thead>\n",
       "    <tr style=\"text-align: right;\">\n",
       "      <th></th>\n",
       "      <th>Player_Name</th>\n",
       "      <th>DOB</th>\n",
       "      <th>Batting_Hand</th>\n",
       "      <th>Bowling_Skill</th>\n",
       "      <th>Country</th>\n",
       "    </tr>\n",
       "  </thead>\n",
       "  <tbody>\n",
       "    <tr>\n",
       "      <th>0</th>\n",
       "      <td>A Ashish Reddy</td>\n",
       "      <td>1991-02-24</td>\n",
       "      <td>Right_Hand</td>\n",
       "      <td>Right-arm medium</td>\n",
       "      <td>India</td>\n",
       "    </tr>\n",
       "    <tr>\n",
       "      <th>1</th>\n",
       "      <td>A Chandila</td>\n",
       "      <td>1983-12-05</td>\n",
       "      <td>Right_Hand</td>\n",
       "      <td>Right-arm offbreak</td>\n",
       "      <td>India</td>\n",
       "    </tr>\n",
       "    <tr>\n",
       "      <th>2</th>\n",
       "      <td>A Chopra</td>\n",
       "      <td>1977-09-19</td>\n",
       "      <td>Right_Hand</td>\n",
       "      <td>Right-arm offbreak</td>\n",
       "      <td>India</td>\n",
       "    </tr>\n",
       "    <tr>\n",
       "      <th>3</th>\n",
       "      <td>A Choudhary</td>\n",
       "      <td>NaT</td>\n",
       "      <td>Right_hand</td>\n",
       "      <td>Left-arm fast-medium</td>\n",
       "      <td>NaN</td>\n",
       "    </tr>\n",
       "    <tr>\n",
       "      <th>4</th>\n",
       "      <td>A Dananjaya</td>\n",
       "      <td>NaT</td>\n",
       "      <td>Right_Hand</td>\n",
       "      <td>Right-arm offbreak</td>\n",
       "      <td>NaN</td>\n",
       "    </tr>\n",
       "  </tbody>\n",
       "</table>\n",
       "</div>"
      ],
      "text/plain": [
       "      Player_Name        DOB Batting_Hand         Bowling_Skill Country\n",
       "0  A Ashish Reddy 1991-02-24   Right_Hand      Right-arm medium   India\n",
       "1      A Chandila 1983-12-05   Right_Hand    Right-arm offbreak   India\n",
       "2        A Chopra 1977-09-19   Right_Hand    Right-arm offbreak   India\n",
       "3     A Choudhary        NaT   Right_hand  Left-arm fast-medium     NaN\n",
       "4     A Dananjaya        NaT   Right_Hand    Right-arm offbreak     NaN"
      ]
     },
     "execution_count": 9,
     "metadata": {},
     "output_type": "execute_result"
    }
   ],
   "source": [
    "players.head()"
   ]
  },
  {
   "cell_type": "markdown",
   "id": "2f811791",
   "metadata": {
    "papermill": {
     "duration": 0.05165,
     "end_time": "2021-07-10T13:33:40.053979",
     "exception": false,
     "start_time": "2021-07-10T13:33:40.002329",
     "status": "completed"
    },
    "tags": []
   },
   "source": [
    "# Let's start cleaning"
   ]
  },
  {
   "cell_type": "markdown",
   "id": "7a480236",
   "metadata": {
    "papermill": {
     "duration": 0.050713,
     "end_time": "2021-07-10T13:33:40.158579",
     "exception": false,
     "start_time": "2021-07-10T13:33:40.107866",
     "status": "completed"
    },
    "tags": []
   },
   "source": [
    "##  Matches"
   ]
  },
  {
   "cell_type": "code",
   "execution_count": 10,
   "id": "5ee858fd",
   "metadata": {
    "execution": {
     "iopub.execute_input": "2021-07-10T13:33:40.282445Z",
     "iopub.status.busy": "2021-07-10T13:33:40.281811Z",
     "iopub.status.idle": "2021-07-10T13:33:40.285343Z",
     "shell.execute_reply": "2021-07-10T13:33:40.284735Z",
     "shell.execute_reply.started": "2021-07-10T13:13:37.046115Z"
    },
    "papermill": {
     "duration": 0.074835,
     "end_time": "2021-07-10T13:33:40.285510",
     "exception": false,
     "start_time": "2021-07-10T13:33:40.210675",
     "status": "completed"
    },
    "tags": []
   },
   "outputs": [
    {
     "name": "stdout",
     "output_type": "stream",
     "text": [
      "<class 'pandas.core.frame.DataFrame'>\n",
      "RangeIndex: 756 entries, 0 to 755\n",
      "Data columns (total 18 columns):\n",
      " #   Column           Non-Null Count  Dtype \n",
      "---  ------           --------------  ----- \n",
      " 0   id               756 non-null    int64 \n",
      " 1   Season           756 non-null    object\n",
      " 2   city             749 non-null    object\n",
      " 3   date             756 non-null    object\n",
      " 4   team1            756 non-null    object\n",
      " 5   team2            756 non-null    object\n",
      " 6   toss_winner      756 non-null    object\n",
      " 7   toss_decision    756 non-null    object\n",
      " 8   result           756 non-null    object\n",
      " 9   dl_applied       756 non-null    int64 \n",
      " 10  winner           752 non-null    object\n",
      " 11  win_by_runs      756 non-null    int64 \n",
      " 12  win_by_wickets   756 non-null    int64 \n",
      " 13  player_of_match  752 non-null    object\n",
      " 14  venue            756 non-null    object\n",
      " 15  umpire1          754 non-null    object\n",
      " 16  umpire2          754 non-null    object\n",
      " 17  umpire3          119 non-null    object\n",
      "dtypes: int64(4), object(14)\n",
      "memory usage: 106.4+ KB\n"
     ]
    }
   ],
   "source": [
    "matches.info()"
   ]
  },
  {
   "cell_type": "markdown",
   "id": "20c39ae5",
   "metadata": {
    "papermill": {
     "duration": 0.051083,
     "end_time": "2021-07-10T13:33:40.388069",
     "exception": false,
     "start_time": "2021-07-10T13:33:40.336986",
     "status": "completed"
    },
    "tags": []
   },
   "source": [
    "## Columns has null values are:\n",
    "* city\n",
    "* winner\n",
    "* player_of_match\n",
    "* umpire 1\n",
    "* umpire 2\n",
    "* umpire 3"
   ]
  },
  {
   "cell_type": "markdown",
   "id": "da162a04",
   "metadata": {
    "papermill": {
     "duration": 0.050706,
     "end_time": "2021-07-10T13:33:40.489585",
     "exception": false,
     "start_time": "2021-07-10T13:33:40.438879",
     "status": "completed"
    },
    "tags": []
   },
   "source": [
    "### Let's look into the city column first"
   ]
  },
  {
   "cell_type": "code",
   "execution_count": 11,
   "id": "7f89b3bb",
   "metadata": {
    "execution": {
     "iopub.execute_input": "2021-07-10T13:33:40.606660Z",
     "iopub.status.busy": "2021-07-10T13:33:40.605619Z",
     "iopub.status.idle": "2021-07-10T13:33:40.619424Z",
     "shell.execute_reply": "2021-07-10T13:33:40.618817Z",
     "shell.execute_reply.started": "2021-07-10T13:13:37.074102Z"
    },
    "papermill": {
     "duration": 0.079087,
     "end_time": "2021-07-10T13:33:40.619567",
     "exception": false,
     "start_time": "2021-07-10T13:33:40.540480",
     "status": "completed"
    },
    "tags": []
   },
   "outputs": [
    {
     "data": {
      "text/html": [
       "<div>\n",
       "<style scoped>\n",
       "    .dataframe tbody tr th:only-of-type {\n",
       "        vertical-align: middle;\n",
       "    }\n",
       "\n",
       "    .dataframe tbody tr th {\n",
       "        vertical-align: top;\n",
       "    }\n",
       "\n",
       "    .dataframe thead th {\n",
       "        text-align: right;\n",
       "    }\n",
       "</style>\n",
       "<table border=\"1\" class=\"dataframe\">\n",
       "  <thead>\n",
       "    <tr style=\"text-align: right;\">\n",
       "      <th></th>\n",
       "      <th>id</th>\n",
       "      <th>Season</th>\n",
       "      <th>city</th>\n",
       "      <th>date</th>\n",
       "      <th>team1</th>\n",
       "      <th>team2</th>\n",
       "      <th>toss_winner</th>\n",
       "      <th>toss_decision</th>\n",
       "      <th>result</th>\n",
       "      <th>dl_applied</th>\n",
       "      <th>winner</th>\n",
       "      <th>win_by_runs</th>\n",
       "      <th>win_by_wickets</th>\n",
       "      <th>player_of_match</th>\n",
       "      <th>venue</th>\n",
       "      <th>umpire1</th>\n",
       "      <th>umpire2</th>\n",
       "      <th>umpire3</th>\n",
       "    </tr>\n",
       "  </thead>\n",
       "  <tbody>\n",
       "    <tr>\n",
       "      <th>461</th>\n",
       "      <td>462</td>\n",
       "      <td>IPL-2014</td>\n",
       "      <td>NaN</td>\n",
       "      <td>19-04-2014</td>\n",
       "      <td>Mumbai Indians</td>\n",
       "      <td>Royal Challengers Bangalore</td>\n",
       "      <td>Royal Challengers Bangalore</td>\n",
       "      <td>field</td>\n",
       "      <td>normal</td>\n",
       "      <td>0</td>\n",
       "      <td>Royal Challengers Bangalore</td>\n",
       "      <td>0</td>\n",
       "      <td>7</td>\n",
       "      <td>PA Patel</td>\n",
       "      <td>Dubai International Cricket Stadium</td>\n",
       "      <td>Aleem Dar</td>\n",
       "      <td>AK Chaudhary</td>\n",
       "      <td>NaN</td>\n",
       "    </tr>\n",
       "    <tr>\n",
       "      <th>462</th>\n",
       "      <td>463</td>\n",
       "      <td>IPL-2014</td>\n",
       "      <td>NaN</td>\n",
       "      <td>19-04-2014</td>\n",
       "      <td>Kolkata Knight Riders</td>\n",
       "      <td>Delhi Daredevils</td>\n",
       "      <td>Kolkata Knight Riders</td>\n",
       "      <td>bat</td>\n",
       "      <td>normal</td>\n",
       "      <td>0</td>\n",
       "      <td>Delhi Daredevils</td>\n",
       "      <td>0</td>\n",
       "      <td>4</td>\n",
       "      <td>JP Duminy</td>\n",
       "      <td>Dubai International Cricket Stadium</td>\n",
       "      <td>Aleem Dar</td>\n",
       "      <td>VA Kulkarni</td>\n",
       "      <td>NaN</td>\n",
       "    </tr>\n",
       "    <tr>\n",
       "      <th>466</th>\n",
       "      <td>467</td>\n",
       "      <td>IPL-2014</td>\n",
       "      <td>NaN</td>\n",
       "      <td>23-04-2014</td>\n",
       "      <td>Chennai Super Kings</td>\n",
       "      <td>Rajasthan Royals</td>\n",
       "      <td>Rajasthan Royals</td>\n",
       "      <td>field</td>\n",
       "      <td>normal</td>\n",
       "      <td>0</td>\n",
       "      <td>Chennai Super Kings</td>\n",
       "      <td>7</td>\n",
       "      <td>0</td>\n",
       "      <td>RA Jadeja</td>\n",
       "      <td>Dubai International Cricket Stadium</td>\n",
       "      <td>HDPK Dharmasena</td>\n",
       "      <td>RK Illingworth</td>\n",
       "      <td>NaN</td>\n",
       "    </tr>\n",
       "    <tr>\n",
       "      <th>468</th>\n",
       "      <td>469</td>\n",
       "      <td>IPL-2014</td>\n",
       "      <td>NaN</td>\n",
       "      <td>25-04-2014</td>\n",
       "      <td>Sunrisers Hyderabad</td>\n",
       "      <td>Delhi Daredevils</td>\n",
       "      <td>Sunrisers Hyderabad</td>\n",
       "      <td>bat</td>\n",
       "      <td>normal</td>\n",
       "      <td>0</td>\n",
       "      <td>Sunrisers Hyderabad</td>\n",
       "      <td>4</td>\n",
       "      <td>0</td>\n",
       "      <td>AJ Finch</td>\n",
       "      <td>Dubai International Cricket Stadium</td>\n",
       "      <td>M Erasmus</td>\n",
       "      <td>S Ravi</td>\n",
       "      <td>NaN</td>\n",
       "    </tr>\n",
       "    <tr>\n",
       "      <th>469</th>\n",
       "      <td>470</td>\n",
       "      <td>IPL-2014</td>\n",
       "      <td>NaN</td>\n",
       "      <td>25-04-2014</td>\n",
       "      <td>Mumbai Indians</td>\n",
       "      <td>Chennai Super Kings</td>\n",
       "      <td>Mumbai Indians</td>\n",
       "      <td>bat</td>\n",
       "      <td>normal</td>\n",
       "      <td>0</td>\n",
       "      <td>Chennai Super Kings</td>\n",
       "      <td>0</td>\n",
       "      <td>7</td>\n",
       "      <td>MM Sharma</td>\n",
       "      <td>Dubai International Cricket Stadium</td>\n",
       "      <td>BF Bowden</td>\n",
       "      <td>M Erasmus</td>\n",
       "      <td>NaN</td>\n",
       "    </tr>\n",
       "    <tr>\n",
       "      <th>474</th>\n",
       "      <td>475</td>\n",
       "      <td>IPL-2014</td>\n",
       "      <td>NaN</td>\n",
       "      <td>28-04-2014</td>\n",
       "      <td>Royal Challengers Bangalore</td>\n",
       "      <td>Kings XI Punjab</td>\n",
       "      <td>Kings XI Punjab</td>\n",
       "      <td>field</td>\n",
       "      <td>normal</td>\n",
       "      <td>0</td>\n",
       "      <td>Kings XI Punjab</td>\n",
       "      <td>0</td>\n",
       "      <td>5</td>\n",
       "      <td>Sandeep Sharma</td>\n",
       "      <td>Dubai International Cricket Stadium</td>\n",
       "      <td>BF Bowden</td>\n",
       "      <td>S Ravi</td>\n",
       "      <td>NaN</td>\n",
       "    </tr>\n",
       "    <tr>\n",
       "      <th>476</th>\n",
       "      <td>477</td>\n",
       "      <td>IPL-2014</td>\n",
       "      <td>NaN</td>\n",
       "      <td>30-04-2014</td>\n",
       "      <td>Sunrisers Hyderabad</td>\n",
       "      <td>Mumbai Indians</td>\n",
       "      <td>Mumbai Indians</td>\n",
       "      <td>field</td>\n",
       "      <td>normal</td>\n",
       "      <td>0</td>\n",
       "      <td>Sunrisers Hyderabad</td>\n",
       "      <td>15</td>\n",
       "      <td>0</td>\n",
       "      <td>B Kumar</td>\n",
       "      <td>Dubai International Cricket Stadium</td>\n",
       "      <td>HDPK Dharmasena</td>\n",
       "      <td>M Erasmus</td>\n",
       "      <td>NaN</td>\n",
       "    </tr>\n",
       "  </tbody>\n",
       "</table>\n",
       "</div>"
      ],
      "text/plain": [
       "      id    Season city        date                        team1  \\\n",
       "461  462  IPL-2014  NaN  19-04-2014               Mumbai Indians   \n",
       "462  463  IPL-2014  NaN  19-04-2014        Kolkata Knight Riders   \n",
       "466  467  IPL-2014  NaN  23-04-2014          Chennai Super Kings   \n",
       "468  469  IPL-2014  NaN  25-04-2014          Sunrisers Hyderabad   \n",
       "469  470  IPL-2014  NaN  25-04-2014               Mumbai Indians   \n",
       "474  475  IPL-2014  NaN  28-04-2014  Royal Challengers Bangalore   \n",
       "476  477  IPL-2014  NaN  30-04-2014          Sunrisers Hyderabad   \n",
       "\n",
       "                           team2                  toss_winner toss_decision  \\\n",
       "461  Royal Challengers Bangalore  Royal Challengers Bangalore         field   \n",
       "462             Delhi Daredevils        Kolkata Knight Riders           bat   \n",
       "466             Rajasthan Royals             Rajasthan Royals         field   \n",
       "468             Delhi Daredevils          Sunrisers Hyderabad           bat   \n",
       "469          Chennai Super Kings               Mumbai Indians           bat   \n",
       "474              Kings XI Punjab              Kings XI Punjab         field   \n",
       "476               Mumbai Indians               Mumbai Indians         field   \n",
       "\n",
       "     result  dl_applied                       winner  win_by_runs  \\\n",
       "461  normal           0  Royal Challengers Bangalore            0   \n",
       "462  normal           0             Delhi Daredevils            0   \n",
       "466  normal           0          Chennai Super Kings            7   \n",
       "468  normal           0          Sunrisers Hyderabad            4   \n",
       "469  normal           0          Chennai Super Kings            0   \n",
       "474  normal           0              Kings XI Punjab            0   \n",
       "476  normal           0          Sunrisers Hyderabad           15   \n",
       "\n",
       "     win_by_wickets player_of_match                                venue  \\\n",
       "461               7        PA Patel  Dubai International Cricket Stadium   \n",
       "462               4       JP Duminy  Dubai International Cricket Stadium   \n",
       "466               0       RA Jadeja  Dubai International Cricket Stadium   \n",
       "468               0        AJ Finch  Dubai International Cricket Stadium   \n",
       "469               7       MM Sharma  Dubai International Cricket Stadium   \n",
       "474               5  Sandeep Sharma  Dubai International Cricket Stadium   \n",
       "476               0         B Kumar  Dubai International Cricket Stadium   \n",
       "\n",
       "             umpire1         umpire2 umpire3  \n",
       "461        Aleem Dar    AK Chaudhary     NaN  \n",
       "462        Aleem Dar     VA Kulkarni     NaN  \n",
       "466  HDPK Dharmasena  RK Illingworth     NaN  \n",
       "468        M Erasmus          S Ravi     NaN  \n",
       "469        BF Bowden       M Erasmus     NaN  \n",
       "474        BF Bowden          S Ravi     NaN  \n",
       "476  HDPK Dharmasena       M Erasmus     NaN  "
      ]
     },
     "execution_count": 11,
     "metadata": {},
     "output_type": "execute_result"
    }
   ],
   "source": [
    "matches[matches['city'].isnull()]"
   ]
  },
  {
   "cell_type": "code",
   "execution_count": 12,
   "id": "ab716933",
   "metadata": {
    "execution": {
     "iopub.execute_input": "2021-07-10T13:33:40.732507Z",
     "iopub.status.busy": "2021-07-10T13:33:40.731596Z",
     "iopub.status.idle": "2021-07-10T13:33:40.735824Z",
     "shell.execute_reply": "2021-07-10T13:33:40.735285Z",
     "shell.execute_reply.started": "2021-07-10T13:13:37.101621Z"
    },
    "papermill": {
     "duration": 0.062924,
     "end_time": "2021-07-10T13:33:40.735955",
     "exception": false,
     "start_time": "2021-07-10T13:33:40.673031",
     "status": "completed"
    },
    "tags": []
   },
   "outputs": [
    {
     "data": {
      "text/plain": [
       "array([nan], dtype=object)"
      ]
     },
     "execution_count": 12,
     "metadata": {},
     "output_type": "execute_result"
    }
   ],
   "source": [
    "matches[matches['venue'] == 'Dubai International Cricket Stadium']['city'].unique()"
   ]
  },
  {
   "cell_type": "markdown",
   "id": "cc69da41",
   "metadata": {
    "papermill": {
     "duration": 0.052671,
     "end_time": "2021-07-10T13:33:40.841699",
     "exception": false,
     "start_time": "2021-07-10T13:33:40.789028",
     "status": "completed"
    },
    "tags": []
   },
   "source": [
    "## Season IPL-2014 has 7 missing values which we can see the venue of them is 'Dubai International Cricket Stadium' which is in Dubai city\n"
   ]
  },
  {
   "cell_type": "markdown",
   "id": "8bc32be4",
   "metadata": {
    "papermill": {
     "duration": 0.052605,
     "end_time": "2021-07-10T13:33:40.946693",
     "exception": false,
     "start_time": "2021-07-10T13:33:40.894088",
     "status": "completed"
    },
    "tags": []
   },
   "source": [
    "## Let's now look into the winners column"
   ]
  },
  {
   "cell_type": "code",
   "execution_count": 13,
   "id": "69fb6547",
   "metadata": {
    "execution": {
     "iopub.execute_input": "2021-07-10T13:33:41.073424Z",
     "iopub.status.busy": "2021-07-10T13:33:41.072560Z",
     "iopub.status.idle": "2021-07-10T13:33:41.076576Z",
     "shell.execute_reply": "2021-07-10T13:33:41.075965Z",
     "shell.execute_reply.started": "2021-07-10T13:13:37.116969Z"
    },
    "papermill": {
     "duration": 0.077147,
     "end_time": "2021-07-10T13:33:41.076709",
     "exception": false,
     "start_time": "2021-07-10T13:33:40.999562",
     "status": "completed"
    },
    "tags": []
   },
   "outputs": [
    {
     "data": {
      "text/html": [
       "<div>\n",
       "<style scoped>\n",
       "    .dataframe tbody tr th:only-of-type {\n",
       "        vertical-align: middle;\n",
       "    }\n",
       "\n",
       "    .dataframe tbody tr th {\n",
       "        vertical-align: top;\n",
       "    }\n",
       "\n",
       "    .dataframe thead th {\n",
       "        text-align: right;\n",
       "    }\n",
       "</style>\n",
       "<table border=\"1\" class=\"dataframe\">\n",
       "  <thead>\n",
       "    <tr style=\"text-align: right;\">\n",
       "      <th></th>\n",
       "      <th>id</th>\n",
       "      <th>Season</th>\n",
       "      <th>city</th>\n",
       "      <th>date</th>\n",
       "      <th>team1</th>\n",
       "      <th>team2</th>\n",
       "      <th>toss_winner</th>\n",
       "      <th>toss_decision</th>\n",
       "      <th>result</th>\n",
       "      <th>dl_applied</th>\n",
       "      <th>winner</th>\n",
       "      <th>win_by_runs</th>\n",
       "      <th>win_by_wickets</th>\n",
       "      <th>player_of_match</th>\n",
       "      <th>venue</th>\n",
       "      <th>umpire1</th>\n",
       "      <th>umpire2</th>\n",
       "      <th>umpire3</th>\n",
       "    </tr>\n",
       "  </thead>\n",
       "  <tbody>\n",
       "    <tr>\n",
       "      <th>300</th>\n",
       "      <td>301</td>\n",
       "      <td>IPL-2011</td>\n",
       "      <td>Delhi</td>\n",
       "      <td>21-05-2011</td>\n",
       "      <td>Delhi Daredevils</td>\n",
       "      <td>Pune Warriors</td>\n",
       "      <td>Delhi Daredevils</td>\n",
       "      <td>bat</td>\n",
       "      <td>no result</td>\n",
       "      <td>0</td>\n",
       "      <td>NaN</td>\n",
       "      <td>0</td>\n",
       "      <td>0</td>\n",
       "      <td>NaN</td>\n",
       "      <td>Feroz Shah Kotla</td>\n",
       "      <td>SS Hazare</td>\n",
       "      <td>RJ Tucker</td>\n",
       "      <td>NaN</td>\n",
       "    </tr>\n",
       "    <tr>\n",
       "      <th>545</th>\n",
       "      <td>546</td>\n",
       "      <td>IPL-2015</td>\n",
       "      <td>Bangalore</td>\n",
       "      <td>29-04-2015</td>\n",
       "      <td>Royal Challengers Bangalore</td>\n",
       "      <td>Rajasthan Royals</td>\n",
       "      <td>Rajasthan Royals</td>\n",
       "      <td>field</td>\n",
       "      <td>no result</td>\n",
       "      <td>0</td>\n",
       "      <td>NaN</td>\n",
       "      <td>0</td>\n",
       "      <td>0</td>\n",
       "      <td>NaN</td>\n",
       "      <td>M Chinnaswamy Stadium</td>\n",
       "      <td>JD Cloete</td>\n",
       "      <td>PG Pathak</td>\n",
       "      <td>NaN</td>\n",
       "    </tr>\n",
       "    <tr>\n",
       "      <th>570</th>\n",
       "      <td>571</td>\n",
       "      <td>IPL-2015</td>\n",
       "      <td>Bangalore</td>\n",
       "      <td>17-05-2015</td>\n",
       "      <td>Delhi Daredevils</td>\n",
       "      <td>Royal Challengers Bangalore</td>\n",
       "      <td>Royal Challengers Bangalore</td>\n",
       "      <td>field</td>\n",
       "      <td>no result</td>\n",
       "      <td>0</td>\n",
       "      <td>NaN</td>\n",
       "      <td>0</td>\n",
       "      <td>0</td>\n",
       "      <td>NaN</td>\n",
       "      <td>M Chinnaswamy Stadium</td>\n",
       "      <td>HDPK Dharmasena</td>\n",
       "      <td>K Srinivasan</td>\n",
       "      <td>NaN</td>\n",
       "    </tr>\n",
       "    <tr>\n",
       "      <th>744</th>\n",
       "      <td>11340</td>\n",
       "      <td>IPL-2019</td>\n",
       "      <td>Bengaluru</td>\n",
       "      <td>30-04-2019</td>\n",
       "      <td>Royal Challengers Bangalore</td>\n",
       "      <td>Rajasthan Royals</td>\n",
       "      <td>Rajasthan Royals</td>\n",
       "      <td>field</td>\n",
       "      <td>no result</td>\n",
       "      <td>0</td>\n",
       "      <td>NaN</td>\n",
       "      <td>0</td>\n",
       "      <td>0</td>\n",
       "      <td>NaN</td>\n",
       "      <td>M. Chinnaswamy Stadium</td>\n",
       "      <td>Nigel Llong</td>\n",
       "      <td>Ulhas Gandhe</td>\n",
       "      <td>Anil Chaudhary</td>\n",
       "    </tr>\n",
       "  </tbody>\n",
       "</table>\n",
       "</div>"
      ],
      "text/plain": [
       "        id    Season       city        date                        team1  \\\n",
       "300    301  IPL-2011      Delhi  21-05-2011             Delhi Daredevils   \n",
       "545    546  IPL-2015  Bangalore  29-04-2015  Royal Challengers Bangalore   \n",
       "570    571  IPL-2015  Bangalore  17-05-2015             Delhi Daredevils   \n",
       "744  11340  IPL-2019  Bengaluru  30-04-2019  Royal Challengers Bangalore   \n",
       "\n",
       "                           team2                  toss_winner toss_decision  \\\n",
       "300                Pune Warriors             Delhi Daredevils           bat   \n",
       "545             Rajasthan Royals             Rajasthan Royals         field   \n",
       "570  Royal Challengers Bangalore  Royal Challengers Bangalore         field   \n",
       "744             Rajasthan Royals             Rajasthan Royals         field   \n",
       "\n",
       "        result  dl_applied winner  win_by_runs  win_by_wickets  \\\n",
       "300  no result           0    NaN            0               0   \n",
       "545  no result           0    NaN            0               0   \n",
       "570  no result           0    NaN            0               0   \n",
       "744  no result           0    NaN            0               0   \n",
       "\n",
       "    player_of_match                   venue          umpire1       umpire2  \\\n",
       "300             NaN        Feroz Shah Kotla        SS Hazare     RJ Tucker   \n",
       "545             NaN   M Chinnaswamy Stadium        JD Cloete     PG Pathak   \n",
       "570             NaN   M Chinnaswamy Stadium  HDPK Dharmasena  K Srinivasan   \n",
       "744             NaN  M. Chinnaswamy Stadium      Nigel Llong  Ulhas Gandhe   \n",
       "\n",
       "            umpire3  \n",
       "300             NaN  \n",
       "545             NaN  \n",
       "570             NaN  \n",
       "744  Anil Chaudhary  "
      ]
     },
     "execution_count": 13,
     "metadata": {},
     "output_type": "execute_result"
    }
   ],
   "source": [
    "matches[matches['winner'].isnull()]"
   ]
  },
  {
   "cell_type": "markdown",
   "id": "72741108",
   "metadata": {
    "papermill": {
     "duration": 0.06915,
     "end_time": "2021-07-10T13:33:41.209088",
     "exception": false,
     "start_time": "2021-07-10T13:33:41.139938",
     "status": "completed"
    },
    "tags": []
   },
   "source": [
    "### This column nulls has no values in player_of_match and the winner and the results column has no results, so we will simply replace the winner nulls with no_winner and the player of match with no_player "
   ]
  },
  {
   "cell_type": "markdown",
   "id": "0e90b8c1",
   "metadata": {
    "papermill": {
     "duration": 0.052739,
     "end_time": "2021-07-10T13:33:41.316250",
     "exception": false,
     "start_time": "2021-07-10T13:33:41.263511",
     "status": "completed"
    },
    "tags": []
   },
   "source": [
    "# Finally let's see the umpire columns"
   ]
  },
  {
   "cell_type": "code",
   "execution_count": 14,
   "id": "8251ce49",
   "metadata": {
    "execution": {
     "iopub.execute_input": "2021-07-10T13:33:41.440980Z",
     "iopub.status.busy": "2021-07-10T13:33:41.440106Z",
     "iopub.status.idle": "2021-07-10T13:33:41.444206Z",
     "shell.execute_reply": "2021-07-10T13:33:41.443727Z",
     "shell.execute_reply.started": "2021-07-10T13:13:37.146782Z"
    },
    "papermill": {
     "duration": 0.075096,
     "end_time": "2021-07-10T13:33:41.444330",
     "exception": false,
     "start_time": "2021-07-10T13:33:41.369234",
     "status": "completed"
    },
    "tags": []
   },
   "outputs": [
    {
     "data": {
      "text/html": [
       "<div>\n",
       "<style scoped>\n",
       "    .dataframe tbody tr th:only-of-type {\n",
       "        vertical-align: middle;\n",
       "    }\n",
       "\n",
       "    .dataframe tbody tr th {\n",
       "        vertical-align: top;\n",
       "    }\n",
       "\n",
       "    .dataframe thead th {\n",
       "        text-align: right;\n",
       "    }\n",
       "</style>\n",
       "<table border=\"1\" class=\"dataframe\">\n",
       "  <thead>\n",
       "    <tr style=\"text-align: right;\">\n",
       "      <th></th>\n",
       "      <th>id</th>\n",
       "      <th>Season</th>\n",
       "      <th>city</th>\n",
       "      <th>date</th>\n",
       "      <th>team1</th>\n",
       "      <th>team2</th>\n",
       "      <th>toss_winner</th>\n",
       "      <th>toss_decision</th>\n",
       "      <th>result</th>\n",
       "      <th>dl_applied</th>\n",
       "      <th>winner</th>\n",
       "      <th>win_by_runs</th>\n",
       "      <th>win_by_wickets</th>\n",
       "      <th>player_of_match</th>\n",
       "      <th>venue</th>\n",
       "      <th>umpire1</th>\n",
       "      <th>umpire2</th>\n",
       "      <th>umpire3</th>\n",
       "    </tr>\n",
       "  </thead>\n",
       "  <tbody>\n",
       "    <tr>\n",
       "      <th>4</th>\n",
       "      <td>5</td>\n",
       "      <td>IPL-2017</td>\n",
       "      <td>Bangalore</td>\n",
       "      <td>08-04-2017</td>\n",
       "      <td>Royal Challengers Bangalore</td>\n",
       "      <td>Delhi Daredevils</td>\n",
       "      <td>Royal Challengers Bangalore</td>\n",
       "      <td>bat</td>\n",
       "      <td>normal</td>\n",
       "      <td>0</td>\n",
       "      <td>Royal Challengers Bangalore</td>\n",
       "      <td>15</td>\n",
       "      <td>0</td>\n",
       "      <td>KM Jadhav</td>\n",
       "      <td>M Chinnaswamy Stadium</td>\n",
       "      <td>NaN</td>\n",
       "      <td>NaN</td>\n",
       "      <td>NaN</td>\n",
       "    </tr>\n",
       "    <tr>\n",
       "      <th>753</th>\n",
       "      <td>11413</td>\n",
       "      <td>IPL-2019</td>\n",
       "      <td>Visakhapatnam</td>\n",
       "      <td>08-05-2019</td>\n",
       "      <td>Sunrisers Hyderabad</td>\n",
       "      <td>Delhi Capitals</td>\n",
       "      <td>Delhi Capitals</td>\n",
       "      <td>field</td>\n",
       "      <td>normal</td>\n",
       "      <td>0</td>\n",
       "      <td>Delhi Capitals</td>\n",
       "      <td>0</td>\n",
       "      <td>2</td>\n",
       "      <td>RR Pant</td>\n",
       "      <td>ACA-VDCA Stadium</td>\n",
       "      <td>NaN</td>\n",
       "      <td>NaN</td>\n",
       "      <td>NaN</td>\n",
       "    </tr>\n",
       "  </tbody>\n",
       "</table>\n",
       "</div>"
      ],
      "text/plain": [
       "        id    Season           city        date                        team1  \\\n",
       "4        5  IPL-2017      Bangalore  08-04-2017  Royal Challengers Bangalore   \n",
       "753  11413  IPL-2019  Visakhapatnam  08-05-2019          Sunrisers Hyderabad   \n",
       "\n",
       "                team2                  toss_winner toss_decision  result  \\\n",
       "4    Delhi Daredevils  Royal Challengers Bangalore           bat  normal   \n",
       "753    Delhi Capitals               Delhi Capitals         field  normal   \n",
       "\n",
       "     dl_applied                       winner  win_by_runs  win_by_wickets  \\\n",
       "4             0  Royal Challengers Bangalore           15               0   \n",
       "753           0               Delhi Capitals            0               2   \n",
       "\n",
       "    player_of_match                  venue umpire1 umpire2 umpire3  \n",
       "4         KM Jadhav  M Chinnaswamy Stadium     NaN     NaN     NaN  \n",
       "753         RR Pant       ACA-VDCA Stadium     NaN     NaN     NaN  "
      ]
     },
     "execution_count": 14,
     "metadata": {},
     "output_type": "execute_result"
    }
   ],
   "source": [
    "matches[matches['umpire1'].isnull()]"
   ]
  },
  {
   "cell_type": "markdown",
   "id": "e726be71",
   "metadata": {
    "papermill": {
     "duration": 0.052935,
     "end_time": "2021-07-10T13:33:41.550218",
     "exception": false,
     "start_time": "2021-07-10T13:33:41.497283",
     "status": "completed"
    },
    "tags": []
   },
   "source": [
    "## we will just replace them with no_umpire  "
   ]
  },
  {
   "cell_type": "markdown",
   "id": "af94a4d1",
   "metadata": {
    "papermill": {
     "duration": 0.052978,
     "end_time": "2021-07-10T13:33:41.656649",
     "exception": false,
     "start_time": "2021-07-10T13:33:41.603671",
     "status": "completed"
    },
    "tags": []
   },
   "source": [
    "## Now let's apply the nulls cleaning"
   ]
  },
  {
   "cell_type": "code",
   "execution_count": 15,
   "id": "0c9ea615",
   "metadata": {
    "execution": {
     "iopub.execute_input": "2021-07-10T13:33:41.774146Z",
     "iopub.status.busy": "2021-07-10T13:33:41.772129Z",
     "iopub.status.idle": "2021-07-10T13:33:41.790248Z",
     "shell.execute_reply": "2021-07-10T13:33:41.789717Z",
     "shell.execute_reply.started": "2021-07-10T13:13:37.176703Z"
    },
    "papermill": {
     "duration": 0.079808,
     "end_time": "2021-07-10T13:33:41.790409",
     "exception": false,
     "start_time": "2021-07-10T13:33:41.710601",
     "status": "completed"
    },
    "tags": []
   },
   "outputs": [
    {
     "name": "stdout",
     "output_type": "stream",
     "text": [
      "<class 'pandas.core.frame.DataFrame'>\n",
      "RangeIndex: 756 entries, 0 to 755\n",
      "Data columns (total 18 columns):\n",
      " #   Column           Non-Null Count  Dtype \n",
      "---  ------           --------------  ----- \n",
      " 0   id               756 non-null    int64 \n",
      " 1   Season           756 non-null    object\n",
      " 2   city             756 non-null    object\n",
      " 3   date             756 non-null    object\n",
      " 4   team1            756 non-null    object\n",
      " 5   team2            756 non-null    object\n",
      " 6   toss_winner      756 non-null    object\n",
      " 7   toss_decision    756 non-null    object\n",
      " 8   result           756 non-null    object\n",
      " 9   dl_applied       756 non-null    int64 \n",
      " 10  winner           756 non-null    object\n",
      " 11  win_by_runs      756 non-null    int64 \n",
      " 12  win_by_wickets   756 non-null    int64 \n",
      " 13  player_of_match  756 non-null    object\n",
      " 14  venue            756 non-null    object\n",
      " 15  umpire1          756 non-null    object\n",
      " 16  umpire2          756 non-null    object\n",
      " 17  umpire3          756 non-null    object\n",
      "dtypes: int64(4), object(14)\n",
      "memory usage: 106.4+ KB\n"
     ]
    }
   ],
   "source": [
    "matches_cleaned = matches.copy()\n",
    "matches_cleaned['city'] = matches_cleaned['city'].fillna('Dubai')\n",
    "matches_cleaned = matches_cleaned.fillna('none')\n",
    "matches_cleaned.info()"
   ]
  },
  {
   "cell_type": "code",
   "execution_count": 16,
   "id": "3106b702",
   "metadata": {
    "execution": {
     "iopub.execute_input": "2021-07-10T13:33:41.904803Z",
     "iopub.status.busy": "2021-07-10T13:33:41.903788Z",
     "iopub.status.idle": "2021-07-10T13:33:41.913902Z",
     "shell.execute_reply": "2021-07-10T13:33:41.913436Z",
     "shell.execute_reply.started": "2021-07-10T13:13:37.210605Z"
    },
    "papermill": {
     "duration": 0.07055,
     "end_time": "2021-07-10T13:33:41.914035",
     "exception": false,
     "start_time": "2021-07-10T13:33:41.843485",
     "status": "completed"
    },
    "tags": []
   },
   "outputs": [
    {
     "data": {
      "text/plain": [
       "0"
      ]
     },
     "execution_count": 16,
     "metadata": {},
     "output_type": "execute_result"
    }
   ],
   "source": [
    "matches_cleaned.duplicated().sum()"
   ]
  },
  {
   "cell_type": "markdown",
   "id": "c57a4414",
   "metadata": {
    "papermill": {
     "duration": 0.053869,
     "end_time": "2021-07-10T13:33:42.022491",
     "exception": false,
     "start_time": "2021-07-10T13:33:41.968622",
     "status": "completed"
    },
    "tags": []
   },
   "source": [
    "## Now let's see if the values are reasonable in the matches dataframe"
   ]
  },
  {
   "cell_type": "code",
   "execution_count": 17,
   "id": "cf66edfa",
   "metadata": {
    "execution": {
     "iopub.execute_input": "2021-07-10T13:33:42.136337Z",
     "iopub.status.busy": "2021-07-10T13:33:42.135749Z",
     "iopub.status.idle": "2021-07-10T13:33:42.139367Z",
     "shell.execute_reply": "2021-07-10T13:33:42.138840Z",
     "shell.execute_reply.started": "2021-07-10T13:13:37.231226Z"
    },
    "papermill": {
     "duration": 0.063335,
     "end_time": "2021-07-10T13:33:42.139494",
     "exception": false,
     "start_time": "2021-07-10T13:33:42.076159",
     "status": "completed"
    },
    "tags": []
   },
   "outputs": [
    {
     "data": {
      "text/plain": [
       "[0, 1, 2, 3, 4, 5, 6, 7, 8, 9, 10]"
      ]
     },
     "execution_count": 17,
     "metadata": {},
     "output_type": "execute_result"
    }
   ],
   "source": [
    "sorted(matches['win_by_wickets'].unique())"
   ]
  },
  {
   "cell_type": "code",
   "execution_count": 18,
   "id": "64ab019c",
   "metadata": {
    "execution": {
     "iopub.execute_input": "2021-07-10T13:33:42.252342Z",
     "iopub.status.busy": "2021-07-10T13:33:42.251801Z",
     "iopub.status.idle": "2021-07-10T13:33:42.283578Z",
     "shell.execute_reply": "2021-07-10T13:33:42.284072Z",
     "shell.execute_reply.started": "2021-07-10T13:13:37.240630Z"
    },
    "papermill": {
     "duration": 0.089086,
     "end_time": "2021-07-10T13:33:42.284235",
     "exception": false,
     "start_time": "2021-07-10T13:33:42.195149",
     "status": "completed"
    },
    "tags": []
   },
   "outputs": [
    {
     "data": {
      "text/html": [
       "<div>\n",
       "<style scoped>\n",
       "    .dataframe tbody tr th:only-of-type {\n",
       "        vertical-align: middle;\n",
       "    }\n",
       "\n",
       "    .dataframe tbody tr th {\n",
       "        vertical-align: top;\n",
       "    }\n",
       "\n",
       "    .dataframe thead th {\n",
       "        text-align: right;\n",
       "    }\n",
       "</style>\n",
       "<table border=\"1\" class=\"dataframe\">\n",
       "  <thead>\n",
       "    <tr style=\"text-align: right;\">\n",
       "      <th></th>\n",
       "      <th>id</th>\n",
       "      <th>Season</th>\n",
       "      <th>city</th>\n",
       "      <th>date</th>\n",
       "      <th>team1</th>\n",
       "      <th>team2</th>\n",
       "      <th>toss_winner</th>\n",
       "      <th>toss_decision</th>\n",
       "      <th>result</th>\n",
       "      <th>dl_applied</th>\n",
       "      <th>winner</th>\n",
       "      <th>win_by_runs</th>\n",
       "      <th>win_by_wickets</th>\n",
       "      <th>player_of_match</th>\n",
       "      <th>venue</th>\n",
       "      <th>umpire1</th>\n",
       "      <th>umpire2</th>\n",
       "      <th>umpire3</th>\n",
       "    </tr>\n",
       "  </thead>\n",
       "  <tbody>\n",
       "  </tbody>\n",
       "</table>\n",
       "</div>"
      ],
      "text/plain": [
       "Empty DataFrame\n",
       "Columns: [id, Season, city, date, team1, team2, toss_winner, toss_decision, result, dl_applied, winner, win_by_runs, win_by_wickets, player_of_match, venue, umpire1, umpire2, umpire3]\n",
       "Index: []"
      ]
     },
     "execution_count": 18,
     "metadata": {},
     "output_type": "execute_result"
    }
   ],
   "source": [
    "matches_cleaned['date'] = pd.to_datetime(matches_cleaned['date'])\n",
    "matches_cleaned[matches_cleaned['date'].dt.year!=matches_cleaned['Season'].str[-4:].astype(int)]"
   ]
  },
  {
   "cell_type": "markdown",
   "id": "f717f96e",
   "metadata": {
    "papermill": {
     "duration": 0.053822,
     "end_time": "2021-07-10T13:33:42.393113",
     "exception": false,
     "start_time": "2021-07-10T13:33:42.339291",
     "status": "completed"
    },
    "tags": []
   },
   "source": [
    "### 1- the number of wackets is between 0 and 10 \n",
    "### 2- the season year matches the date"
   ]
  },
  {
   "cell_type": "markdown",
   "id": "578779d8",
   "metadata": {
    "papermill": {
     "duration": 0.05435,
     "end_time": "2021-07-10T13:33:42.501582",
     "exception": false,
     "start_time": "2021-07-10T13:33:42.447232",
     "status": "completed"
    },
    "tags": []
   },
   "source": [
    "## Let's start working on the other dataframes"
   ]
  },
  {
   "cell_type": "code",
   "execution_count": 19,
   "id": "3a87b23f",
   "metadata": {
    "execution": {
     "iopub.execute_input": "2021-07-10T13:33:42.625827Z",
     "iopub.status.busy": "2021-07-10T13:33:42.624078Z",
     "iopub.status.idle": "2021-07-10T13:33:42.628497Z",
     "shell.execute_reply": "2021-07-10T13:33:42.628972Z",
     "shell.execute_reply.started": "2021-07-10T13:13:37.268153Z"
    },
    "papermill": {
     "duration": 0.072573,
     "end_time": "2021-07-10T13:33:42.629133",
     "exception": false,
     "start_time": "2021-07-10T13:33:42.556560",
     "status": "completed"
    },
    "tags": []
   },
   "outputs": [
    {
     "name": "stdout",
     "output_type": "stream",
     "text": [
      "0\n",
      "<class 'pandas.core.frame.DataFrame'>\n",
      "RangeIndex: 14 entries, 0 to 13\n",
      "Data columns (total 7 columns):\n",
      " #   Column               Non-Null Count  Dtype  \n",
      "---  ------               --------------  -----  \n",
      " 0   team                 14 non-null     object \n",
      " 1   home_wins            14 non-null     int64  \n",
      " 2   away_wins            14 non-null     int64  \n",
      " 3   home_matches         14 non-null     int64  \n",
      " 4   away_matches         14 non-null     int64  \n",
      " 5   home_win_percentage  14 non-null     float64\n",
      " 6   away_win_percentage  14 non-null     float64\n",
      "dtypes: float64(2), int64(4), object(1)\n",
      "memory usage: 912.0+ bytes\n"
     ]
    }
   ],
   "source": [
    "print(teamwise_home_and_away.duplicated().sum())\n",
    "teamwise_home_and_away.info()"
   ]
  },
  {
   "cell_type": "markdown",
   "id": "7dfa1682",
   "metadata": {
    "papermill": {
     "duration": 0.055269,
     "end_time": "2021-07-10T13:33:42.739263",
     "exception": false,
     "start_time": "2021-07-10T13:33:42.683994",
     "status": "completed"
    },
    "tags": []
   },
   "source": [
    "# Let's insure that the number of wins per team is equivilant to the number of wins for the same team in the matches data frame"
   ]
  },
  {
   "cell_type": "code",
   "execution_count": 20,
   "id": "d46d9902",
   "metadata": {
    "execution": {
     "iopub.execute_input": "2021-07-10T13:33:42.857552Z",
     "iopub.status.busy": "2021-07-10T13:33:42.856943Z",
     "iopub.status.idle": "2021-07-10T13:33:42.860755Z",
     "shell.execute_reply": "2021-07-10T13:33:42.861315Z",
     "shell.execute_reply.started": "2021-07-10T13:13:37.287391Z"
    },
    "papermill": {
     "duration": 0.067012,
     "end_time": "2021-07-10T13:33:42.861496",
     "exception": false,
     "start_time": "2021-07-10T13:33:42.794484",
     "status": "completed"
    },
    "tags": []
   },
   "outputs": [
    {
     "name": "stdout",
     "output_type": "stream",
     "text": [
      "15\n"
     ]
    },
    {
     "data": {
      "text/plain": [
       "['Kochi Tuskers Kerala',\n",
       " 'Kolkata Knight Riders',\n",
       " 'Delhi Daredevils',\n",
       " 'Deccan Chargers',\n",
       " 'Kings XI Punjab',\n",
       " 'Rising Pune Supergiants',\n",
       " 'Gujarat Lions',\n",
       " 'Delhi Capitals',\n",
       " 'Mumbai Indians',\n",
       " 'Rising Pune Supergiant',\n",
       " 'Sunrisers Hyderabad',\n",
       " 'Royal Challengers Bangalore',\n",
       " 'Rajasthan Royals',\n",
       " 'Pune Warriors',\n",
       " 'Chennai Super Kings']"
      ]
     },
     "execution_count": 20,
     "metadata": {},
     "output_type": "execute_result"
    }
   ],
   "source": [
    "matches_teams = matches['team1']\n",
    "matches_teams.append(matches['team2'])\n",
    "matches_teams = list(set(matches_teams))\n",
    "print(len(matches_teams))\n",
    "matches_teams"
   ]
  },
  {
   "cell_type": "code",
   "execution_count": 21,
   "id": "883fbc9b",
   "metadata": {
    "execution": {
     "iopub.execute_input": "2021-07-10T13:33:42.978230Z",
     "iopub.status.busy": "2021-07-10T13:33:42.977663Z",
     "iopub.status.idle": "2021-07-10T13:33:42.980226Z",
     "shell.execute_reply": "2021-07-10T13:33:42.980782Z",
     "shell.execute_reply.started": "2021-07-10T13:13:37.301188Z"
    },
    "papermill": {
     "duration": 0.063589,
     "end_time": "2021-07-10T13:33:42.980993",
     "exception": false,
     "start_time": "2021-07-10T13:33:42.917404",
     "status": "completed"
    },
    "tags": []
   },
   "outputs": [
    {
     "data": {
      "text/plain": [
       "{'Rising Pune Supergiants'}"
      ]
     },
     "execution_count": 21,
     "metadata": {},
     "output_type": "execute_result"
    }
   ],
   "source": [
    "set(matches_teams) - set(teamwise_home_and_away['team']) "
   ]
  },
  {
   "cell_type": "markdown",
   "id": "1caecedb",
   "metadata": {
    "papermill": {
     "duration": 0.056375,
     "end_time": "2021-07-10T13:33:43.094270",
     "exception": false,
     "start_time": "2021-07-10T13:33:43.037895",
     "status": "completed"
    },
    "tags": []
   },
   "source": [
    "### There is 1 team that has no records in the teamwise_home_and_away df which is Rising Pune Supergiants, but other teams are there\n",
    "#### Let's check consistency in winning times between the two dataframes"
   ]
  },
  {
   "cell_type": "code",
   "execution_count": 22,
   "id": "8df8c907",
   "metadata": {
    "execution": {
     "iopub.execute_input": "2021-07-10T13:33:43.214834Z",
     "iopub.status.busy": "2021-07-10T13:33:43.214230Z",
     "iopub.status.idle": "2021-07-10T13:33:43.277849Z",
     "shell.execute_reply": "2021-07-10T13:33:43.277026Z",
     "shell.execute_reply.started": "2021-07-10T13:13:37.312937Z"
    },
    "papermill": {
     "duration": 0.125275,
     "end_time": "2021-07-10T13:33:43.278023",
     "exception": false,
     "start_time": "2021-07-10T13:33:43.152748",
     "status": "completed"
    },
    "tags": []
   },
   "outputs": [
    {
     "name": "stdout",
     "output_type": "stream",
     "text": [
      "team Rising Pune Supergiant has True consistency\n",
      "team Mumbai Indians has True consistency\n",
      "team Chennai Super Kings has True consistency\n",
      "team Delhi Capitals has True consistency\n",
      "team Sunrisers Hyderabad has True consistency\n",
      "team Rajasthan Royals has True consistency\n",
      "team Deccan Chargers has True consistency\n",
      "team Kings XI Punjab has True consistency\n",
      "team Royal Challengers Bangalore has True consistency\n",
      "team Kolkata Knight Riders has True consistency\n",
      "team Delhi Daredevils has True consistency\n",
      "team Pune Warriors has True consistency\n",
      "team Kochi Tuskers Kerala has True consistency\n",
      "team Gujarat Lions has True consistency\n"
     ]
    },
    {
     "name": "stderr",
     "output_type": "stream",
     "text": [
      "/opt/conda/lib/python3.7/site-packages/ipykernel_launcher.py:5: UserWarning: Boolean Series key will be reindexed to match DataFrame index.\n",
      "  \"\"\"\n",
      "/opt/conda/lib/python3.7/site-packages/ipykernel_launcher.py:6: UserWarning: Boolean Series key will be reindexed to match DataFrame index.\n",
      "  \n"
     ]
    }
   ],
   "source": [
    "for index,row in teamwise_home_and_away.iterrows():\n",
    "#     print(row)\n",
    "    team = row[0]\n",
    "    wins1 = row[1] + row[2]\n",
    "    wins2 = len(matches_cleaned[matches_cleaned['team1']==team][matches_cleaned['winner']==team].index)\n",
    "    wins2+= len(matches_cleaned[matches_cleaned['team2']==team][matches_cleaned['winner']==team].index)\n",
    "    print('team {} has {} consistency'.format(team,wins1==wins2))\n",
    "    \n",
    "    "
   ]
  },
  {
   "cell_type": "markdown",
   "id": "0335751f",
   "metadata": {
    "papermill": {
     "duration": 0.056638,
     "end_time": "2021-07-10T13:33:43.392124",
     "exception": false,
     "start_time": "2021-07-10T13:33:43.335486",
     "status": "completed"
    },
    "tags": []
   },
   "source": [
    "### so they are all consistent\n",
    "# Let's now head to the players dataframe"
   ]
  },
  {
   "cell_type": "code",
   "execution_count": 23,
   "id": "193ae85f",
   "metadata": {
    "execution": {
     "iopub.execute_input": "2021-07-10T13:33:43.519047Z",
     "iopub.status.busy": "2021-07-10T13:33:43.518198Z",
     "iopub.status.idle": "2021-07-10T13:33:43.521696Z",
     "shell.execute_reply": "2021-07-10T13:33:43.522135Z",
     "shell.execute_reply.started": "2021-07-10T13:13:37.386712Z"
    },
    "papermill": {
     "duration": 0.073124,
     "end_time": "2021-07-10T13:33:43.522295",
     "exception": false,
     "start_time": "2021-07-10T13:33:43.449171",
     "status": "completed"
    },
    "tags": []
   },
   "outputs": [
    {
     "name": "stdout",
     "output_type": "stream",
     "text": [
      "<class 'pandas.core.frame.DataFrame'>\n",
      "RangeIndex: 566 entries, 0 to 565\n",
      "Data columns (total 5 columns):\n",
      " #   Column         Non-Null Count  Dtype         \n",
      "---  ------         --------------  -----         \n",
      " 0   Player_Name    566 non-null    object        \n",
      " 1   DOB            471 non-null    datetime64[ns]\n",
      " 2   Batting_Hand   563 non-null    object        \n",
      " 3   Bowling_Skill  502 non-null    object        \n",
      " 4   Country        471 non-null    object        \n",
      "dtypes: datetime64[ns](1), object(4)\n",
      "memory usage: 22.2+ KB\n"
     ]
    }
   ],
   "source": [
    "players.info()"
   ]
  },
  {
   "cell_type": "code",
   "execution_count": 24,
   "id": "a89d3a7f",
   "metadata": {
    "execution": {
     "iopub.execute_input": "2021-07-10T13:33:43.651989Z",
     "iopub.status.busy": "2021-07-10T13:33:43.651108Z",
     "iopub.status.idle": "2021-07-10T13:33:43.654814Z",
     "shell.execute_reply": "2021-07-10T13:33:43.655255Z",
     "shell.execute_reply.started": "2021-07-10T13:13:37.404428Z"
    },
    "papermill": {
     "duration": 0.075984,
     "end_time": "2021-07-10T13:33:43.655435",
     "exception": false,
     "start_time": "2021-07-10T13:33:43.579451",
     "status": "completed"
    },
    "tags": []
   },
   "outputs": [
    {
     "data": {
      "text/html": [
       "<div>\n",
       "<style scoped>\n",
       "    .dataframe tbody tr th:only-of-type {\n",
       "        vertical-align: middle;\n",
       "    }\n",
       "\n",
       "    .dataframe tbody tr th {\n",
       "        vertical-align: top;\n",
       "    }\n",
       "\n",
       "    .dataframe thead th {\n",
       "        text-align: right;\n",
       "    }\n",
       "</style>\n",
       "<table border=\"1\" class=\"dataframe\">\n",
       "  <thead>\n",
       "    <tr style=\"text-align: right;\">\n",
       "      <th></th>\n",
       "      <th>Player_Name</th>\n",
       "      <th>DOB</th>\n",
       "      <th>Batting_Hand</th>\n",
       "      <th>Bowling_Skill</th>\n",
       "      <th>Country</th>\n",
       "    </tr>\n",
       "  </thead>\n",
       "  <tbody>\n",
       "    <tr>\n",
       "      <th>3</th>\n",
       "      <td>A Choudhary</td>\n",
       "      <td>NaT</td>\n",
       "      <td>Right_hand</td>\n",
       "      <td>Left-arm fast-medium</td>\n",
       "      <td>NaN</td>\n",
       "    </tr>\n",
       "    <tr>\n",
       "      <th>4</th>\n",
       "      <td>A Dananjaya</td>\n",
       "      <td>NaT</td>\n",
       "      <td>Right_Hand</td>\n",
       "      <td>Right-arm offbreak</td>\n",
       "      <td>NaN</td>\n",
       "    </tr>\n",
       "    <tr>\n",
       "      <th>6</th>\n",
       "      <td>A Hales</td>\n",
       "      <td>NaT</td>\n",
       "      <td>Right_hand</td>\n",
       "      <td>NaN</td>\n",
       "      <td>NaN</td>\n",
       "    </tr>\n",
       "    <tr>\n",
       "      <th>7</th>\n",
       "      <td>A Joseph</td>\n",
       "      <td>NaT</td>\n",
       "      <td>Right_Hand</td>\n",
       "      <td>Right-arm fast</td>\n",
       "      <td>NaN</td>\n",
       "    </tr>\n",
       "    <tr>\n",
       "      <th>14</th>\n",
       "      <td>A Roy</td>\n",
       "      <td>NaT</td>\n",
       "      <td>Left_Hand</td>\n",
       "      <td>Slow left-arm orthodox</td>\n",
       "      <td>NaN</td>\n",
       "    </tr>\n",
       "    <tr>\n",
       "      <th>...</th>\n",
       "      <td>...</td>\n",
       "      <td>...</td>\n",
       "      <td>...</td>\n",
       "      <td>...</td>\n",
       "      <td>...</td>\n",
       "    </tr>\n",
       "    <tr>\n",
       "      <th>520</th>\n",
       "      <td>Tejas Baroka</td>\n",
       "      <td>NaT</td>\n",
       "      <td>NaN</td>\n",
       "      <td>Legbreak googly</td>\n",
       "      <td>NaN</td>\n",
       "    </tr>\n",
       "    <tr>\n",
       "      <th>528</th>\n",
       "      <td>TS Mills</td>\n",
       "      <td>NaT</td>\n",
       "      <td>Right_hand</td>\n",
       "      <td>Left-arm fast</td>\n",
       "      <td>NaN</td>\n",
       "    </tr>\n",
       "    <tr>\n",
       "      <th>535</th>\n",
       "      <td>V Chakravarthy</td>\n",
       "      <td>NaT</td>\n",
       "      <td>Right_Hand</td>\n",
       "      <td>Legbreak</td>\n",
       "      <td>NaN</td>\n",
       "    </tr>\n",
       "    <tr>\n",
       "      <th>541</th>\n",
       "      <td>Vishnu Vinod</td>\n",
       "      <td>NaT</td>\n",
       "      <td>Right_hand</td>\n",
       "      <td>NaN</td>\n",
       "      <td>NaN</td>\n",
       "    </tr>\n",
       "    <tr>\n",
       "      <th>550</th>\n",
       "      <td>Washington Sundar</td>\n",
       "      <td>NaT</td>\n",
       "      <td>Left_Hand</td>\n",
       "      <td>Right-arm offbreak</td>\n",
       "      <td>NaN</td>\n",
       "    </tr>\n",
       "  </tbody>\n",
       "</table>\n",
       "<p>95 rows × 5 columns</p>\n",
       "</div>"
      ],
      "text/plain": [
       "           Player_Name DOB Batting_Hand           Bowling_Skill Country\n",
       "3          A Choudhary NaT   Right_hand    Left-arm fast-medium     NaN\n",
       "4          A Dananjaya NaT   Right_Hand      Right-arm offbreak     NaN\n",
       "6              A Hales NaT   Right_hand                     NaN     NaN\n",
       "7             A Joseph NaT   Right_Hand          Right-arm fast     NaN\n",
       "14               A Roy NaT    Left_Hand  Slow left-arm orthodox     NaN\n",
       "..                 ...  ..          ...                     ...     ...\n",
       "520       Tejas Baroka NaT          NaN         Legbreak googly     NaN\n",
       "528           TS Mills NaT   Right_hand           Left-arm fast     NaN\n",
       "535     V Chakravarthy NaT   Right_Hand                Legbreak     NaN\n",
       "541       Vishnu Vinod NaT   Right_hand                     NaN     NaN\n",
       "550  Washington Sundar NaT    Left_Hand      Right-arm offbreak     NaN\n",
       "\n",
       "[95 rows x 5 columns]"
      ]
     },
     "execution_count": 24,
     "metadata": {},
     "output_type": "execute_result"
    }
   ],
   "source": [
    "players[players['DOB'].isnull()]"
   ]
  },
  {
   "cell_type": "code",
   "execution_count": 25,
   "id": "ef6e1863",
   "metadata": {
    "execution": {
     "iopub.execute_input": "2021-07-10T13:33:43.788821Z",
     "iopub.status.busy": "2021-07-10T13:33:43.788190Z",
     "iopub.status.idle": "2021-07-10T13:33:43.791050Z",
     "shell.execute_reply": "2021-07-10T13:33:43.791625Z",
     "shell.execute_reply.started": "2021-07-10T13:13:37.432016Z"
    },
    "papermill": {
     "duration": 0.078362,
     "end_time": "2021-07-10T13:33:43.791785",
     "exception": false,
     "start_time": "2021-07-10T13:33:43.713423",
     "status": "completed"
    },
    "tags": []
   },
   "outputs": [
    {
     "data": {
      "text/html": [
       "<div>\n",
       "<style scoped>\n",
       "    .dataframe tbody tr th:only-of-type {\n",
       "        vertical-align: middle;\n",
       "    }\n",
       "\n",
       "    .dataframe tbody tr th {\n",
       "        vertical-align: top;\n",
       "    }\n",
       "\n",
       "    .dataframe thead th {\n",
       "        text-align: right;\n",
       "    }\n",
       "</style>\n",
       "<table border=\"1\" class=\"dataframe\">\n",
       "  <thead>\n",
       "    <tr style=\"text-align: right;\">\n",
       "      <th></th>\n",
       "      <th>Player_Name</th>\n",
       "      <th>DOB</th>\n",
       "      <th>Batting_Hand</th>\n",
       "      <th>Bowling_Skill</th>\n",
       "      <th>Country</th>\n",
       "    </tr>\n",
       "  </thead>\n",
       "  <tbody>\n",
       "    <tr>\n",
       "      <th>6</th>\n",
       "      <td>A Hales</td>\n",
       "      <td>NaT</td>\n",
       "      <td>Right_hand</td>\n",
       "      <td>NaN</td>\n",
       "      <td>NaN</td>\n",
       "    </tr>\n",
       "    <tr>\n",
       "      <th>17</th>\n",
       "      <td>A Turner</td>\n",
       "      <td>NaT</td>\n",
       "      <td>Right_Hand</td>\n",
       "      <td>NaN</td>\n",
       "      <td>NaN</td>\n",
       "    </tr>\n",
       "    <tr>\n",
       "      <th>41</th>\n",
       "      <td>AG Paunikar</td>\n",
       "      <td>1988-04-18</td>\n",
       "      <td>Right_Hand</td>\n",
       "      <td>NaN</td>\n",
       "      <td>India</td>\n",
       "    </tr>\n",
       "    <tr>\n",
       "      <th>57</th>\n",
       "      <td>AP Tare</td>\n",
       "      <td>1987-11-07</td>\n",
       "      <td>Right_Hand</td>\n",
       "      <td>NaN</td>\n",
       "      <td>India</td>\n",
       "    </tr>\n",
       "    <tr>\n",
       "      <th>58</th>\n",
       "      <td>AR Bawne</td>\n",
       "      <td>NaT</td>\n",
       "      <td>Right_Hand</td>\n",
       "      <td>NaN</td>\n",
       "      <td>NaN</td>\n",
       "    </tr>\n",
       "    <tr>\n",
       "      <th>...</th>\n",
       "      <td>...</td>\n",
       "      <td>...</td>\n",
       "      <td>...</td>\n",
       "      <td>...</td>\n",
       "      <td>...</td>\n",
       "    </tr>\n",
       "    <tr>\n",
       "      <th>507</th>\n",
       "      <td>SW Billings</td>\n",
       "      <td>1991-06-15</td>\n",
       "      <td>Right_Hand</td>\n",
       "      <td>NaN</td>\n",
       "      <td>England</td>\n",
       "    </tr>\n",
       "    <tr>\n",
       "      <th>529</th>\n",
       "      <td>U Kaul</td>\n",
       "      <td>1987-12-02</td>\n",
       "      <td>Left_Hand</td>\n",
       "      <td>NaN</td>\n",
       "      <td>India</td>\n",
       "    </tr>\n",
       "    <tr>\n",
       "      <th>541</th>\n",
       "      <td>Vishnu Vinod</td>\n",
       "      <td>NaT</td>\n",
       "      <td>Right_hand</td>\n",
       "      <td>NaN</td>\n",
       "      <td>NaN</td>\n",
       "    </tr>\n",
       "    <tr>\n",
       "      <th>552</th>\n",
       "      <td>WP Saha</td>\n",
       "      <td>1984-10-24</td>\n",
       "      <td>Right_Hand</td>\n",
       "      <td>NaN</td>\n",
       "      <td>India</td>\n",
       "    </tr>\n",
       "    <tr>\n",
       "      <th>564</th>\n",
       "      <td>YV Takawale</td>\n",
       "      <td>1984-11-05</td>\n",
       "      <td>Right_Hand</td>\n",
       "      <td>NaN</td>\n",
       "      <td>India</td>\n",
       "    </tr>\n",
       "  </tbody>\n",
       "</table>\n",
       "<p>64 rows × 5 columns</p>\n",
       "</div>"
      ],
      "text/plain": [
       "      Player_Name        DOB Batting_Hand Bowling_Skill  Country\n",
       "6         A Hales        NaT   Right_hand           NaN      NaN\n",
       "17       A Turner        NaT   Right_Hand           NaN      NaN\n",
       "41    AG Paunikar 1988-04-18   Right_Hand           NaN    India\n",
       "57        AP Tare 1987-11-07   Right_Hand           NaN    India\n",
       "58       AR Bawne        NaT   Right_Hand           NaN      NaN\n",
       "..            ...        ...          ...           ...      ...\n",
       "507   SW Billings 1991-06-15   Right_Hand           NaN  England\n",
       "529        U Kaul 1987-12-02    Left_Hand           NaN    India\n",
       "541  Vishnu Vinod        NaT   Right_hand           NaN      NaN\n",
       "552       WP Saha 1984-10-24   Right_Hand           NaN    India\n",
       "564   YV Takawale 1984-11-05   Right_Hand           NaN    India\n",
       "\n",
       "[64 rows x 5 columns]"
      ]
     },
     "execution_count": 25,
     "metadata": {},
     "output_type": "execute_result"
    }
   ],
   "source": [
    "players[players['Bowling_Skill'].isnull()]"
   ]
  },
  {
   "cell_type": "code",
   "execution_count": 26,
   "id": "15a69fb9",
   "metadata": {
    "execution": {
     "iopub.execute_input": "2021-07-10T13:33:43.909836Z",
     "iopub.status.busy": "2021-07-10T13:33:43.909221Z",
     "iopub.status.idle": "2021-07-10T13:33:43.921276Z",
     "shell.execute_reply": "2021-07-10T13:33:43.921765Z",
     "shell.execute_reply.started": "2021-07-10T13:13:37.454348Z"
    },
    "papermill": {
     "duration": 0.072438,
     "end_time": "2021-07-10T13:33:43.921930",
     "exception": false,
     "start_time": "2021-07-10T13:33:43.849492",
     "status": "completed"
    },
    "tags": []
   },
   "outputs": [
    {
     "data": {
      "text/html": [
       "<div>\n",
       "<style scoped>\n",
       "    .dataframe tbody tr th:only-of-type {\n",
       "        vertical-align: middle;\n",
       "    }\n",
       "\n",
       "    .dataframe tbody tr th {\n",
       "        vertical-align: top;\n",
       "    }\n",
       "\n",
       "    .dataframe thead th {\n",
       "        text-align: right;\n",
       "    }\n",
       "</style>\n",
       "<table border=\"1\" class=\"dataframe\">\n",
       "  <thead>\n",
       "    <tr style=\"text-align: right;\">\n",
       "      <th></th>\n",
       "      <th>Player_Name</th>\n",
       "      <th>DOB</th>\n",
       "      <th>Batting_Hand</th>\n",
       "      <th>Bowling_Skill</th>\n",
       "      <th>Country</th>\n",
       "    </tr>\n",
       "  </thead>\n",
       "  <tbody>\n",
       "    <tr>\n",
       "      <th>197</th>\n",
       "      <td>J Dala</td>\n",
       "      <td>NaT</td>\n",
       "      <td>NaN</td>\n",
       "      <td>Right-arm Medium</td>\n",
       "      <td>NaN</td>\n",
       "    </tr>\n",
       "    <tr>\n",
       "      <th>440</th>\n",
       "      <td>S Midhun</td>\n",
       "      <td>NaT</td>\n",
       "      <td>NaN</td>\n",
       "      <td>Legbreak</td>\n",
       "      <td>NaN</td>\n",
       "    </tr>\n",
       "    <tr>\n",
       "      <th>520</th>\n",
       "      <td>Tejas Baroka</td>\n",
       "      <td>NaT</td>\n",
       "      <td>NaN</td>\n",
       "      <td>Legbreak googly</td>\n",
       "      <td>NaN</td>\n",
       "    </tr>\n",
       "  </tbody>\n",
       "</table>\n",
       "</div>"
      ],
      "text/plain": [
       "      Player_Name DOB Batting_Hand     Bowling_Skill Country\n",
       "197        J Dala NaT          NaN  Right-arm Medium     NaN\n",
       "440      S Midhun NaT          NaN          Legbreak     NaN\n",
       "520  Tejas Baroka NaT          NaN   Legbreak googly     NaN"
      ]
     },
     "execution_count": 26,
     "metadata": {},
     "output_type": "execute_result"
    }
   ],
   "source": [
    "players[players['Batting_Hand'].isnull()]"
   ]
  },
  {
   "cell_type": "markdown",
   "id": "9959ed35",
   "metadata": {
    "papermill": {
     "duration": 0.057924,
     "end_time": "2021-07-10T13:33:44.037452",
     "exception": false,
     "start_time": "2021-07-10T13:33:43.979528",
     "status": "completed"
    },
    "tags": []
   },
   "source": [
    "### Players with no country has no DOB too \n",
    "### 64 players have no bowling skills attached too\n",
    "### players with nan Batting hand has Bowling skill and vice versa, so we can still get a value from these records "
   ]
  },
  {
   "cell_type": "code",
   "execution_count": 27,
   "id": "5916d5f4",
   "metadata": {
    "execution": {
     "iopub.execute_input": "2021-07-10T13:33:44.157368Z",
     "iopub.status.busy": "2021-07-10T13:33:44.156780Z",
     "iopub.status.idle": "2021-07-10T13:33:44.162956Z",
     "shell.execute_reply": "2021-07-10T13:33:44.163382Z",
     "shell.execute_reply.started": "2021-07-10T13:13:37.473537Z"
    },
    "papermill": {
     "duration": 0.06629,
     "end_time": "2021-07-10T13:33:44.163549",
     "exception": false,
     "start_time": "2021-07-10T13:33:44.097259",
     "status": "completed"
    },
    "tags": []
   },
   "outputs": [],
   "source": [
    "players_cleaned = players.copy()\n",
    "players_cleaned['DOB'] = players_cleaned['DOB'].fillna(datetime(2020, 1, 1))\n",
    "players_cleaned = players_cleaned.fillna('none')"
   ]
  },
  {
   "cell_type": "markdown",
   "id": "ca8ec677",
   "metadata": {
    "papermill": {
     "duration": 0.058276,
     "end_time": "2021-07-10T13:33:44.284110",
     "exception": false,
     "start_time": "2021-07-10T13:33:44.225834",
     "status": "completed"
    },
    "tags": []
   },
   "source": [
    "## Teams data frame\n"
   ]
  },
  {
   "cell_type": "code",
   "execution_count": 28,
   "id": "b8a9d688",
   "metadata": {
    "execution": {
     "iopub.execute_input": "2021-07-10T13:33:44.403746Z",
     "iopub.status.busy": "2021-07-10T13:33:44.403079Z",
     "iopub.status.idle": "2021-07-10T13:33:44.415688Z",
     "shell.execute_reply": "2021-07-10T13:33:44.414804Z",
     "shell.execute_reply.started": "2021-07-10T13:13:37.488836Z"
    },
    "papermill": {
     "duration": 0.073873,
     "end_time": "2021-07-10T13:33:44.415872",
     "exception": false,
     "start_time": "2021-07-10T13:33:44.341999",
     "status": "completed"
    },
    "tags": []
   },
   "outputs": [
    {
     "name": "stdout",
     "output_type": "stream",
     "text": [
      "<class 'pandas.core.frame.DataFrame'>\n",
      "RangeIndex: 15 entries, 0 to 14\n",
      "Data columns (total 1 columns):\n",
      " #   Column  Non-Null Count  Dtype \n",
      "---  ------  --------------  ----- \n",
      " 0   team1   15 non-null     object\n",
      "dtypes: object(1)\n",
      "memory usage: 248.0+ bytes\n"
     ]
    }
   ],
   "source": [
    "teams.info()"
   ]
  },
  {
   "cell_type": "code",
   "execution_count": 29,
   "id": "43f1574e",
   "metadata": {
    "execution": {
     "iopub.execute_input": "2021-07-10T13:33:44.541272Z",
     "iopub.status.busy": "2021-07-10T13:33:44.540403Z",
     "iopub.status.idle": "2021-07-10T13:33:44.543909Z",
     "shell.execute_reply": "2021-07-10T13:33:44.544328Z",
     "shell.execute_reply.started": "2021-07-10T13:13:37.505508Z"
    },
    "papermill": {
     "duration": 0.068461,
     "end_time": "2021-07-10T13:33:44.544533",
     "exception": false,
     "start_time": "2021-07-10T13:33:44.476072",
     "status": "completed"
    },
    "tags": []
   },
   "outputs": [
    {
     "data": {
      "text/plain": [
       "True"
      ]
     },
     "execution_count": 29,
     "metadata": {},
     "output_type": "execute_result"
    }
   ],
   "source": [
    "set(teams['team1'].unique()) == set(matches_teams)"
   ]
  },
  {
   "cell_type": "markdown",
   "id": "22ad20c0",
   "metadata": {
    "papermill": {
     "duration": 0.059729,
     "end_time": "2021-07-10T13:33:44.663547",
     "exception": false,
     "start_time": "2021-07-10T13:33:44.603818",
     "status": "completed"
    },
    "tags": []
   },
   "source": [
    "# deliveries"
   ]
  },
  {
   "cell_type": "code",
   "execution_count": 30,
   "id": "be0f1627",
   "metadata": {
    "execution": {
     "iopub.execute_input": "2021-07-10T13:33:44.786944Z",
     "iopub.status.busy": "2021-07-10T13:33:44.786014Z",
     "iopub.status.idle": "2021-07-10T13:33:44.913022Z",
     "shell.execute_reply": "2021-07-10T13:33:44.914017Z",
     "shell.execute_reply.started": "2021-07-10T13:13:37.521827Z"
    },
    "papermill": {
     "duration": 0.190309,
     "end_time": "2021-07-10T13:33:44.914321",
     "exception": false,
     "start_time": "2021-07-10T13:33:44.724012",
     "status": "completed"
    },
    "tags": []
   },
   "outputs": [
    {
     "name": "stdout",
     "output_type": "stream",
     "text": [
      "<class 'pandas.core.frame.DataFrame'>\n",
      "RangeIndex: 179078 entries, 0 to 179077\n",
      "Data columns (total 21 columns):\n",
      " #   Column            Non-Null Count   Dtype \n",
      "---  ------            --------------   ----- \n",
      " 0   match_id          179078 non-null  int64 \n",
      " 1   inning            179078 non-null  int64 \n",
      " 2   batting_team      179078 non-null  object\n",
      " 3   bowling_team      179078 non-null  object\n",
      " 4   over              179078 non-null  int64 \n",
      " 5   ball              179078 non-null  int64 \n",
      " 6   batsman           179078 non-null  object\n",
      " 7   non_striker       179078 non-null  object\n",
      " 8   bowler            179078 non-null  object\n",
      " 9   is_super_over     179078 non-null  int64 \n",
      " 10  wide_runs         179078 non-null  int64 \n",
      " 11  bye_runs          179078 non-null  int64 \n",
      " 12  legbye_runs       179078 non-null  int64 \n",
      " 13  noball_runs       179078 non-null  int64 \n",
      " 14  penalty_runs      179078 non-null  int64 \n",
      " 15  batsman_runs      179078 non-null  int64 \n",
      " 16  extra_runs        179078 non-null  int64 \n",
      " 17  total_runs        179078 non-null  int64 \n",
      " 18  player_dismissed  8834 non-null    object\n",
      " 19  dismissal_kind    8834 non-null    object\n",
      " 20  fielder           6448 non-null    object\n",
      "dtypes: int64(13), object(8)\n",
      "memory usage: 28.7+ MB\n"
     ]
    }
   ],
   "source": [
    "deliveries.info()"
   ]
  },
  {
   "cell_type": "markdown",
   "id": "7f8924b7",
   "metadata": {
    "papermill": {
     "duration": 0.059872,
     "end_time": "2021-07-10T13:33:45.034990",
     "exception": false,
     "start_time": "2021-07-10T13:33:44.975118",
     "status": "completed"
    },
    "tags": []
   },
   "source": [
    "## Looks like there are 3 columns with problems:\n",
    "> 1. player_dismissed\n",
    "> 2. dismissal_kind\n",
    "> 3. fielder"
   ]
  },
  {
   "cell_type": "markdown",
   "id": "2b67a1e0",
   "metadata": {
    "papermill": {
     "duration": 0.060685,
     "end_time": "2021-07-10T13:33:45.156537",
     "exception": false,
     "start_time": "2021-07-10T13:33:45.095852",
     "status": "completed"
    },
    "tags": []
   },
   "source": [
    "## Dismissing doesn't happen very often that's probably why we have  player_dismissed and dismissal_kind columns with a lot of nulls\n",
    "## The fielder is not mentioned in most of the games, so we will just fill these columns with a none value"
   ]
  },
  {
   "cell_type": "code",
   "execution_count": 31,
   "id": "d182848b",
   "metadata": {
    "execution": {
     "iopub.execute_input": "2021-07-10T13:33:45.303957Z",
     "iopub.status.busy": "2021-07-10T13:33:45.303065Z",
     "iopub.status.idle": "2021-07-10T13:33:45.307187Z",
     "shell.execute_reply": "2021-07-10T13:33:45.306710Z",
     "shell.execute_reply.started": "2021-07-10T13:13:37.655702Z"
    },
    "papermill": {
     "duration": 0.089738,
     "end_time": "2021-07-10T13:33:45.307325",
     "exception": false,
     "start_time": "2021-07-10T13:33:45.217587",
     "status": "completed"
    },
    "tags": []
   },
   "outputs": [
    {
     "data": {
      "text/plain": [
       "array([nan, 'caught', 'bowled', 'run out', 'lbw', 'caught and bowled',\n",
       "       'stumped', 'retired hurt', 'hit wicket', 'obstructing the field'],\n",
       "      dtype=object)"
      ]
     },
     "execution_count": 31,
     "metadata": {},
     "output_type": "execute_result"
    }
   ],
   "source": [
    "deliveries.dismissal_kind.unique()"
   ]
  },
  {
   "cell_type": "code",
   "execution_count": 32,
   "id": "3ec3b6dd",
   "metadata": {
    "execution": {
     "iopub.execute_input": "2021-07-10T13:33:45.431594Z",
     "iopub.status.busy": "2021-07-10T13:33:45.430899Z",
     "iopub.status.idle": "2021-07-10T13:33:45.571950Z",
     "shell.execute_reply": "2021-07-10T13:33:45.571277Z",
     "shell.execute_reply.started": "2021-07-10T13:13:37.687734Z"
    },
    "papermill": {
     "duration": 0.20502,
     "end_time": "2021-07-10T13:33:45.572074",
     "exception": false,
     "start_time": "2021-07-10T13:33:45.367054",
     "status": "completed"
    },
    "tags": []
   },
   "outputs": [],
   "source": [
    "deliveries_cleaned = deliveries.fillna('none')"
   ]
  },
  {
   "cell_type": "code",
   "execution_count": 33,
   "id": "1eb2832c",
   "metadata": {
    "execution": {
     "iopub.execute_input": "2021-07-10T13:33:45.697454Z",
     "iopub.status.busy": "2021-07-10T13:33:45.696813Z",
     "iopub.status.idle": "2021-07-10T13:33:45.854890Z",
     "shell.execute_reply": "2021-07-10T13:33:45.854415Z",
     "shell.execute_reply.started": "2021-07-10T13:13:37.823282Z"
    },
    "papermill": {
     "duration": 0.22338,
     "end_time": "2021-07-10T13:33:45.855021",
     "exception": false,
     "start_time": "2021-07-10T13:33:45.631641",
     "status": "completed"
    },
    "tags": []
   },
   "outputs": [
    {
     "name": "stdout",
     "output_type": "stream",
     "text": [
      "<class 'pandas.core.frame.DataFrame'>\n",
      "RangeIndex: 179078 entries, 0 to 179077\n",
      "Data columns (total 21 columns):\n",
      " #   Column            Non-Null Count   Dtype \n",
      "---  ------            --------------   ----- \n",
      " 0   match_id          179078 non-null  int64 \n",
      " 1   inning            179078 non-null  int64 \n",
      " 2   batting_team      179078 non-null  object\n",
      " 3   bowling_team      179078 non-null  object\n",
      " 4   over              179078 non-null  int64 \n",
      " 5   ball              179078 non-null  int64 \n",
      " 6   batsman           179078 non-null  object\n",
      " 7   non_striker       179078 non-null  object\n",
      " 8   bowler            179078 non-null  object\n",
      " 9   is_super_over     179078 non-null  int64 \n",
      " 10  wide_runs         179078 non-null  int64 \n",
      " 11  bye_runs          179078 non-null  int64 \n",
      " 12  legbye_runs       179078 non-null  int64 \n",
      " 13  noball_runs       179078 non-null  int64 \n",
      " 14  penalty_runs      179078 non-null  int64 \n",
      " 15  batsman_runs      179078 non-null  int64 \n",
      " 16  extra_runs        179078 non-null  int64 \n",
      " 17  total_runs        179078 non-null  int64 \n",
      " 18  player_dismissed  179078 non-null  object\n",
      " 19  dismissal_kind    179078 non-null  object\n",
      " 20  fielder           179078 non-null  object\n",
      "dtypes: int64(13), object(8)\n",
      "memory usage: 28.7+ MB\n"
     ]
    }
   ],
   "source": [
    "deliveries_cleaned.info()"
   ]
  },
  {
   "cell_type": "code",
   "execution_count": 34,
   "id": "7d33acba",
   "metadata": {
    "execution": {
     "iopub.execute_input": "2021-07-10T13:33:45.981287Z",
     "iopub.status.busy": "2021-07-10T13:33:45.980672Z",
     "iopub.status.idle": "2021-07-10T13:33:46.178935Z",
     "shell.execute_reply": "2021-07-10T13:33:46.178449Z",
     "shell.execute_reply.started": "2021-07-10T13:13:37.988306Z"
    },
    "papermill": {
     "duration": 0.263081,
     "end_time": "2021-07-10T13:33:46.179073",
     "exception": false,
     "start_time": "2021-07-10T13:33:45.915992",
     "status": "completed"
    },
    "tags": []
   },
   "outputs": [
    {
     "data": {
      "text/plain": [
       "23"
      ]
     },
     "execution_count": 34,
     "metadata": {},
     "output_type": "execute_result"
    }
   ],
   "source": [
    "deliveries_cleaned.duplicated().sum()"
   ]
  },
  {
   "cell_type": "markdown",
   "id": "7f3bc178",
   "metadata": {
    "papermill": {
     "duration": 0.060291,
     "end_time": "2021-07-10T13:33:46.301377",
     "exception": false,
     "start_time": "2021-07-10T13:33:46.241086",
     "status": "completed"
    },
    "tags": []
   },
   "source": [
    "## We have a 23 dublicated rows"
   ]
  },
  {
   "cell_type": "code",
   "execution_count": 35,
   "id": "079fd1ee",
   "metadata": {
    "execution": {
     "iopub.execute_input": "2021-07-10T13:33:46.427546Z",
     "iopub.status.busy": "2021-07-10T13:33:46.426943Z",
     "iopub.status.idle": "2021-07-10T13:33:46.679471Z",
     "shell.execute_reply": "2021-07-10T13:33:46.678990Z",
     "shell.execute_reply.started": "2021-07-10T13:13:38.191655Z"
    },
    "papermill": {
     "duration": 0.318567,
     "end_time": "2021-07-10T13:33:46.679627",
     "exception": false,
     "start_time": "2021-07-10T13:33:46.361060",
     "status": "completed"
    },
    "tags": []
   },
   "outputs": [],
   "source": [
    "deliveries_cleaned = deliveries_cleaned.drop_duplicates()"
   ]
  },
  {
   "cell_type": "code",
   "execution_count": 36,
   "id": "d9c1c5a7",
   "metadata": {
    "execution": {
     "iopub.execute_input": "2021-07-10T13:33:46.807140Z",
     "iopub.status.busy": "2021-07-10T13:33:46.806555Z",
     "iopub.status.idle": "2021-07-10T13:33:46.996960Z",
     "shell.execute_reply": "2021-07-10T13:33:46.996476Z",
     "shell.execute_reply.started": "2021-07-10T13:13:38.404519Z"
    },
    "papermill": {
     "duration": 0.255707,
     "end_time": "2021-07-10T13:33:46.997090",
     "exception": false,
     "start_time": "2021-07-10T13:33:46.741383",
     "status": "completed"
    },
    "tags": []
   },
   "outputs": [
    {
     "data": {
      "text/plain": [
       "0"
      ]
     },
     "execution_count": 36,
     "metadata": {},
     "output_type": "execute_result"
    }
   ],
   "source": [
    "deliveries_cleaned.duplicated().sum()"
   ]
  },
  {
   "cell_type": "code",
   "execution_count": 37,
   "id": "214e564c",
   "metadata": {
    "execution": {
     "iopub.execute_input": "2021-07-10T13:33:47.134267Z",
     "iopub.status.busy": "2021-07-10T13:33:47.133701Z",
     "iopub.status.idle": "2021-07-10T13:33:47.137859Z",
     "shell.execute_reply": "2021-07-10T13:33:47.137374Z",
     "shell.execute_reply.started": "2021-07-10T13:13:41.652149Z"
    },
    "papermill": {
     "duration": 0.079026,
     "end_time": "2021-07-10T13:33:47.137982",
     "exception": false,
     "start_time": "2021-07-10T13:33:47.058956",
     "status": "completed"
    },
    "tags": []
   },
   "outputs": [
    {
     "name": "stdout",
     "output_type": "stream",
     "text": [
      "<class 'pandas.core.frame.DataFrame'>\n",
      "RangeIndex: 516 entries, 0 to 515\n",
      "Data columns (total 6 columns):\n",
      " #   Column         Non-Null Count  Dtype  \n",
      "---  ------         --------------  -----  \n",
      " 0   batsman        516 non-null    object \n",
      " 1   total_runs     516 non-null    int64  \n",
      " 2   out            516 non-null    int64  \n",
      " 3   numberofballs  516 non-null    int64  \n",
      " 4   average        482 non-null    float64\n",
      " 5   strikerate     516 non-null    float64\n",
      "dtypes: float64(2), int64(3), object(1)\n",
      "memory usage: 24.3+ KB\n"
     ]
    }
   ],
   "source": [
    "most_runs_average_strikerate.info()"
   ]
  },
  {
   "cell_type": "code",
   "execution_count": 38,
   "id": "77236a2a",
   "metadata": {
    "execution": {
     "iopub.execute_input": "2021-07-10T13:33:47.273486Z",
     "iopub.status.busy": "2021-07-10T13:33:47.272851Z",
     "iopub.status.idle": "2021-07-10T13:33:47.277516Z",
     "shell.execute_reply": "2021-07-10T13:33:47.276993Z",
     "shell.execute_reply.started": "2021-07-10T13:15:10.638194Z"
    },
    "papermill": {
     "duration": 0.078903,
     "end_time": "2021-07-10T13:33:47.277654",
     "exception": false,
     "start_time": "2021-07-10T13:33:47.198751",
     "status": "completed"
    },
    "tags": []
   },
   "outputs": [
    {
     "data": {
      "text/html": [
       "<div>\n",
       "<style scoped>\n",
       "    .dataframe tbody tr th:only-of-type {\n",
       "        vertical-align: middle;\n",
       "    }\n",
       "\n",
       "    .dataframe tbody tr th {\n",
       "        vertical-align: top;\n",
       "    }\n",
       "\n",
       "    .dataframe thead th {\n",
       "        text-align: right;\n",
       "    }\n",
       "</style>\n",
       "<table border=\"1\" class=\"dataframe\">\n",
       "  <thead>\n",
       "    <tr style=\"text-align: right;\">\n",
       "      <th></th>\n",
       "      <th>batsman</th>\n",
       "      <th>total_runs</th>\n",
       "      <th>out</th>\n",
       "      <th>numberofballs</th>\n",
       "      <th>average</th>\n",
       "      <th>strikerate</th>\n",
       "    </tr>\n",
       "  </thead>\n",
       "  <tbody>\n",
       "    <tr>\n",
       "      <th>359</th>\n",
       "      <td>H Brar</td>\n",
       "      <td>20</td>\n",
       "      <td>0</td>\n",
       "      <td>12</td>\n",
       "      <td>NaN</td>\n",
       "      <td>166.666667</td>\n",
       "    </tr>\n",
       "    <tr>\n",
       "      <th>366</th>\n",
       "      <td>P Sahu</td>\n",
       "      <td>19</td>\n",
       "      <td>0</td>\n",
       "      <td>13</td>\n",
       "      <td>NaN</td>\n",
       "      <td>146.153846</td>\n",
       "    </tr>\n",
       "    <tr>\n",
       "      <th>386</th>\n",
       "      <td>A Joseph</td>\n",
       "      <td>15</td>\n",
       "      <td>0</td>\n",
       "      <td>13</td>\n",
       "      <td>NaN</td>\n",
       "      <td>115.384615</td>\n",
       "    </tr>\n",
       "    <tr>\n",
       "      <th>398</th>\n",
       "      <td>DAJ Bracewell</td>\n",
       "      <td>12</td>\n",
       "      <td>0</td>\n",
       "      <td>9</td>\n",
       "      <td>NaN</td>\n",
       "      <td>133.333333</td>\n",
       "    </tr>\n",
       "    <tr>\n",
       "      <th>400</th>\n",
       "      <td>AR Bawne</td>\n",
       "      <td>12</td>\n",
       "      <td>0</td>\n",
       "      <td>12</td>\n",
       "      <td>NaN</td>\n",
       "      <td>100.000000</td>\n",
       "    </tr>\n",
       "  </tbody>\n",
       "</table>\n",
       "</div>"
      ],
      "text/plain": [
       "           batsman  total_runs  out  numberofballs  average  strikerate\n",
       "359         H Brar          20    0             12      NaN  166.666667\n",
       "366         P Sahu          19    0             13      NaN  146.153846\n",
       "386       A Joseph          15    0             13      NaN  115.384615\n",
       "398  DAJ Bracewell          12    0              9      NaN  133.333333\n",
       "400       AR Bawne          12    0             12      NaN  100.000000"
      ]
     },
     "execution_count": 38,
     "metadata": {},
     "output_type": "execute_result"
    }
   ],
   "source": [
    "most_runs_average_strikerate[most_runs_average_strikerate['average'].isnull()].head() "
   ]
  },
  {
   "cell_type": "markdown",
   "id": "411256c9",
   "metadata": {
    "papermill": {
     "duration": 0.062624,
     "end_time": "2021-07-10T13:33:47.403186",
     "exception": false,
     "start_time": "2021-07-10T13:33:47.340562",
     "status": "completed"
    },
    "tags": []
   },
   "source": [
    "## Let's figure out what's the average column represents"
   ]
  },
  {
   "cell_type": "code",
   "execution_count": 39,
   "id": "95aa21c4",
   "metadata": {
    "execution": {
     "iopub.execute_input": "2021-07-10T13:33:47.542542Z",
     "iopub.status.busy": "2021-07-10T13:33:47.541697Z",
     "iopub.status.idle": "2021-07-10T13:33:47.545915Z",
     "shell.execute_reply": "2021-07-10T13:33:47.545450Z",
     "shell.execute_reply.started": "2021-07-10T13:28:40.742188Z"
    },
    "papermill": {
     "duration": 0.080893,
     "end_time": "2021-07-10T13:33:47.546058",
     "exception": false,
     "start_time": "2021-07-10T13:33:47.465165",
     "status": "completed"
    },
    "tags": []
   },
   "outputs": [
    {
     "data": {
      "text/html": [
       "<div>\n",
       "<style scoped>\n",
       "    .dataframe tbody tr th:only-of-type {\n",
       "        vertical-align: middle;\n",
       "    }\n",
       "\n",
       "    .dataframe tbody tr th {\n",
       "        vertical-align: top;\n",
       "    }\n",
       "\n",
       "    .dataframe thead th {\n",
       "        text-align: right;\n",
       "    }\n",
       "</style>\n",
       "<table border=\"1\" class=\"dataframe\">\n",
       "  <thead>\n",
       "    <tr style=\"text-align: right;\">\n",
       "      <th></th>\n",
       "      <th>batsman</th>\n",
       "      <th>total_runs</th>\n",
       "      <th>out</th>\n",
       "      <th>numberofballs</th>\n",
       "      <th>average</th>\n",
       "      <th>strikerate</th>\n",
       "    </tr>\n",
       "  </thead>\n",
       "  <tbody>\n",
       "    <tr>\n",
       "      <th>0</th>\n",
       "      <td>V Kohli</td>\n",
       "      <td>5426</td>\n",
       "      <td>152</td>\n",
       "      <td>4111</td>\n",
       "      <td>35.697368</td>\n",
       "      <td>131.987351</td>\n",
       "    </tr>\n",
       "    <tr>\n",
       "      <th>1</th>\n",
       "      <td>SK Raina</td>\n",
       "      <td>5386</td>\n",
       "      <td>160</td>\n",
       "      <td>3916</td>\n",
       "      <td>33.662500</td>\n",
       "      <td>137.538304</td>\n",
       "    </tr>\n",
       "    <tr>\n",
       "      <th>2</th>\n",
       "      <td>RG Sharma</td>\n",
       "      <td>4902</td>\n",
       "      <td>161</td>\n",
       "      <td>3742</td>\n",
       "      <td>30.447205</td>\n",
       "      <td>130.999466</td>\n",
       "    </tr>\n",
       "    <tr>\n",
       "      <th>3</th>\n",
       "      <td>DA Warner</td>\n",
       "      <td>4717</td>\n",
       "      <td>114</td>\n",
       "      <td>3292</td>\n",
       "      <td>41.377193</td>\n",
       "      <td>143.286756</td>\n",
       "    </tr>\n",
       "    <tr>\n",
       "      <th>4</th>\n",
       "      <td>S Dhawan</td>\n",
       "      <td>4601</td>\n",
       "      <td>137</td>\n",
       "      <td>3665</td>\n",
       "      <td>33.583942</td>\n",
       "      <td>125.538881</td>\n",
       "    </tr>\n",
       "    <tr>\n",
       "      <th>...</th>\n",
       "      <td>...</td>\n",
       "      <td>...</td>\n",
       "      <td>...</td>\n",
       "      <td>...</td>\n",
       "      <td>...</td>\n",
       "      <td>...</td>\n",
       "    </tr>\n",
       "    <tr>\n",
       "      <th>511</th>\n",
       "      <td>ND Doshi</td>\n",
       "      <td>0</td>\n",
       "      <td>1</td>\n",
       "      <td>13</td>\n",
       "      <td>0.000000</td>\n",
       "      <td>0.000000</td>\n",
       "    </tr>\n",
       "    <tr>\n",
       "      <th>512</th>\n",
       "      <td>J Denly</td>\n",
       "      <td>0</td>\n",
       "      <td>1</td>\n",
       "      <td>1</td>\n",
       "      <td>0.000000</td>\n",
       "      <td>0.000000</td>\n",
       "    </tr>\n",
       "    <tr>\n",
       "      <th>513</th>\n",
       "      <td>S Ladda</td>\n",
       "      <td>0</td>\n",
       "      <td>2</td>\n",
       "      <td>9</td>\n",
       "      <td>0.000000</td>\n",
       "      <td>0.000000</td>\n",
       "    </tr>\n",
       "    <tr>\n",
       "      <th>514</th>\n",
       "      <td>V Pratap Singh</td>\n",
       "      <td>0</td>\n",
       "      <td>1</td>\n",
       "      <td>1</td>\n",
       "      <td>0.000000</td>\n",
       "      <td>0.000000</td>\n",
       "    </tr>\n",
       "    <tr>\n",
       "      <th>515</th>\n",
       "      <td>S Kaushik</td>\n",
       "      <td>0</td>\n",
       "      <td>1</td>\n",
       "      <td>1</td>\n",
       "      <td>0.000000</td>\n",
       "      <td>0.000000</td>\n",
       "    </tr>\n",
       "  </tbody>\n",
       "</table>\n",
       "<p>516 rows × 6 columns</p>\n",
       "</div>"
      ],
      "text/plain": [
       "            batsman  total_runs  out  numberofballs    average  strikerate\n",
       "0           V Kohli        5426  152           4111  35.697368  131.987351\n",
       "1          SK Raina        5386  160           3916  33.662500  137.538304\n",
       "2         RG Sharma        4902  161           3742  30.447205  130.999466\n",
       "3         DA Warner        4717  114           3292  41.377193  143.286756\n",
       "4          S Dhawan        4601  137           3665  33.583942  125.538881\n",
       "..              ...         ...  ...            ...        ...         ...\n",
       "511        ND Doshi           0    1             13   0.000000    0.000000\n",
       "512         J Denly           0    1              1   0.000000    0.000000\n",
       "513         S Ladda           0    2              9   0.000000    0.000000\n",
       "514  V Pratap Singh           0    1              1   0.000000    0.000000\n",
       "515       S Kaushik           0    1              1   0.000000    0.000000\n",
       "\n",
       "[516 rows x 6 columns]"
      ]
     },
     "execution_count": 39,
     "metadata": {},
     "output_type": "execute_result"
    }
   ],
   "source": [
    "most_runs_average_strikerate"
   ]
  },
  {
   "cell_type": "markdown",
   "id": "831b77f4",
   "metadata": {
    "papermill": {
     "duration": 0.062497,
     "end_time": "2021-07-10T13:33:47.670817",
     "exception": false,
     "start_time": "2021-07-10T13:33:47.608320",
     "status": "completed"
    },
    "tags": []
   },
   "source": [
    "## We can see when total_runs = 0 average is 0 and when out is 0 then average is NAN this suggests average = total_runs/out"
   ]
  },
  {
   "cell_type": "markdown",
   "id": "aa3aa46a",
   "metadata": {
    "papermill": {
     "duration": 0.062029,
     "end_time": "2021-07-10T13:33:47.796007",
     "exception": false,
     "start_time": "2021-07-10T13:33:47.733978",
     "status": "completed"
    },
    "tags": []
   },
   "source": [
    "### For the nan values we will just set them to -1 indicating no outs "
   ]
  },
  {
   "cell_type": "code",
   "execution_count": 40,
   "id": "23503ac0",
   "metadata": {
    "execution": {
     "iopub.execute_input": "2021-07-10T13:33:47.927876Z",
     "iopub.status.busy": "2021-07-10T13:33:47.926885Z",
     "iopub.status.idle": "2021-07-10T13:33:47.929748Z",
     "shell.execute_reply": "2021-07-10T13:33:47.929205Z",
     "shell.execute_reply.started": "2021-07-10T13:31:14.695532Z"
    },
    "papermill": {
     "duration": 0.070927,
     "end_time": "2021-07-10T13:33:47.929883",
     "exception": false,
     "start_time": "2021-07-10T13:33:47.858956",
     "status": "completed"
    },
    "tags": []
   },
   "outputs": [],
   "source": [
    "most_runs_average_strikerate_cleaned = most_runs_average_strikerate.fillna(-1)\n"
   ]
  },
  {
   "cell_type": "markdown",
   "id": "64f03acf",
   "metadata": {
    "papermill": {
     "duration": 0.064049,
     "end_time": "2021-07-10T13:33:48.056848",
     "exception": false,
     "start_time": "2021-07-10T13:33:47.992799",
     "status": "completed"
    },
    "tags": []
   },
   "source": [
    "## Let's save our cleaned data "
   ]
  },
  {
   "cell_type": "code",
   "execution_count": 41,
   "id": "f0936b62",
   "metadata": {
    "execution": {
     "iopub.execute_input": "2021-07-10T13:33:48.187290Z",
     "iopub.status.busy": "2021-07-10T13:33:48.186695Z",
     "iopub.status.idle": "2021-07-10T13:33:48.195070Z",
     "shell.execute_reply": "2021-07-10T13:33:48.194614Z",
     "shell.execute_reply.started": "2021-07-10T13:31:37.672725Z"
    },
    "papermill": {
     "duration": 0.071861,
     "end_time": "2021-07-10T13:33:48.195199",
     "exception": false,
     "start_time": "2021-07-10T13:33:48.123338",
     "status": "completed"
    },
    "tags": []
   },
   "outputs": [
    {
     "name": "stdout",
     "output_type": "stream",
     "text": [
      "/kaggle/src/script.ipynb\n",
      "/kaggle/lib/kaggle/gcp.py\n",
      "/kaggle/input/ipl-data-set/matches.csv\n",
      "/kaggle/input/ipl-data-set/teamwise_home_and_away.csv\n",
      "/kaggle/input/ipl-data-set/deliveries.csv\n",
      "/kaggle/input/ipl-data-set/most_runs_average_strikerate.csv\n",
      "/kaggle/input/ipl-data-set/teams.csv\n",
      "/kaggle/input/ipl-data-set/Players.xlsx\n",
      "/kaggle/working/__notebook__.ipynb\n"
     ]
    }
   ],
   "source": [
    "for dirname, _, filenames in os.walk('/kaggle/'):\n",
    "    for filename in filenames:\n",
    "        print(os.path.join(dirname, filename))"
   ]
  },
  {
   "cell_type": "code",
   "execution_count": 42,
   "id": "8f3a0095",
   "metadata": {
    "execution": {
     "iopub.execute_input": "2021-07-10T13:33:48.326691Z",
     "iopub.status.busy": "2021-07-10T13:33:48.325671Z",
     "iopub.status.idle": "2021-07-10T13:33:48.327977Z",
     "shell.execute_reply": "2021-07-10T13:33:48.328449Z",
     "shell.execute_reply.started": "2021-07-10T13:32:29.510628Z"
    },
    "papermill": {
     "duration": 0.069826,
     "end_time": "2021-07-10T13:33:48.328622",
     "exception": false,
     "start_time": "2021-07-10T13:33:48.258796",
     "status": "completed"
    },
    "tags": []
   },
   "outputs": [],
   "source": [
    "out_base = \"/kaggle/working/cleaned_out\"\n",
    "mode = 0o666\n",
    "if not os.path.exists(out_base):\n",
    "    os.mkdir(out_base,mode)\n"
   ]
  },
  {
   "cell_type": "code",
   "execution_count": 43,
   "id": "be8a6c42",
   "metadata": {
    "execution": {
     "iopub.execute_input": "2021-07-10T13:33:48.456573Z",
     "iopub.status.busy": "2021-07-10T13:33:48.455649Z",
     "iopub.status.idle": "2021-07-10T13:33:48.597461Z",
     "shell.execute_reply": "2021-07-10T13:33:48.597948Z",
     "shell.execute_reply.started": "2021-07-10T13:32:33.652559Z"
    },
    "papermill": {
     "duration": 0.207349,
     "end_time": "2021-07-10T13:33:48.598145",
     "exception": false,
     "start_time": "2021-07-10T13:33:48.390796",
     "status": "completed"
    },
    "tags": []
   },
   "outputs": [],
   "source": [
    "deliveries_cleaned.to_pickle(out_base+\"/deliveries.pkl\")\n",
    "players_cleaned.to_pickle(out_base+\"/players.pkl\")\n",
    "teams.to_pickle(out_base+\"/teams.pkl\")\n",
    "matches_cleaned.to_pickle(out_base+\"/matches.pkl\")\n",
    "teamwise_home_and_away.to_pickle(out_base+\"/teamwise_home_and_away.pkl\")\n",
    "most_runs_average_strikerate.to_pickle(out_base+\"/most_runs_average_strikerate.pkl\")"
   ]
  },
  {
   "cell_type": "code",
   "execution_count": null,
   "id": "28637b17",
   "metadata": {
    "papermill": {
     "duration": 0.062071,
     "end_time": "2021-07-10T13:33:48.722047",
     "exception": false,
     "start_time": "2021-07-10T13:33:48.659976",
     "status": "completed"
    },
    "tags": []
   },
   "outputs": [],
   "source": []
  }
 ],
 "metadata": {
  "kernelspec": {
   "display_name": "Python 3",
   "language": "python",
   "name": "python3"
  },
  "language_info": {
   "codemirror_mode": {
    "name": "ipython",
    "version": 3
   },
   "file_extension": ".py",
   "mimetype": "text/x-python",
   "name": "python",
   "nbconvert_exporter": "python",
   "pygments_lexer": "ipython3",
   "version": "3.7.10"
  },
  "papermill": {
   "default_parameters": {},
   "duration": 28.938198,
   "end_time": "2021-07-10T13:33:50.249255",
   "environment_variables": {},
   "exception": null,
   "input_path": "__notebook__.ipynb",
   "output_path": "__notebook__.ipynb",
   "parameters": {},
   "start_time": "2021-07-10T13:33:21.311057",
   "version": "2.3.3"
  }
 },
 "nbformat": 4,
 "nbformat_minor": 5
}
