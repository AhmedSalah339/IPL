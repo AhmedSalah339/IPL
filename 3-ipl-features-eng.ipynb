{
 "cells": [
  {
   "cell_type": "code",
   "execution_count": 1,
   "id": "f40dd40c",
   "metadata": {
    "_cell_guid": "b1076dfc-b9ad-4769-8c92-a6c4dae69d19",
    "_uuid": "8f2839f25d086af736a60e9eeb907d3b93b6e0e5",
    "execution": {
     "iopub.execute_input": "2021-11-07T08:24:32.865769Z",
     "iopub.status.busy": "2021-11-07T08:24:32.864543Z",
     "iopub.status.idle": "2021-11-07T08:24:34.086645Z",
     "shell.execute_reply": "2021-11-07T08:24:34.087191Z",
     "shell.execute_reply.started": "2021-11-07T08:23:54.934753Z"
    },
    "papermill": {
     "duration": 1.274883,
     "end_time": "2021-11-07T08:24:34.087497",
     "exception": false,
     "start_time": "2021-11-07T08:24:32.812614",
     "status": "completed"
    },
    "tags": []
   },
   "outputs": [
    {
     "name": "stdout",
     "output_type": "stream",
     "text": [
      "/kaggle/input/ipl-eda/matches_world_eda.pkl\n",
      "/kaggle/input/ipl-eda/__results__.html\n",
      "/kaggle/input/ipl-eda/__resultx__.html\n",
      "/kaggle/input/ipl-eda/__notebook__.ipynb\n",
      "/kaggle/input/ipl-eda/__output__.json\n",
      "/kaggle/input/ipl-eda/custom.css\n",
      "/kaggle/input/ipl-eda/__results___files/__results___8_0.png\n",
      "/kaggle/input/ipl-eda/__results___files/__results___60_0.png\n",
      "/kaggle/input/ipl-eda/__results___files/__results___10_0.png\n",
      "/kaggle/input/ipl-eda/__results___files/__results___51_1.png\n",
      "/kaggle/input/ipl-eda/__results___files/__results___73_1.png\n",
      "/kaggle/input/ipl-eda/__results___files/__results___37_0.png\n",
      "/kaggle/input/ipl-eda/__results___files/__results___71_1.png\n",
      "/kaggle/input/ipl-eda/__results___files/__results___41_0.png\n",
      "/kaggle/input/ipl-eda/__results___files/__results___45_1.png\n",
      "/kaggle/input/ipl-data-set/matches.csv\n",
      "/kaggle/input/ipl-data-set/teamwise_home_and_away.csv\n",
      "/kaggle/input/ipl-data-set/deliveries.csv\n",
      "/kaggle/input/ipl-data-set/most_runs_average_strikerate.csv\n",
      "/kaggle/input/ipl-data-set/teams.csv\n",
      "/kaggle/input/ipl-data-set/Players.xlsx\n",
      "/kaggle/input/cleaning/__results__.html\n",
      "/kaggle/input/cleaning/__notebook__.ipynb\n",
      "/kaggle/input/cleaning/__output__.json\n",
      "/kaggle/input/cleaning/custom.css\n",
      "/kaggle/input/cleaning/cleaned_out/matches.pkl\n",
      "/kaggle/input/cleaning/cleaned_out/deliveries.pkl\n",
      "/kaggle/input/cleaning/cleaned_out/teams.pkl\n",
      "/kaggle/input/cleaning/cleaned_out/teamwise_home_and_away.pkl\n",
      "/kaggle/input/cleaning/cleaned_out/players.pkl\n",
      "/kaggle/input/cleaning/cleaned_out/most_runs_average_strikerate.pkl\n"
     ]
    }
   ],
   "source": [
    "# This Python 3 environment comes with many helpful analytics libraries installed\n",
    "# It is defined by the kaggle/python Docker image: https://github.com/kaggle/docker-python\n",
    "# For example, here's several helpful packages to load\n",
    "\n",
    "import numpy as np # linear algebra\n",
    "import pandas as pd # data processing, CSV file I/O (e.g. pd.read_csv)\n",
    "import seaborn as sns\n",
    "from sklearn.preprocessing import LabelEncoder\n",
    "import matplotlib.pyplot as plt\n",
    "# Input data files are available in the read-only \"../input/\" directory\n",
    "# For example, running this (by clicking run or pressing Shift+Enter) will list all files under the input directory\n",
    "\n",
    "import os\n",
    "for dirname, _, filenames in os.walk('/kaggle/input'):\n",
    "    for filename in filenames:\n",
    "        print(os.path.join(dirname, filename))\n",
    "\n",
    "# You can write up to 20GB to the current directory (/kaggle/working/) that gets preserved as output when you create a version using \"Save & Run All\" \n",
    "# You can also write temporary files to /kaggle/temp/, but they won't be saved outside of the current session"
   ]
  },
  {
   "cell_type": "code",
   "execution_count": 2,
   "id": "9b26423a",
   "metadata": {
    "execution": {
     "iopub.execute_input": "2021-11-07T08:24:34.190843Z",
     "iopub.status.busy": "2021-11-07T08:24:34.190166Z",
     "iopub.status.idle": "2021-11-07T08:24:34.516932Z",
     "shell.execute_reply": "2021-11-07T08:24:34.517499Z",
     "shell.execute_reply.started": "2021-11-07T08:23:54.963122Z"
    },
    "papermill": {
     "duration": 0.379513,
     "end_time": "2021-11-07T08:24:34.517714",
     "exception": false,
     "start_time": "2021-11-07T08:24:34.138201",
     "status": "completed"
    },
    "tags": []
   },
   "outputs": [],
   "source": [
    "base = '/kaggle/input/cleaning/cleaned_out/'\n",
    "names = ['matches','teamwise_home_and_away','deliveries','most_runs_average_strikerate','teams','players']\n",
    "for i,name in enumerate(names):\n",
    "    my_code = name+'='+'pd.read_pickle(\"'+base+name+'.pkl'+'\")'\n",
    "    exec(my_code)"
   ]
  },
  {
   "cell_type": "code",
   "execution_count": 3,
   "id": "6ea29f65",
   "metadata": {
    "execution": {
     "iopub.execute_input": "2021-11-07T08:24:34.637102Z",
     "iopub.status.busy": "2021-11-07T08:24:34.636452Z",
     "iopub.status.idle": "2021-11-07T08:24:34.645377Z",
     "shell.execute_reply": "2021-11-07T08:24:34.645911Z",
     "shell.execute_reply.started": "2021-11-07T08:23:55.071933Z"
    },
    "papermill": {
     "duration": 0.07099,
     "end_time": "2021-11-07T08:24:34.646115",
     "exception": false,
     "start_time": "2021-11-07T08:24:34.575125",
     "status": "completed"
    },
    "tags": []
   },
   "outputs": [],
   "source": [
    "matches_full = pd.read_pickle(\"../input/ipl-eda/matches_world_eda.pkl\")"
   ]
  },
  {
   "cell_type": "markdown",
   "id": "81d62ea0",
   "metadata": {
    "papermill": {
     "duration": 0.047378,
     "end_time": "2021-11-07T08:24:34.742687",
     "exception": false,
     "start_time": "2021-11-07T08:24:34.695309",
     "status": "completed"
    },
    "tags": []
   },
   "source": [
    "## Let's first process some of the featuress we have"
   ]
  },
  {
   "cell_type": "code",
   "execution_count": 4,
   "id": "9224234b",
   "metadata": {
    "execution": {
     "iopub.execute_input": "2021-11-07T08:24:34.845586Z",
     "iopub.status.busy": "2021-11-07T08:24:34.844887Z",
     "iopub.status.idle": "2021-11-07T08:24:34.861347Z",
     "shell.execute_reply": "2021-11-07T08:24:34.861898Z",
     "shell.execute_reply.started": "2021-11-07T08:23:55.080992Z"
    },
    "papermill": {
     "duration": 0.069398,
     "end_time": "2021-11-07T08:24:34.862101",
     "exception": false,
     "start_time": "2021-11-07T08:24:34.792703",
     "status": "completed"
    },
    "tags": []
   },
   "outputs": [],
   "source": [
    "cols_to_drop = [\"toss_winner\",\"toss_decision\",]\n",
    "for col in cols_to_drop:\n",
    "    if col in matches_full.columns:\n",
    "        matches_full.drop(columns=col,inplace=True)"
   ]
  },
  {
   "cell_type": "code",
   "execution_count": 5,
   "id": "9993356c",
   "metadata": {
    "execution": {
     "iopub.execute_input": "2021-11-07T08:24:34.962703Z",
     "iopub.status.busy": "2021-11-07T08:24:34.961994Z",
     "iopub.status.idle": "2021-11-07T08:24:34.984937Z",
     "shell.execute_reply": "2021-11-07T08:24:34.984272Z",
     "shell.execute_reply.started": "2021-11-07T08:23:55.094289Z"
    },
    "papermill": {
     "duration": 0.073993,
     "end_time": "2021-11-07T08:24:34.985116",
     "exception": false,
     "start_time": "2021-11-07T08:24:34.911123",
     "status": "completed"
    },
    "tags": []
   },
   "outputs": [
    {
     "name": "stdout",
     "output_type": "stream",
     "text": [
      "<class 'pandas.core.frame.DataFrame'>\n",
      "Int64Index: 836 entries, 0 to 755\n",
      "Data columns (total 19 columns):\n",
      " #   Column           Non-Null Count  Dtype         \n",
      "---  ------           --------------  -----         \n",
      " 0   id               836 non-null    int64         \n",
      " 1   Season           836 non-null    int64         \n",
      " 2   city             836 non-null    object        \n",
      " 3   date             836 non-null    datetime64[ns]\n",
      " 4   team1            836 non-null    object        \n",
      " 5   team2            836 non-null    object        \n",
      " 6   result           836 non-null    object        \n",
      " 7   dl_applied       836 non-null    int64         \n",
      " 8   winner           836 non-null    object        \n",
      " 9   win_by_runs      836 non-null    int64         \n",
      " 10  win_by_wickets   836 non-null    int64         \n",
      " 11  player_of_match  836 non-null    object        \n",
      " 12  venue            836 non-null    object        \n",
      " 13  umpire1          836 non-null    object        \n",
      " 14  umpire2          836 non-null    object        \n",
      " 15  umpire3          836 non-null    object        \n",
      " 16  country          836 non-null    object        \n",
      " 17  population       836 non-null    float64       \n",
      " 18  duals_sets       836 non-null    object        \n",
      "dtypes: datetime64[ns](1), float64(1), int64(5), object(12)\n",
      "memory usage: 130.6+ KB\n"
     ]
    }
   ],
   "source": [
    "matches_full.info()"
   ]
  },
  {
   "cell_type": "markdown",
   "id": "8a599815",
   "metadata": {
    "papermill": {
     "duration": 0.050371,
     "end_time": "2021-11-07T08:24:35.085456",
     "exception": false,
     "start_time": "2021-11-07T08:24:35.035085",
     "status": "completed"
    },
    "tags": []
   },
   "source": [
    "### Next let's apply encoding for the features"
   ]
  },
  {
   "cell_type": "markdown",
   "id": "dbf47fff",
   "metadata": {
    "papermill": {
     "duration": 0.04852,
     "end_time": "2021-11-07T08:24:35.183624",
     "exception": false,
     "start_time": "2021-11-07T08:24:35.135104",
     "status": "completed"
    },
    "tags": []
   },
   "source": [
    "> Frequency encoding is useful for features with high cardinality while label encoding is for other columns (in most cases)"
   ]
  },
  {
   "cell_type": "code",
   "execution_count": 6,
   "id": "21d93f21",
   "metadata": {
    "execution": {
     "iopub.execute_input": "2021-11-07T08:24:35.291853Z",
     "iopub.status.busy": "2021-11-07T08:24:35.290434Z",
     "iopub.status.idle": "2021-11-07T08:24:35.302612Z",
     "shell.execute_reply": "2021-11-07T08:24:35.303198Z",
     "shell.execute_reply.started": "2021-11-07T08:23:55.125316Z"
    },
    "papermill": {
     "duration": 0.071427,
     "end_time": "2021-11-07T08:24:35.303378",
     "exception": false,
     "start_time": "2021-11-07T08:24:35.231951",
     "status": "completed"
    },
    "tags": []
   },
   "outputs": [
    {
     "name": "stdout",
     "output_type": "stream",
     "text": [
      "col city has 33 unique values\n",
      "col team1 has 15 unique values\n",
      "col team2 has 15 unique values\n",
      "col result has 3 unique values\n",
      "col winner has 16 unique values\n",
      "col player_of_match has 227 unique values\n",
      "col venue has 41 unique values\n",
      "col umpire1 has 62 unique values\n",
      "col umpire2 has 66 unique values\n",
      "col umpire3 has 26 unique values\n",
      "col country has 6 unique values\n",
      "col duals_sets has 86 unique values\n"
     ]
    }
   ],
   "source": [
    "cat_columns =  list(matches_full.select_dtypes(include=['object']).columns)\n",
    "for col in cat_columns:\n",
    "    print(\"col {} has {} unique values\".format(col,matches_full[col].nunique()))"
   ]
  },
  {
   "cell_type": "markdown",
   "id": "469a777b",
   "metadata": {
    "papermill": {
     "duration": 0.049939,
     "end_time": "2021-11-07T08:24:35.404417",
     "exception": false,
     "start_time": "2021-11-07T08:24:35.354478",
     "status": "completed"
    },
    "tags": []
   },
   "source": [
    "*We can encode the umpires by frequency and others by label_encoder*"
   ]
  },
  {
   "cell_type": "code",
   "execution_count": 7,
   "id": "f9266b6c",
   "metadata": {
    "execution": {
     "iopub.execute_input": "2021-11-07T08:24:35.509077Z",
     "iopub.status.busy": "2021-11-07T08:24:35.508401Z",
     "iopub.status.idle": "2021-11-07T08:24:35.512353Z",
     "shell.execute_reply": "2021-11-07T08:24:35.512860Z",
     "shell.execute_reply.started": "2021-11-07T08:23:55.146138Z"
    },
    "papermill": {
     "duration": 0.057636,
     "end_time": "2021-11-07T08:24:35.513066",
     "exception": false,
     "start_time": "2021-11-07T08:24:35.455430",
     "status": "completed"
    },
    "tags": []
   },
   "outputs": [],
   "source": [
    "matches_engineering = matches_full.copy()"
   ]
  },
  {
   "cell_type": "code",
   "execution_count": 8,
   "id": "2f0d8248",
   "metadata": {
    "execution": {
     "iopub.execute_input": "2021-11-07T08:24:35.615918Z",
     "iopub.status.busy": "2021-11-07T08:24:35.615268Z",
     "iopub.status.idle": "2021-11-07T08:24:35.620697Z",
     "shell.execute_reply": "2021-11-07T08:24:35.621223Z",
     "shell.execute_reply.started": "2021-11-07T08:23:55.151751Z"
    },
    "papermill": {
     "duration": 0.057894,
     "end_time": "2021-11-07T08:24:35.621396",
     "exception": false,
     "start_time": "2021-11-07T08:24:35.563502",
     "status": "completed"
    },
    "tags": []
   },
   "outputs": [],
   "source": [
    "def freq_encode_col(df,col):\n",
    "    enc_nom_1 = (df.groupby(col).size()) / len(df)\n",
    "    return df[col].apply(lambda x : enc_nom_1[x])\n",
    "def freq_encode_cols(df,cols):\n",
    "    for col in cols:\n",
    "        df[col] = freq_encode_col(df,col)\n",
    "    return df"
   ]
  },
  {
   "cell_type": "code",
   "execution_count": 9,
   "id": "bc4d8702",
   "metadata": {
    "execution": {
     "iopub.execute_input": "2021-11-07T08:24:35.723486Z",
     "iopub.status.busy": "2021-11-07T08:24:35.722808Z",
     "iopub.status.idle": "2021-11-07T08:24:35.726806Z",
     "shell.execute_reply": "2021-11-07T08:24:35.727303Z",
     "shell.execute_reply.started": "2021-11-07T08:23:55.165962Z"
    },
    "papermill": {
     "duration": 0.056217,
     "end_time": "2021-11-07T08:24:35.727486",
     "exception": false,
     "start_time": "2021-11-07T08:24:35.671269",
     "status": "completed"
    },
    "tags": []
   },
   "outputs": [],
   "source": [
    "freq_enc_cols = ['umpire1','umpire2','umpire3']\n",
    "label_enc_cols = [col for col in cat_columns if col not in freq_enc_cols]"
   ]
  },
  {
   "cell_type": "code",
   "execution_count": 10,
   "id": "075e8232",
   "metadata": {
    "execution": {
     "iopub.execute_input": "2021-11-07T08:24:35.837379Z",
     "iopub.status.busy": "2021-11-07T08:24:35.829085Z",
     "iopub.status.idle": "2021-11-07T08:24:35.841529Z",
     "shell.execute_reply": "2021-11-07T08:24:35.842061Z",
     "shell.execute_reply.started": "2021-11-07T08:23:55.179930Z"
    },
    "papermill": {
     "duration": 0.064473,
     "end_time": "2021-11-07T08:24:35.842258",
     "exception": false,
     "start_time": "2021-11-07T08:24:35.777785",
     "status": "completed"
    },
    "tags": []
   },
   "outputs": [],
   "source": [
    "labelencoder = LabelEncoder()\n",
    "for col in label_enc_cols:\n",
    "    matches_engineering[col] = labelencoder.fit_transform(matches_engineering[col])"
   ]
  },
  {
   "cell_type": "code",
   "execution_count": 11,
   "id": "f8f1f2f3",
   "metadata": {
    "execution": {
     "iopub.execute_input": "2021-11-07T08:24:35.944627Z",
     "iopub.status.busy": "2021-11-07T08:24:35.943933Z",
     "iopub.status.idle": "2021-11-07T08:24:35.984003Z",
     "shell.execute_reply": "2021-11-07T08:24:35.984534Z",
     "shell.execute_reply.started": "2021-11-07T08:23:55.200844Z"
    },
    "papermill": {
     "duration": 0.093711,
     "end_time": "2021-11-07T08:24:35.984720",
     "exception": false,
     "start_time": "2021-11-07T08:24:35.891009",
     "status": "completed"
    },
    "tags": []
   },
   "outputs": [],
   "source": [
    "matches_engineering = freq_encode_cols(matches_engineering,freq_enc_cols)"
   ]
  },
  {
   "cell_type": "code",
   "execution_count": 12,
   "id": "71bd7e00",
   "metadata": {
    "execution": {
     "iopub.execute_input": "2021-11-07T08:24:36.089803Z",
     "iopub.status.busy": "2021-11-07T08:24:36.088841Z",
     "iopub.status.idle": "2021-11-07T08:24:36.120227Z",
     "shell.execute_reply": "2021-11-07T08:24:36.120742Z",
     "shell.execute_reply.started": "2021-11-07T08:23:55.232751Z"
    },
    "papermill": {
     "duration": 0.0864,
     "end_time": "2021-11-07T08:24:36.120910",
     "exception": false,
     "start_time": "2021-11-07T08:24:36.034510",
     "status": "completed"
    },
    "tags": []
   },
   "outputs": [
    {
     "data": {
      "text/html": [
       "<div>\n",
       "<style scoped>\n",
       "    .dataframe tbody tr th:only-of-type {\n",
       "        vertical-align: middle;\n",
       "    }\n",
       "\n",
       "    .dataframe tbody tr th {\n",
       "        vertical-align: top;\n",
       "    }\n",
       "\n",
       "    .dataframe thead th {\n",
       "        text-align: right;\n",
       "    }\n",
       "</style>\n",
       "<table border=\"1\" class=\"dataframe\">\n",
       "  <thead>\n",
       "    <tr style=\"text-align: right;\">\n",
       "      <th></th>\n",
       "      <th>id</th>\n",
       "      <th>Season</th>\n",
       "      <th>city</th>\n",
       "      <th>date</th>\n",
       "      <th>team1</th>\n",
       "      <th>team2</th>\n",
       "      <th>result</th>\n",
       "      <th>dl_applied</th>\n",
       "      <th>winner</th>\n",
       "      <th>win_by_runs</th>\n",
       "      <th>win_by_wickets</th>\n",
       "      <th>player_of_match</th>\n",
       "      <th>venue</th>\n",
       "      <th>umpire1</th>\n",
       "      <th>umpire2</th>\n",
       "      <th>umpire3</th>\n",
       "      <th>country</th>\n",
       "      <th>population</th>\n",
       "      <th>duals_sets</th>\n",
       "    </tr>\n",
       "  </thead>\n",
       "  <tbody>\n",
       "    <tr>\n",
       "      <th>0</th>\n",
       "      <td>1</td>\n",
       "      <td>2017</td>\n",
       "      <td>15</td>\n",
       "      <td>2017-05-04</td>\n",
       "      <td>14</td>\n",
       "      <td>13</td>\n",
       "      <td>1</td>\n",
       "      <td>0</td>\n",
       "      <td>14</td>\n",
       "      <td>35</td>\n",
       "      <td>0</td>\n",
       "      <td>224</td>\n",
       "      <td>28</td>\n",
       "      <td>0.015550</td>\n",
       "      <td>0.015550</td>\n",
       "      <td>0.840909</td>\n",
       "      <td>1</td>\n",
       "      <td>6810000.0</td>\n",
       "      <td>85</td>\n",
       "    </tr>\n",
       "    <tr>\n",
       "      <th>1</th>\n",
       "      <td>2</td>\n",
       "      <td>2017</td>\n",
       "      <td>27</td>\n",
       "      <td>2017-06-04</td>\n",
       "      <td>8</td>\n",
       "      <td>11</td>\n",
       "      <td>1</td>\n",
       "      <td>0</td>\n",
       "      <td>11</td>\n",
       "      <td>0</td>\n",
       "      <td>7</td>\n",
       "      <td>199</td>\n",
       "      <td>21</td>\n",
       "      <td>0.013158</td>\n",
       "      <td>0.076555</td>\n",
       "      <td>0.840909</td>\n",
       "      <td>1</td>\n",
       "      <td>7764000.0</td>\n",
       "      <td>74</td>\n",
       "    </tr>\n",
       "    <tr>\n",
       "      <th>2</th>\n",
       "      <td>3</td>\n",
       "      <td>2017</td>\n",
       "      <td>29</td>\n",
       "      <td>2017-07-04</td>\n",
       "      <td>4</td>\n",
       "      <td>7</td>\n",
       "      <td>1</td>\n",
       "      <td>0</td>\n",
       "      <td>7</td>\n",
       "      <td>0</td>\n",
       "      <td>10</td>\n",
       "      <td>34</td>\n",
       "      <td>31</td>\n",
       "      <td>0.026316</td>\n",
       "      <td>0.049043</td>\n",
       "      <td>0.840909</td>\n",
       "      <td>1</td>\n",
       "      <td>1286995.0</td>\n",
       "      <td>24</td>\n",
       "    </tr>\n",
       "    <tr>\n",
       "      <th>3</th>\n",
       "      <td>4</td>\n",
       "      <td>2017</td>\n",
       "      <td>16</td>\n",
       "      <td>2017-08-04</td>\n",
       "      <td>11</td>\n",
       "      <td>5</td>\n",
       "      <td>1</td>\n",
       "      <td>0</td>\n",
       "      <td>5</td>\n",
       "      <td>0</td>\n",
       "      <td>6</td>\n",
       "      <td>61</td>\n",
       "      <td>13</td>\n",
       "      <td>0.051435</td>\n",
       "      <td>0.077751</td>\n",
       "      <td>0.840909</td>\n",
       "      <td>1</td>\n",
       "      <td>2201927.0</td>\n",
       "      <td>38</td>\n",
       "    </tr>\n",
       "    <tr>\n",
       "      <th>4</th>\n",
       "      <td>5</td>\n",
       "      <td>2017</td>\n",
       "      <td>2</td>\n",
       "      <td>2017-08-04</td>\n",
       "      <td>13</td>\n",
       "      <td>3</td>\n",
       "      <td>1</td>\n",
       "      <td>0</td>\n",
       "      <td>13</td>\n",
       "      <td>15</td>\n",
       "      <td>0</td>\n",
       "      <td>99</td>\n",
       "      <td>17</td>\n",
       "      <td>0.002392</td>\n",
       "      <td>0.002392</td>\n",
       "      <td>0.840909</td>\n",
       "      <td>1</td>\n",
       "      <td>13707000.0</td>\n",
       "      <td>20</td>\n",
       "    </tr>\n",
       "  </tbody>\n",
       "</table>\n",
       "</div>"
      ],
      "text/plain": [
       "   id  Season  city       date  team1  team2  result  dl_applied  winner  \\\n",
       "0   1    2017    15 2017-05-04     14     13       1           0      14   \n",
       "1   2    2017    27 2017-06-04      8     11       1           0      11   \n",
       "2   3    2017    29 2017-07-04      4      7       1           0       7   \n",
       "3   4    2017    16 2017-08-04     11      5       1           0       5   \n",
       "4   5    2017     2 2017-08-04     13      3       1           0      13   \n",
       "\n",
       "   win_by_runs  win_by_wickets  player_of_match  venue   umpire1   umpire2  \\\n",
       "0           35               0              224     28  0.015550  0.015550   \n",
       "1            0               7              199     21  0.013158  0.076555   \n",
       "2            0              10               34     31  0.026316  0.049043   \n",
       "3            0               6               61     13  0.051435  0.077751   \n",
       "4           15               0               99     17  0.002392  0.002392   \n",
       "\n",
       "    umpire3  country  population  duals_sets  \n",
       "0  0.840909        1   6810000.0          85  \n",
       "1  0.840909        1   7764000.0          74  \n",
       "2  0.840909        1   1286995.0          24  \n",
       "3  0.840909        1   2201927.0          38  \n",
       "4  0.840909        1  13707000.0          20  "
      ]
     },
     "execution_count": 12,
     "metadata": {},
     "output_type": "execute_result"
    }
   ],
   "source": [
    "matches_engineering.head()"
   ]
  },
  {
   "cell_type": "code",
   "execution_count": 13,
   "id": "93ab9f69",
   "metadata": {
    "execution": {
     "iopub.execute_input": "2021-11-07T08:24:36.224218Z",
     "iopub.status.busy": "2021-11-07T08:24:36.223206Z",
     "iopub.status.idle": "2021-11-07T08:24:36.242390Z",
     "shell.execute_reply": "2021-11-07T08:24:36.243198Z",
     "shell.execute_reply.started": "2021-11-07T08:23:55.255882Z"
    },
    "papermill": {
     "duration": 0.072655,
     "end_time": "2021-11-07T08:24:36.243452",
     "exception": false,
     "start_time": "2021-11-07T08:24:36.170797",
     "status": "completed"
    },
    "tags": []
   },
   "outputs": [
    {
     "name": "stdout",
     "output_type": "stream",
     "text": [
      "<class 'pandas.core.frame.DataFrame'>\n",
      "Int64Index: 836 entries, 0 to 755\n",
      "Data columns (total 19 columns):\n",
      " #   Column           Non-Null Count  Dtype         \n",
      "---  ------           --------------  -----         \n",
      " 0   id               836 non-null    int64         \n",
      " 1   Season           836 non-null    int64         \n",
      " 2   city             836 non-null    int64         \n",
      " 3   date             836 non-null    datetime64[ns]\n",
      " 4   team1            836 non-null    int64         \n",
      " 5   team2            836 non-null    int64         \n",
      " 6   result           836 non-null    int64         \n",
      " 7   dl_applied       836 non-null    int64         \n",
      " 8   winner           836 non-null    int64         \n",
      " 9   win_by_runs      836 non-null    int64         \n",
      " 10  win_by_wickets   836 non-null    int64         \n",
      " 11  player_of_match  836 non-null    int64         \n",
      " 12  venue            836 non-null    int64         \n",
      " 13  umpire1          836 non-null    float64       \n",
      " 14  umpire2          836 non-null    float64       \n",
      " 15  umpire3          836 non-null    float64       \n",
      " 16  country          836 non-null    int64         \n",
      " 17  population       836 non-null    float64       \n",
      " 18  duals_sets       836 non-null    int64         \n",
      "dtypes: datetime64[ns](1), float64(4), int64(14)\n",
      "memory usage: 130.6 KB\n"
     ]
    }
   ],
   "source": [
    "matches_engineering.info()"
   ]
  },
  {
   "cell_type": "markdown",
   "id": "c1cbcb32",
   "metadata": {
    "papermill": {
     "duration": 0.049165,
     "end_time": "2021-11-07T08:24:36.343775",
     "exception": false,
     "start_time": "2021-11-07T08:24:36.294610",
     "status": "completed"
    },
    "tags": []
   },
   "source": [
    "# Let's list our new features (inspired from EDA):\n",
    "    * number of previous matches per pair teams\n",
    "    * percentage of exponential weighted average of\n",
    "        * previous matches played in a country (team1 vs team2)\n",
    "        * previous matches won in a country (team1 vs team2)\n",
    "        * previous matches played in a city (team1 vs team2)\n",
    "        * previous matches won in a city (team1 vs team2)\n",
    "        * previous winned matches \n",
    "        * previous winned matches per season\n",
    "        * previous win rate matches per season\n",
    "        * win rate of team1 vs team 2"
   ]
  },
  {
   "cell_type": "code",
   "execution_count": 14,
   "id": "a6aa6793",
   "metadata": {
    "execution": {
     "iopub.execute_input": "2021-11-07T08:24:36.449494Z",
     "iopub.status.busy": "2021-11-07T08:24:36.448516Z",
     "iopub.status.idle": "2021-11-07T08:24:36.451122Z",
     "shell.execute_reply": "2021-11-07T08:24:36.451574Z",
     "shell.execute_reply.started": "2021-11-07T08:23:55.282652Z"
    },
    "papermill": {
     "duration": 0.058633,
     "end_time": "2021-11-07T08:24:36.451759",
     "exception": false,
     "start_time": "2021-11-07T08:24:36.393126",
     "status": "completed"
    },
    "tags": []
   },
   "outputs": [],
   "source": [
    "matches_play = matches_engineering.copy()\n"
   ]
  },
  {
   "cell_type": "code",
   "execution_count": 15,
   "id": "24d152f4",
   "metadata": {
    "execution": {
     "iopub.execute_input": "2021-11-07T08:24:36.558768Z",
     "iopub.status.busy": "2021-11-07T08:24:36.558125Z",
     "iopub.status.idle": "2021-11-07T08:24:36.588386Z",
     "shell.execute_reply": "2021-11-07T08:24:36.587795Z",
     "shell.execute_reply.started": "2021-11-07T08:23:55.288942Z"
    },
    "papermill": {
     "duration": 0.085113,
     "end_time": "2021-11-07T08:24:36.588550",
     "exception": false,
     "start_time": "2021-11-07T08:24:36.503437",
     "status": "completed"
    },
    "tags": []
   },
   "outputs": [],
   "source": [
    "matches_play_t1 = matches_play.drop(columns='team2').rename(columns={'team1':'team'})\n",
    "win_index = list(matches_play_t1.columns).index('winner')\n",
    "team_index = list(matches_play_t1.columns).index('team')\n",
    "matches_play_t1['winner'] = matches_play_t1.apply(lambda x:int(x[win_index]==x[team_index]),axis=1)"
   ]
  },
  {
   "cell_type": "code",
   "execution_count": 16,
   "id": "fde27ca6",
   "metadata": {
    "execution": {
     "iopub.execute_input": "2021-11-07T08:24:36.692679Z",
     "iopub.status.busy": "2021-11-07T08:24:36.691917Z",
     "iopub.status.idle": "2021-11-07T08:24:36.719294Z",
     "shell.execute_reply": "2021-11-07T08:24:36.718581Z",
     "shell.execute_reply.started": "2021-11-07T08:23:55.324147Z"
    },
    "papermill": {
     "duration": 0.079826,
     "end_time": "2021-11-07T08:24:36.719446",
     "exception": false,
     "start_time": "2021-11-07T08:24:36.639620",
     "status": "completed"
    },
    "tags": []
   },
   "outputs": [],
   "source": [
    "matches_play_t2 = matches_play.drop(columns='team1').rename(columns={'team2':'team'})\n",
    "win_index = list(matches_play_t1.columns).index('winner')\n",
    "team_index = list(matches_play_t1.columns).index('team')\n",
    "matches_play_t2['winner'] = matches_play_t2.apply(lambda x:int(x[win_index]==x[team_index]),axis=1)"
   ]
  },
  {
   "cell_type": "code",
   "execution_count": 17,
   "id": "0cf14d5a",
   "metadata": {
    "execution": {
     "iopub.execute_input": "2021-11-07T08:24:36.830554Z",
     "iopub.status.busy": "2021-11-07T08:24:36.829851Z",
     "iopub.status.idle": "2021-11-07T08:24:36.835409Z",
     "shell.execute_reply": "2021-11-07T08:24:36.834716Z",
     "shell.execute_reply.started": "2021-11-07T08:23:55.355844Z"
    },
    "papermill": {
     "duration": 0.064935,
     "end_time": "2021-11-07T08:24:36.835557",
     "exception": false,
     "start_time": "2021-11-07T08:24:36.770622",
     "status": "completed"
    },
    "tags": []
   },
   "outputs": [],
   "source": [
    "matches_play_t1_t2 = matches_play_t1.append(matches_play_t2, ignore_index=True)\n",
    "matches_play_t1_t2.sort_values(by='date',axis=0,inplace=True)"
   ]
  },
  {
   "cell_type": "markdown",
   "id": "1234a6fc",
   "metadata": {
    "papermill": {
     "duration": 0.051477,
     "end_time": "2021-11-07T08:24:36.939262",
     "exception": false,
     "start_time": "2021-11-07T08:24:36.887785",
     "status": "completed"
    },
    "tags": []
   },
   "source": [
    "### Let's see the moving average and the rolling (for means, sums and stds) to see which gives more variablility"
   ]
  },
  {
   "cell_type": "code",
   "execution_count": 18,
   "id": "764af11d",
   "metadata": {
    "execution": {
     "iopub.execute_input": "2021-11-07T08:24:37.053392Z",
     "iopub.status.busy": "2021-11-07T08:24:37.052637Z",
     "iopub.status.idle": "2021-11-07T08:24:37.359026Z",
     "shell.execute_reply": "2021-11-07T08:24:37.359587Z",
     "shell.execute_reply.started": "2021-11-07T08:23:55.368324Z"
    },
    "papermill": {
     "duration": 0.368233,
     "end_time": "2021-11-07T08:24:37.359771",
     "exception": false,
     "start_time": "2021-11-07T08:24:36.991538",
     "status": "completed"
    },
    "tags": []
   },
   "outputs": [
    {
     "data": {
      "text/plain": [
       "<AxesSubplot:xlabel='date'>"
      ]
     },
     "execution_count": 18,
     "metadata": {},
     "output_type": "execute_result"
    },
    {
     "data": {
      "image/png": "[encoded data removed]",
      "text/plain": [
       "<Figure size 432x288 with 1 Axes>"
      ]
     },
     "metadata": {
      "needs_background": "light"
     },
     "output_type": "display_data"
    }
   ],
   "source": [
    "df = matches_play_t1_t2.copy()\n",
    "df = df.set_index(['date'])\n",
    "years_num = 2\n",
    "years_days = str(years_num*12*30)\n",
    "k1 = df.groupby('team').rolling(years_days+'D')['winner'].mean()\n",
    "k2 = df.groupby('team')['winner'].ewm(alpha=0.05).mean()\n",
    "k1[5].plot()\n",
    "k2[5].plot()"
   ]
  },
  {
   "cell_type": "code",
   "execution_count": 19,
   "id": "cd939699",
   "metadata": {
    "execution": {
     "iopub.execute_input": "2021-11-07T08:24:37.471275Z",
     "iopub.status.busy": "2021-11-07T08:24:37.470109Z",
     "iopub.status.idle": "2021-11-07T08:24:37.481142Z",
     "shell.execute_reply": "2021-11-07T08:24:37.480586Z",
     "shell.execute_reply.started": "2021-11-07T08:23:55.613338Z"
    },
    "papermill": {
     "duration": 0.068814,
     "end_time": "2021-11-07T08:24:37.481294",
     "exception": false,
     "start_time": "2021-11-07T08:24:37.412480",
     "status": "completed"
    },
    "tags": []
   },
   "outputs": [
    {
     "data": {
      "text/plain": [
       "team  date      \n",
       "0     2008-01-06    0.000000\n",
       "      2008-02-05    0.000000\n",
       "      2008-04-05    0.000000\n",
       "      2008-04-19    0.250000\n",
       "      2008-04-23    0.400000\n",
       "                      ...   \n",
       "14    2019-04-27    0.555556\n",
       "      2019-04-29    0.567568\n",
       "      2019-06-04    0.571429\n",
       "      2019-08-04    0.542857\n",
       "      2019-08-05    0.527778\n",
       "Name: winner, Length: 1672, dtype: float64"
      ]
     },
     "execution_count": 19,
     "metadata": {},
     "output_type": "execute_result"
    }
   ],
   "source": [
    "k1"
   ]
  },
  {
   "cell_type": "code",
   "execution_count": 20,
   "id": "1f668fed",
   "metadata": {
    "execution": {
     "iopub.execute_input": "2021-11-07T08:24:37.626341Z",
     "iopub.status.busy": "2021-11-07T08:24:37.622738Z",
     "iopub.status.idle": "2021-11-07T08:24:37.803823Z",
     "shell.execute_reply": "2021-11-07T08:24:37.803168Z",
     "shell.execute_reply.started": "2021-11-07T08:23:55.627882Z"
    },
    "papermill": {
     "duration": 0.269918,
     "end_time": "2021-11-07T08:24:37.803990",
     "exception": false,
     "start_time": "2021-11-07T08:24:37.534072",
     "status": "completed"
    },
    "tags": []
   },
   "outputs": [
    {
     "data": {
      "text/plain": [
       "<AxesSubplot:xlabel='date'>"
      ]
     },
     "execution_count": 20,
     "metadata": {},
     "output_type": "execute_result"
    },
    {
     "data": {
      "image/png": "[encoded data removed]",
      "text/plain": [
       "<Figure size 432x288 with 1 Axes>"
      ]
     },
     "metadata": {
      "needs_background": "light"
     },
     "output_type": "display_data"
    }
   ],
   "source": [
    "k2[10].plot()\n",
    "k2[0].plot()"
   ]
  },
  {
   "cell_type": "markdown",
   "id": "cacfdf4c",
   "metadata": {
    "papermill": {
     "duration": 0.056171,
     "end_time": "2021-11-07T08:24:37.914368",
     "exception": false,
     "start_time": "2021-11-07T08:24:37.858197",
     "status": "completed"
    },
    "tags": []
   },
   "source": [
    "> We can see that the data is noisy at first (as we are dealing with binary data), but the ewm shows the details more"
   ]
  },
  {
   "cell_type": "code",
   "execution_count": 21,
   "id": "6c266216",
   "metadata": {
    "execution": {
     "iopub.execute_input": "2021-11-07T08:24:38.029876Z",
     "iopub.status.busy": "2021-11-07T08:24:38.028595Z",
     "iopub.status.idle": "2021-11-07T08:24:38.245828Z",
     "shell.execute_reply": "2021-11-07T08:24:38.245279Z",
     "shell.execute_reply.started": "2021-11-07T08:23:55.832785Z"
    },
    "papermill": {
     "duration": 0.27776,
     "end_time": "2021-11-07T08:24:38.246021",
     "exception": false,
     "start_time": "2021-11-07T08:24:37.968261",
     "status": "completed"
    },
    "tags": []
   },
   "outputs": [
    {
     "data": {
      "text/plain": [
       "<AxesSubplot:xlabel='date'>"
      ]
     },
     "execution_count": 21,
     "metadata": {},
     "output_type": "execute_result"
    },
    {
     "data": {
      "image/png": "[encoded data removed]",
      "text/plain": [
       "<Figure size 432x288 with 1 Axes>"
      ]
     },
     "metadata": {
      "needs_background": "light"
     },
     "output_type": "display_data"
    }
   ],
   "source": [
    "k1 = df.groupby('team').rolling(years_days+'D')['winner'].sum()\n",
    "k1[0].plot()\n",
    "k1[9].plot()"
   ]
  },
  {
   "cell_type": "code",
   "execution_count": 22,
   "id": "1cd48e21",
   "metadata": {
    "execution": {
     "iopub.execute_input": "2021-11-07T08:24:38.371788Z",
     "iopub.status.busy": "2021-11-07T08:24:38.361364Z",
     "iopub.status.idle": "2021-11-07T08:24:38.563822Z",
     "shell.execute_reply": "2021-11-07T08:24:38.564395Z",
     "shell.execute_reply.started": "2021-11-07T08:23:56.046643Z"
    },
    "papermill": {
     "duration": 0.262535,
     "end_time": "2021-11-07T08:24:38.564564",
     "exception": false,
     "start_time": "2021-11-07T08:24:38.302029",
     "status": "completed"
    },
    "tags": []
   },
   "outputs": [
    {
     "data": {
      "text/plain": [
       "<AxesSubplot:xlabel='date'>"
      ]
     },
     "execution_count": 22,
     "metadata": {},
     "output_type": "execute_result"
    },
    {
     "data": {
      "image/png": "[encoded data removed]",
      "text/plain": [
       "<Figure size 432x288 with 1 Axes>"
      ]
     },
     "metadata": {
      "needs_background": "light"
     },
     "output_type": "display_data"
    }
   ],
   "source": [
    "k1[0].plot()\n",
    "k1[10].plot()"
   ]
  },
  {
   "cell_type": "markdown",
   "id": "261cd69a",
   "metadata": {
    "papermill": {
     "duration": 0.055519,
     "end_time": "2021-11-07T08:24:38.676688",
     "exception": false,
     "start_time": "2021-11-07T08:24:38.621169",
     "status": "completed"
    },
    "tags": []
   },
   "source": [
    "> The sum shows the same trend for the different teams (with different levels), and help distingush those who appears on random time periods"
   ]
  },
  {
   "cell_type": "markdown",
   "id": "fb3a6029",
   "metadata": {
    "papermill": {
     "duration": 0.055748,
     "end_time": "2021-11-07T08:24:38.788199",
     "exception": false,
     "start_time": "2021-11-07T08:24:38.732451",
     "status": "completed"
    },
    "tags": []
   },
   "source": [
    "> but we have the problem of having values in the first period not very reliable, so we will work with ratios between the two teams (we may try to truncate season 2008 too)"
   ]
  },
  {
   "cell_type": "code",
   "execution_count": 23,
   "id": "2a1f4ccd",
   "metadata": {
    "execution": {
     "iopub.execute_input": "2021-11-07T08:24:38.904598Z",
     "iopub.status.busy": "2021-11-07T08:24:38.903548Z",
     "iopub.status.idle": "2021-11-07T08:24:39.120233Z",
     "shell.execute_reply": "2021-11-07T08:24:39.119569Z",
     "shell.execute_reply.started": "2021-11-07T08:23:56.250841Z"
    },
    "papermill": {
     "duration": 0.276359,
     "end_time": "2021-11-07T08:24:39.120372",
     "exception": false,
     "start_time": "2021-11-07T08:24:38.844013",
     "status": "completed"
    },
    "tags": []
   },
   "outputs": [
    {
     "data": {
      "text/plain": [
       "<AxesSubplot:xlabel='date'>"
      ]
     },
     "execution_count": 23,
     "metadata": {},
     "output_type": "execute_result"
    },
    {
     "data": {
      "image/png": "[encoded data removed]",
      "text/plain": [
       "<Figure size 432x288 with 1 Axes>"
      ]
     },
     "metadata": {
      "needs_background": "light"
     },
     "output_type": "display_data"
    }
   ],
   "source": [
    "k1 = df.groupby('team').rolling(years_days+'D')['winner'].std()\n",
    "k1[10].plot()\n",
    "k1[0].plot()"
   ]
  },
  {
   "cell_type": "markdown",
   "id": "c2909707",
   "metadata": {
    "papermill": {
     "duration": 0.056141,
     "end_time": "2021-11-07T08:24:39.233007",
     "exception": false,
     "start_time": "2021-11-07T08:24:39.176866",
     "status": "completed"
    },
    "tags": []
   },
   "source": [
    "> The std for the teams is parely 0.5 for all teams (binary data), so we may calculate the std of the ewm (or sum) of the calculated features"
   ]
  },
  {
   "cell_type": "code",
   "execution_count": 24,
   "id": "6b9ebfd5",
   "metadata": {
    "execution": {
     "iopub.execute_input": "2021-11-07T08:24:39.353138Z",
     "iopub.status.busy": "2021-11-07T08:24:39.352127Z",
     "iopub.status.idle": "2021-11-07T08:24:39.361041Z",
     "shell.execute_reply": "2021-11-07T08:24:39.361579Z",
     "shell.execute_reply.started": "2021-11-07T08:23:56.465417Z"
    },
    "papermill": {
     "duration": 0.071195,
     "end_time": "2021-11-07T08:24:39.361752",
     "exception": false,
     "start_time": "2021-11-07T08:24:39.290557",
     "status": "completed"
    },
    "tags": []
   },
   "outputs": [],
   "source": [
    "k1 = df.groupby('team').rolling(years_days+'D')['winner'].sum()"
   ]
  },
  {
   "cell_type": "code",
   "execution_count": 25,
   "id": "9d34080d",
   "metadata": {
    "execution": {
     "iopub.execute_input": "2021-11-07T08:24:39.481060Z",
     "iopub.status.busy": "2021-11-07T08:24:39.480083Z",
     "iopub.status.idle": "2021-11-07T08:24:39.816940Z",
     "shell.execute_reply": "2021-11-07T08:24:39.816292Z",
     "shell.execute_reply.started": "2021-11-07T08:23:56.475633Z"
    },
    "papermill": {
     "duration": 0.397377,
     "end_time": "2021-11-07T08:24:39.817100",
     "exception": false,
     "start_time": "2021-11-07T08:24:39.419723",
     "status": "completed"
    },
    "tags": []
   },
   "outputs": [
    {
     "data": {
      "text/plain": [
       "<AxesSubplot:xlabel='date'>"
      ]
     },
     "execution_count": 25,
     "metadata": {},
     "output_type": "execute_result"
    },
    {
     "data": {
      "image/png": "[encoded data removed]",
      "text/plain": [
       "<Figure size 432x288 with 1 Axes>"
      ]
     },
     "metadata": {
      "needs_background": "light"
     },
     "output_type": "display_data"
    }
   ],
   "source": [
    "k1 = df.groupby('team').rolling(years_days+'D')['winner'].sum()\n",
    "k1 = k1.reset_index()\n",
    "k1 = k1.set_index('date')\n",
    "k2 = k1.groupby('team')['winner'].rolling(years_days+'D').std()\n",
    "k2[0].plot()\n",
    "k2[7].plot()"
   ]
  },
  {
   "cell_type": "markdown",
   "id": "22fb43e7",
   "metadata": {
    "papermill": {
     "duration": 0.058862,
     "end_time": "2021-11-07T08:24:39.934444",
     "exception": false,
     "start_time": "2021-11-07T08:24:39.875582",
     "status": "completed"
    },
    "tags": []
   },
   "source": [
    "> Now this may be a good feature"
   ]
  },
  {
   "cell_type": "markdown",
   "id": "74cecac7",
   "metadata": {
    "papermill": {
     "duration": 0.058143,
     "end_time": "2021-11-07T08:24:40.051749",
     "exception": false,
     "start_time": "2021-11-07T08:24:39.993606",
     "status": "completed"
    },
    "tags": []
   },
   "source": [
    "> Places with discontinuities are for some teams that stopped playing for two seasons then returned"
   ]
  },
  {
   "cell_type": "markdown",
   "id": "81e17a84",
   "metadata": {
    "papermill": {
     "duration": 0.057815,
     "end_time": "2021-11-07T08:24:40.169369",
     "exception": false,
     "start_time": "2021-11-07T08:24:40.111554",
     "status": "completed"
    },
    "tags": []
   },
   "source": [
    "### let's check the duals win rate"
   ]
  },
  {
   "cell_type": "code",
   "execution_count": 26,
   "id": "ffb2c26e",
   "metadata": {
    "execution": {
     "iopub.execute_input": "2021-11-07T08:24:40.291916Z",
     "iopub.status.busy": "2021-11-07T08:24:40.291266Z",
     "iopub.status.idle": "2021-11-07T08:24:40.331910Z",
     "shell.execute_reply": "2021-11-07T08:24:40.332444Z",
     "shell.execute_reply.started": "2021-11-07T08:23:56.701364Z"
    },
    "papermill": {
     "duration": 0.104887,
     "end_time": "2021-11-07T08:24:40.332641",
     "exception": false,
     "start_time": "2021-11-07T08:24:40.227754",
     "status": "completed"
    },
    "tags": []
   },
   "outputs": [],
   "source": [
    "df = matches_play_t1.copy()\n",
    "df = df.set_index('date')\n",
    "years_num = 2\n",
    "years_days = str(years_num*12*30)\n",
    "k1 = df.groupby('duals_sets')['winner'].ewm(alpha=0.05).mean()"
   ]
  },
  {
   "cell_type": "code",
   "execution_count": 27,
   "id": "d197a7e7",
   "metadata": {
    "execution": {
     "iopub.execute_input": "2021-11-07T08:24:40.454600Z",
     "iopub.status.busy": "2021-11-07T08:24:40.453909Z",
     "iopub.status.idle": "2021-11-07T08:24:40.498449Z",
     "shell.execute_reply": "2021-11-07T08:24:40.497828Z",
     "shell.execute_reply.started": "2021-11-07T08:23:56.757379Z"
    },
    "papermill": {
     "duration": 0.106511,
     "end_time": "2021-11-07T08:24:40.498596",
     "exception": false,
     "start_time": "2021-11-07T08:24:40.392085",
     "status": "completed"
    },
    "tags": []
   },
   "outputs": [],
   "source": [
    "df = matches_play_t2.copy()\n",
    "df = df.set_index('date')\n",
    "k2 = df.groupby('duals_sets')['winner'].ewm(alpha=0.05).mean()"
   ]
  },
  {
   "cell_type": "code",
   "execution_count": 28,
   "id": "0f9f7a32",
   "metadata": {
    "execution": {
     "iopub.execute_input": "2021-11-07T08:24:40.617934Z",
     "iopub.status.busy": "2021-11-07T08:24:40.617331Z",
     "iopub.status.idle": "2021-11-07T08:24:40.834156Z",
     "shell.execute_reply": "2021-11-07T08:24:40.833609Z",
     "shell.execute_reply.started": "2021-11-07T08:23:56.805565Z"
    },
    "papermill": {
     "duration": 0.277646,
     "end_time": "2021-11-07T08:24:40.834306",
     "exception": false,
     "start_time": "2021-11-07T08:24:40.556660",
     "status": "completed"
    },
    "tags": []
   },
   "outputs": [
    {
     "data": {
      "text/plain": [
       "<AxesSubplot:xlabel='date'>"
      ]
     },
     "execution_count": 28,
     "metadata": {},
     "output_type": "execute_result"
    },
    {
     "data": {
      "image/png": "[encoded data removed]",
      "text/plain": [
       "<Figure size 432x288 with 1 Axes>"
      ]
     },
     "metadata": {
      "needs_background": "light"
     },
     "output_type": "display_data"
    }
   ],
   "source": [
    "k1[0].plot()\n",
    "k2[0].plot()"
   ]
  },
  {
   "cell_type": "code",
   "execution_count": 29,
   "id": "e4f01992",
   "metadata": {
    "execution": {
     "iopub.execute_input": "2021-11-07T08:24:40.956312Z",
     "iopub.status.busy": "2021-11-07T08:24:40.955581Z",
     "iopub.status.idle": "2021-11-07T08:24:41.152286Z",
     "shell.execute_reply": "2021-11-07T08:24:41.151734Z",
     "shell.execute_reply.started": "2021-11-07T08:23:57.035920Z"
    },
    "papermill": {
     "duration": 0.258554,
     "end_time": "2021-11-07T08:24:41.152434",
     "exception": false,
     "start_time": "2021-11-07T08:24:40.893880",
     "status": "completed"
    },
    "tags": []
   },
   "outputs": [
    {
     "data": {
      "text/plain": [
       "<AxesSubplot:xlabel='date'>"
      ]
     },
     "execution_count": 29,
     "metadata": {},
     "output_type": "execute_result"
    },
    {
     "data": {
      "image/png": "[encoded data removed]",
      "text/plain": [
       "<Figure size 432x288 with 1 Axes>"
      ]
     },
     "metadata": {
      "needs_background": "light"
     },
     "output_type": "display_data"
    }
   ],
   "source": [
    "k1[1].plot()\n",
    "k2[1].plot()"
   ]
  },
  {
   "cell_type": "markdown",
   "id": "b73e5f3b",
   "metadata": {
    "papermill": {
     "duration": 0.061231,
     "end_time": "2021-11-07T08:24:41.274586",
     "exception": false,
     "start_time": "2021-11-07T08:24:41.213355",
     "status": "completed"
    },
    "tags": []
   },
   "source": [
    "> Some teams becomes better against other teams with time (this may gives good info for the model)"
   ]
  },
  {
   "cell_type": "code",
   "execution_count": 30,
   "id": "2b4041b9",
   "metadata": {
    "execution": {
     "iopub.execute_input": "2021-11-07T08:24:41.440948Z",
     "iopub.status.busy": "2021-11-07T08:24:41.435648Z",
     "iopub.status.idle": "2021-11-07T08:24:41.643581Z",
     "shell.execute_reply": "2021-11-07T08:24:41.643052Z",
     "shell.execute_reply.started": "2021-11-07T08:23:57.245203Z"
    },
    "papermill": {
     "duration": 0.308933,
     "end_time": "2021-11-07T08:24:41.643735",
     "exception": false,
     "start_time": "2021-11-07T08:24:41.334802",
     "status": "completed"
    },
    "tags": []
   },
   "outputs": [
    {
     "data": {
      "text/plain": [
       "<AxesSubplot:xlabel='date'>"
      ]
     },
     "execution_count": 30,
     "metadata": {},
     "output_type": "execute_result"
    },
    {
     "data": {
      "image/png": "[encoded data removed]",
      "text/plain": [
       "<Figure size 432x288 with 1 Axes>"
      ]
     },
     "metadata": {
      "needs_background": "light"
     },
     "output_type": "display_data"
    }
   ],
   "source": [
    "k1[1].rolling(years_num).std().plot()"
   ]
  },
  {
   "cell_type": "markdown",
   "id": "d7e0250f",
   "metadata": {
    "papermill": {
     "duration": 0.06305,
     "end_time": "2021-11-07T08:24:41.768408",
     "exception": false,
     "start_time": "2021-11-07T08:24:41.705358",
     "status": "completed"
    },
    "tags": []
   },
   "source": [
    "> The std will give info about how will the statistic we are using is reliable"
   ]
  },
  {
   "cell_type": "code",
   "execution_count": 31,
   "id": "b6ca4917",
   "metadata": {
    "execution": {
     "iopub.execute_input": "2021-11-07T08:24:41.909770Z",
     "iopub.status.busy": "2021-11-07T08:24:41.898820Z",
     "iopub.status.idle": "2021-11-07T08:24:41.913747Z",
     "shell.execute_reply": "2021-11-07T08:24:41.913222Z",
     "shell.execute_reply.started": "2021-11-07T08:23:57.479944Z"
    },
    "papermill": {
     "duration": 0.083086,
     "end_time": "2021-11-07T08:24:41.913883",
     "exception": false,
     "start_time": "2021-11-07T08:24:41.830797",
     "status": "completed"
    },
    "tags": []
   },
   "outputs": [
    {
     "data": {
      "text/html": [
       "<div>\n",
       "<style scoped>\n",
       "    .dataframe tbody tr th:only-of-type {\n",
       "        vertical-align: middle;\n",
       "    }\n",
       "\n",
       "    .dataframe tbody tr th {\n",
       "        vertical-align: top;\n",
       "    }\n",
       "\n",
       "    .dataframe thead th {\n",
       "        text-align: right;\n",
       "    }\n",
       "</style>\n",
       "<table border=\"1\" class=\"dataframe\">\n",
       "  <thead>\n",
       "    <tr style=\"text-align: right;\">\n",
       "      <th></th>\n",
       "      <th>duals_sets</th>\n",
       "      <th>date</th>\n",
       "      <th>winner</th>\n",
       "    </tr>\n",
       "  </thead>\n",
       "  <tbody>\n",
       "    <tr>\n",
       "      <th>0</th>\n",
       "      <td>0</td>\n",
       "      <td>2019-03-26</td>\n",
       "      <td>0.000000</td>\n",
       "    </tr>\n",
       "    <tr>\n",
       "      <th>1</th>\n",
       "      <td>0</td>\n",
       "      <td>2019-03-26</td>\n",
       "      <td>0.000000</td>\n",
       "    </tr>\n",
       "    <tr>\n",
       "      <th>2</th>\n",
       "      <td>0</td>\n",
       "      <td>2019-10-05</td>\n",
       "      <td>0.000000</td>\n",
       "    </tr>\n",
       "    <tr>\n",
       "      <th>3</th>\n",
       "      <td>1</td>\n",
       "      <td>2008-02-05</td>\n",
       "      <td>0.000000</td>\n",
       "    </tr>\n",
       "    <tr>\n",
       "      <th>4</th>\n",
       "      <td>1</td>\n",
       "      <td>2008-08-05</td>\n",
       "      <td>0.000000</td>\n",
       "    </tr>\n",
       "    <tr>\n",
       "      <th>...</th>\n",
       "      <td>...</td>\n",
       "      <td>...</td>\n",
       "      <td>...</td>\n",
       "    </tr>\n",
       "    <tr>\n",
       "      <th>831</th>\n",
       "      <td>85</td>\n",
       "      <td>2016-05-29</td>\n",
       "      <td>0.433973</td>\n",
       "    </tr>\n",
       "    <tr>\n",
       "      <th>832</th>\n",
       "      <td>85</td>\n",
       "      <td>2018-07-05</td>\n",
       "      <td>0.499607</td>\n",
       "    </tr>\n",
       "    <tr>\n",
       "      <th>833</th>\n",
       "      <td>85</td>\n",
       "      <td>2018-05-17</td>\n",
       "      <td>0.554040</td>\n",
       "    </tr>\n",
       "    <tr>\n",
       "      <th>834</th>\n",
       "      <td>85</td>\n",
       "      <td>2019-03-31</td>\n",
       "      <td>0.599859</td>\n",
       "    </tr>\n",
       "    <tr>\n",
       "      <th>835</th>\n",
       "      <td>85</td>\n",
       "      <td>2019-04-05</td>\n",
       "      <td>0.541316</td>\n",
       "    </tr>\n",
       "  </tbody>\n",
       "</table>\n",
       "<p>836 rows × 3 columns</p>\n",
       "</div>"
      ],
      "text/plain": [
       "     duals_sets       date    winner\n",
       "0             0 2019-03-26  0.000000\n",
       "1             0 2019-03-26  0.000000\n",
       "2             0 2019-10-05  0.000000\n",
       "3             1 2008-02-05  0.000000\n",
       "4             1 2008-08-05  0.000000\n",
       "..          ...        ...       ...\n",
       "831          85 2016-05-29  0.433973\n",
       "832          85 2018-07-05  0.499607\n",
       "833          85 2018-05-17  0.554040\n",
       "834          85 2019-03-31  0.599859\n",
       "835          85 2019-04-05  0.541316\n",
       "\n",
       "[836 rows x 3 columns]"
      ]
     },
     "execution_count": 31,
     "metadata": {},
     "output_type": "execute_result"
    }
   ],
   "source": [
    "k1 = k1.reset_index()\n",
    "k1"
   ]
  },
  {
   "cell_type": "code",
   "execution_count": 32,
   "id": "7e156bf9",
   "metadata": {
    "execution": {
     "iopub.execute_input": "2021-11-07T08:24:42.045520Z",
     "iopub.status.busy": "2021-11-07T08:24:42.044564Z",
     "iopub.status.idle": "2021-11-07T08:24:42.047707Z",
     "shell.execute_reply": "2021-11-07T08:24:42.047227Z",
     "shell.execute_reply.started": "2021-11-07T08:23:57.499387Z"
    },
    "papermill": {
     "duration": 0.071124,
     "end_time": "2021-11-07T08:24:42.047847",
     "exception": false,
     "start_time": "2021-11-07T08:24:41.976723",
     "status": "completed"
    },
    "tags": []
   },
   "outputs": [],
   "source": [
    "df1 = df.reset_index()"
   ]
  },
  {
   "cell_type": "code",
   "execution_count": 33,
   "id": "75cdb500",
   "metadata": {
    "execution": {
     "iopub.execute_input": "2021-11-07T08:24:42.212105Z",
     "iopub.status.busy": "2021-11-07T08:24:42.211103Z",
     "iopub.status.idle": "2021-11-07T08:24:42.416266Z",
     "shell.execute_reply": "2021-11-07T08:24:42.415704Z",
     "shell.execute_reply.started": "2021-11-07T08:23:57.507196Z"
    },
    "papermill": {
     "duration": 0.303652,
     "end_time": "2021-11-07T08:24:42.416417",
     "exception": false,
     "start_time": "2021-11-07T08:24:42.112765",
     "status": "completed"
    },
    "tags": []
   },
   "outputs": [
    {
     "data": {
      "text/plain": [
       "<matplotlib.legend.Legend at 0x7f80bcba8090>"
      ]
     },
     "execution_count": 33,
     "metadata": {},
     "output_type": "execute_result"
    },
    {
     "data": {
      "image/png": "[encoded data removed]",
      "text/plain": [
       "<Figure size 432x288 with 1 Axes>"
      ]
     },
     "metadata": {
      "needs_background": "light"
     },
     "output_type": "display_data"
    }
   ],
   "source": [
    "df2 = df1.merge(k1, on=['duals_sets','date'])\n",
    "groups = df2.groupby(\"winner_x\")\n",
    "for name, group in groups:\n",
    "    plt.plot(group[\"date\"], group[\"winner_y\"], marker=\"o\", linestyle=\"\", label=name)\n",
    "plt.legend()"
   ]
  },
  {
   "cell_type": "code",
   "execution_count": 34,
   "id": "6a9ae18d",
   "metadata": {
    "execution": {
     "iopub.execute_input": "2021-11-07T08:24:42.554474Z",
     "iopub.status.busy": "2021-11-07T08:24:42.553788Z",
     "iopub.status.idle": "2021-11-07T08:24:42.741301Z",
     "shell.execute_reply": "2021-11-07T08:24:42.740695Z",
     "shell.execute_reply.started": "2021-11-07T08:23:57.749364Z"
    },
    "papermill": {
     "duration": 0.25977,
     "end_time": "2021-11-07T08:24:42.741459",
     "exception": false,
     "start_time": "2021-11-07T08:24:42.481689",
     "status": "completed"
    },
    "tags": []
   },
   "outputs": [],
   "source": [
    "df = matches_play_t1.copy()\n",
    "df = df.set_index('date')\n",
    "years_num = 2\n",
    "years_days = str(years_num*12*30)\n",
    "k1 = df.groupby(['duals_sets','city'])['winner'].ewm(alpha=0.05).mean()"
   ]
  },
  {
   "cell_type": "code",
   "execution_count": 35,
   "id": "5e1baefd",
   "metadata": {
    "execution": {
     "iopub.execute_input": "2021-11-07T08:24:42.886010Z",
     "iopub.status.busy": "2021-11-07T08:24:42.885302Z",
     "iopub.status.idle": "2021-11-07T08:24:42.889241Z",
     "shell.execute_reply": "2021-11-07T08:24:42.888569Z",
     "shell.execute_reply.started": "2021-11-07T08:23:57.967346Z"
    },
    "papermill": {
     "duration": 0.082295,
     "end_time": "2021-11-07T08:24:42.889381",
     "exception": false,
     "start_time": "2021-11-07T08:24:42.807086",
     "status": "completed"
    },
    "tags": []
   },
   "outputs": [
    {
     "data": {
      "text/html": [
       "<div>\n",
       "<style scoped>\n",
       "    .dataframe tbody tr th:only-of-type {\n",
       "        vertical-align: middle;\n",
       "    }\n",
       "\n",
       "    .dataframe tbody tr th {\n",
       "        vertical-align: top;\n",
       "    }\n",
       "\n",
       "    .dataframe thead th {\n",
       "        text-align: right;\n",
       "    }\n",
       "</style>\n",
       "<table border=\"1\" class=\"dataframe\">\n",
       "  <thead>\n",
       "    <tr style=\"text-align: right;\">\n",
       "      <th></th>\n",
       "      <th>duals_sets</th>\n",
       "      <th>city</th>\n",
       "      <th>date</th>\n",
       "      <th>winner</th>\n",
       "    </tr>\n",
       "  </thead>\n",
       "  <tbody>\n",
       "    <tr>\n",
       "      <th>0</th>\n",
       "      <td>0</td>\n",
       "      <td>10</td>\n",
       "      <td>2019-03-26</td>\n",
       "      <td>0.0</td>\n",
       "    </tr>\n",
       "    <tr>\n",
       "      <th>1</th>\n",
       "      <td>0</td>\n",
       "      <td>10</td>\n",
       "      <td>2019-03-26</td>\n",
       "      <td>0.0</td>\n",
       "    </tr>\n",
       "    <tr>\n",
       "      <th>2</th>\n",
       "      <td>0</td>\n",
       "      <td>32</td>\n",
       "      <td>2019-10-05</td>\n",
       "      <td>0.0</td>\n",
       "    </tr>\n",
       "    <tr>\n",
       "      <th>3</th>\n",
       "      <td>1</td>\n",
       "      <td>0</td>\n",
       "      <td>2014-04-21</td>\n",
       "      <td>1.0</td>\n",
       "    </tr>\n",
       "    <tr>\n",
       "      <th>4</th>\n",
       "      <td>1</td>\n",
       "      <td>8</td>\n",
       "      <td>2008-02-05</td>\n",
       "      <td>0.0</td>\n",
       "    </tr>\n",
       "  </tbody>\n",
       "</table>\n",
       "</div>"
      ],
      "text/plain": [
       "   duals_sets  city       date  winner\n",
       "0           0    10 2019-03-26     0.0\n",
       "1           0    10 2019-03-26     0.0\n",
       "2           0    32 2019-10-05     0.0\n",
       "3           1     0 2014-04-21     1.0\n",
       "4           1     8 2008-02-05     0.0"
      ]
     },
     "execution_count": 35,
     "metadata": {},
     "output_type": "execute_result"
    }
   ],
   "source": [
    "k1 = k1.reset_index()\n",
    "k1.head()"
   ]
  },
  {
   "cell_type": "code",
   "execution_count": 36,
   "id": "8370cb6c",
   "metadata": {
    "execution": {
     "iopub.execute_input": "2021-11-07T08:24:43.061319Z",
     "iopub.status.busy": "2021-11-07T08:24:43.059494Z",
     "iopub.status.idle": "2021-11-07T08:24:43.259634Z",
     "shell.execute_reply": "2021-11-07T08:24:43.258946Z",
     "shell.execute_reply.started": "2021-11-07T08:23:57.985174Z"
    },
    "papermill": {
     "duration": 0.304174,
     "end_time": "2021-11-07T08:24:43.259796",
     "exception": false,
     "start_time": "2021-11-07T08:24:42.955622",
     "status": "completed"
    },
    "tags": []
   },
   "outputs": [
    {
     "data": {
      "text/plain": [
       "<matplotlib.legend.Legend at 0x7f80c760cc10>"
      ]
     },
     "execution_count": 36,
     "metadata": {},
     "output_type": "execute_result"
    },
    {
     "data": {
      "image/png": "[encoded data removed]",
      "text/plain": [
       "<Figure size 432x288 with 1 Axes>"
      ]
     },
     "metadata": {
      "needs_background": "light"
     },
     "output_type": "display_data"
    }
   ],
   "source": [
    "df2 = df1.merge(k1, on=['duals_sets','date'])\n",
    "groups = df2.groupby(\"winner_x\")\n",
    "for name, group in groups:\n",
    "    plt.plot(group[\"date\"], group[\"winner_y\"], marker=\"o\", linestyle=\"\", label=name)\n",
    "plt.legend()"
   ]
  },
  {
   "cell_type": "markdown",
   "id": "e4691369",
   "metadata": {
    "papermill": {
     "duration": 0.065967,
     "end_time": "2021-11-07T08:24:43.392603",
     "exception": false,
     "start_time": "2021-11-07T08:24:43.326636",
     "status": "completed"
    },
    "tags": []
   },
   "source": [
    "> We can see a great seperator here when grouping by country too\n",
    "> It looks like many small teams playing in some countries for the first time are not match for other teams who play in these countries always"
   ]
  },
  {
   "cell_type": "code",
   "execution_count": 37,
   "id": "97a0f4af",
   "metadata": {
    "execution": {
     "iopub.execute_input": "2021-11-07T08:24:43.529403Z",
     "iopub.status.busy": "2021-11-07T08:24:43.528676Z",
     "iopub.status.idle": "2021-11-07T08:24:43.855171Z",
     "shell.execute_reply": "2021-11-07T08:24:43.855667Z",
     "shell.execute_reply.started": "2021-11-07T08:23:58.220380Z"
    },
    "papermill": {
     "duration": 0.397134,
     "end_time": "2021-11-07T08:24:43.855859",
     "exception": false,
     "start_time": "2021-11-07T08:24:43.458725",
     "status": "completed"
    },
    "tags": []
   },
   "outputs": [
    {
     "data": {
      "text/plain": [
       "<matplotlib.legend.Legend at 0x7f80bcae49d0>"
      ]
     },
     "execution_count": 37,
     "metadata": {},
     "output_type": "execute_result"
    },
    {
     "data": {
      "image/png": "[encoded data removed]",
      "text/plain": [
       "<Figure size 432x288 with 1 Axes>"
      ]
     },
     "metadata": {
      "needs_background": "light"
     },
     "output_type": "display_data"
    }
   ],
   "source": [
    "df = matches_play_t1.copy()\n",
    "df = df.set_index('date')\n",
    "years_num = 2\n",
    "years_days = str(years_num*12*30)\n",
    "k1 = df.groupby(['duals_sets','country'])['winner'].ewm(alpha=0.05).mean()\n",
    "\n",
    "k1 = k1.reset_index()\n",
    "df2 = df1.merge(k1, on=['duals_sets','date'])\n",
    "groups = df2.groupby(\"winner_x\")\n",
    "for name, group in groups:\n",
    "    plt.plot(group[\"date\"], group[\"winner_y\"], marker=\"o\", linestyle=\"\", label=name)\n",
    "plt.legend()"
   ]
  },
  {
   "cell_type": "code",
   "execution_count": 38,
   "id": "0b36cbcd",
   "metadata": {
    "execution": {
     "iopub.execute_input": "2021-11-07T08:24:44.000120Z",
     "iopub.status.busy": "2021-11-07T08:24:43.999130Z",
     "iopub.status.idle": "2021-11-07T08:24:44.369188Z",
     "shell.execute_reply": "2021-11-07T08:24:44.368483Z",
     "shell.execute_reply.started": "2021-11-07T08:23:58.554394Z"
    },
    "papermill": {
     "duration": 0.442602,
     "end_time": "2021-11-07T08:24:44.369343",
     "exception": false,
     "start_time": "2021-11-07T08:24:43.926741",
     "status": "completed"
    },
    "tags": []
   },
   "outputs": [
    {
     "data": {
      "text/plain": [
       "<matplotlib.legend.Legend at 0x7f80bca39c90>"
      ]
     },
     "execution_count": 38,
     "metadata": {},
     "output_type": "execute_result"
    },
    {
     "data": {
      "image/png": "[encoded data removed]",
      "text/plain": [
       "<Figure size 432x288 with 1 Axes>"
      ]
     },
     "metadata": {
      "needs_background": "light"
     },
     "output_type": "display_data"
    }
   ],
   "source": [
    "df = matches_play_t1.copy()\n",
    "df = df.set_index(['date','id'])\n",
    "years_num = 2\n",
    "years_days = str(years_num*12*30)\n",
    "k1 = df.groupby(['duals_sets','country'])['winner'].ewm(alpha=0.05).mean()\n",
    "\n",
    "k1 = k1.reset_index()\n",
    "df2 = df1.merge(k1, on=['duals_sets','date'])\n",
    "groups = df2.groupby(\"winner_x\")\n",
    "for name, group in groups:\n",
    "    plt.plot(group[\"date\"], group[\"winner_y\"], marker=\"o\", linestyle=\"\", label=name)\n",
    "plt.legend()"
   ]
  },
  {
   "cell_type": "code",
   "execution_count": 39,
   "id": "5d7fee1f",
   "metadata": {
    "execution": {
     "iopub.execute_input": "2021-11-07T08:24:44.526631Z",
     "iopub.status.busy": "2021-11-07T08:24:44.525907Z",
     "iopub.status.idle": "2021-11-07T08:24:44.528304Z",
     "shell.execute_reply": "2021-11-07T08:24:44.528900Z",
     "shell.execute_reply.started": "2021-11-07T08:23:58.911261Z"
    },
    "papermill": {
     "duration": 0.085013,
     "end_time": "2021-11-07T08:24:44.529093",
     "exception": false,
     "start_time": "2021-11-07T08:24:44.444080",
     "status": "completed"
    },
    "tags": []
   },
   "outputs": [],
   "source": [
    "df = matches_play_t1.copy()\n"
   ]
  },
  {
   "cell_type": "code",
   "execution_count": 40,
   "id": "8bacfdb6",
   "metadata": {
    "execution": {
     "iopub.execute_input": "2021-11-07T08:24:44.674316Z",
     "iopub.status.busy": "2021-11-07T08:24:44.673638Z",
     "iopub.status.idle": "2021-11-07T08:24:44.681331Z",
     "shell.execute_reply": "2021-11-07T08:24:44.680656Z",
     "shell.execute_reply.started": "2021-11-07T08:23:58.917841Z"
    },
    "papermill": {
     "duration": 0.082,
     "end_time": "2021-11-07T08:24:44.681475",
     "exception": false,
     "start_time": "2021-11-07T08:24:44.599475",
     "status": "completed"
    },
    "tags": []
   },
   "outputs": [
    {
     "data": {
      "text/plain": [
       "546"
      ]
     },
     "execution_count": 40,
     "metadata": {},
     "output_type": "execute_result"
    }
   ],
   "source": [
    "matches_play_t1.date.nunique()"
   ]
  },
  {
   "cell_type": "code",
   "execution_count": 41,
   "id": "85c68a72",
   "metadata": {
    "execution": {
     "iopub.execute_input": "2021-11-07T08:24:44.829716Z",
     "iopub.status.busy": "2021-11-07T08:24:44.828964Z",
     "iopub.status.idle": "2021-11-07T08:24:44.831453Z",
     "shell.execute_reply": "2021-11-07T08:24:44.831923Z",
     "shell.execute_reply.started": "2021-11-07T08:23:58.934708Z"
    },
    "papermill": {
     "duration": 0.07921,
     "end_time": "2021-11-07T08:24:44.832142",
     "exception": false,
     "start_time": "2021-11-07T08:24:44.752932",
     "status": "completed"
    },
    "tags": []
   },
   "outputs": [],
   "source": [
    "def get_same_day_matches_id(s):\n",
    "    k = np.arange(len(s))\n",
    "    return k\n",
    "def add_same_day_mathches_id(df,group_cols):\n",
    "    cols = list(df.columns)\n",
    "    for c in group_cols:\n",
    "        cols.remove(c)\n",
    "    col = cols[0]\n",
    "    return df.groupby(group_cols)[col].transform(get_same_day_matches_id).values"
   ]
  },
  {
   "cell_type": "code",
   "execution_count": 42,
   "id": "19c318f1",
   "metadata": {
    "execution": {
     "iopub.execute_input": "2021-11-07T08:24:44.978794Z",
     "iopub.status.busy": "2021-11-07T08:24:44.977668Z",
     "iopub.status.idle": "2021-11-07T08:24:45.278679Z",
     "shell.execute_reply": "2021-11-07T08:24:45.277955Z",
     "shell.execute_reply.started": "2021-11-07T08:23:58.944051Z"
    },
    "papermill": {
     "duration": 0.374968,
     "end_time": "2021-11-07T08:24:45.278827",
     "exception": false,
     "start_time": "2021-11-07T08:24:44.903859",
     "status": "completed"
    },
    "tags": []
   },
   "outputs": [
    {
     "name": "stderr",
     "output_type": "stream",
     "text": [
      "/opt/conda/lib/python3.7/site-packages/seaborn/_decorators.py:43: FutureWarning: Pass the following variable as a keyword arg: x. From version 0.12, the only valid positional argument will be `data`, and passing other arguments without an explicit keyword will result in an error or misinterpretation.\n",
      "  FutureWarning\n"
     ]
    },
    {
     "data": {
      "text/plain": [
       "<AxesSubplot:xlabel='same_day_mathches_id', ylabel='count'>"
      ]
     },
     "execution_count": 42,
     "metadata": {},
     "output_type": "execute_result"
    },
    {
     "data": {
      "image/png": "[encoded data removed]",
      "text/plain": [
       "<Figure size 432x288 with 1 Axes>"
      ]
     },
     "metadata": {
      "needs_background": "light"
     },
     "output_type": "display_data"
    }
   ],
   "source": [
    "matches_play_t1['same_day_mathches_id'] = add_same_day_mathches_id(matches_play_t1,['duals_sets','date'])\n",
    "sns.countplot(matches_play_t1['same_day_mathches_id'])"
   ]
  },
  {
   "cell_type": "code",
   "execution_count": 43,
   "id": "2899472b",
   "metadata": {
    "execution": {
     "iopub.execute_input": "2021-11-07T08:24:45.427252Z",
     "iopub.status.busy": "2021-11-07T08:24:45.426581Z",
     "iopub.status.idle": "2021-11-07T08:24:45.435989Z",
     "shell.execute_reply": "2021-11-07T08:24:45.436586Z",
     "shell.execute_reply.started": "2021-11-07T08:23:59.238504Z"
    },
    "papermill": {
     "duration": 0.085099,
     "end_time": "2021-11-07T08:24:45.436768",
     "exception": false,
     "start_time": "2021-11-07T08:24:45.351669",
     "status": "completed"
    },
    "tags": []
   },
   "outputs": [],
   "source": [
    "def create_rolling_feat(df,groups_input,roll_col,col_name,key_cols,is_ewm=True,func_to_apply='mean',years_num=2,alpha=0.05):\n",
    "    # preprcess the dataframe\n",
    "    df_input = df.copy()\n",
    "    df_input = df_input.set_index('date')\n",
    "    groups = deepcopy(groups_input)\n",
    "    years_days = str(years_num*12*30)\n",
    "    # get the group\n",
    "    if is_ewm:\n",
    "        k1 = df_input.groupby(groups)[roll_col].ewm(alpha=alpha)\n",
    "    else:\n",
    "        k1 = df_input.groupby(groups).rolling(years_days+'D')[roll_col]\n",
    "    # apply the function\n",
    "    if func_to_apply == 'mean':\n",
    "        k1 = k1.mean()\n",
    "    elif func_to_apply == 'sum':\n",
    "        k1 = k1.sum()\n",
    "    elif func_to_apply == 'std':\n",
    "        k1 = k1.std()\n",
    "    \n",
    "    k1.name = col_name\n",
    "    # prepare df to merge\n",
    "    df_input = df_input.reset_index()\n",
    "    groups.extend(['date','same_day_mathches_id'])\n",
    "    # prepare k1 to merge\n",
    "    k1 = k1.reset_index()\n",
    "    k1 ['same_day_mathches_id'] = add_same_day_mathches_id(k1,key_cols)\n",
    "    # merge\n",
    "#     print(df_input.columns)\n",
    "#     print(k1.columns)\n",
    "    df_input = df_input.merge(k1,how='left', on=groups)\n",
    "#     print(df_input.shape)\n",
    "    \n",
    "    return df_input\n",
    "    "
   ]
  },
  {
   "cell_type": "code",
   "execution_count": 44,
   "id": "0bc3701d",
   "metadata": {
    "execution": {
     "iopub.execute_input": "2021-11-07T08:24:45.614438Z",
     "iopub.status.busy": "2021-11-07T08:24:45.613724Z",
     "iopub.status.idle": "2021-11-07T08:24:45.621343Z",
     "shell.execute_reply": "2021-11-07T08:24:45.622025Z",
     "shell.execute_reply.started": "2021-11-07T08:23:59.251936Z"
    },
    "papermill": {
     "duration": 0.104488,
     "end_time": "2021-11-07T08:24:45.622232",
     "exception": false,
     "start_time": "2021-11-07T08:24:45.517744",
     "status": "completed"
    },
    "tags": []
   },
   "outputs": [
    {
     "data": {
      "text/plain": [
       "[['duals_sets', 'country'],\n",
       " ['duals_sets', 'venue'],\n",
       " ['duals_sets', 'city'],\n",
       " ['duals_sets', 'Season']]"
      ]
     },
     "execution_count": 44,
     "metadata": {},
     "output_type": "execute_result"
    }
   ],
   "source": [
    "from copy import deepcopy\n",
    "roll_col = 'winner'\n",
    "groups_cols = [['country'],['venue'],['city'],['Season']]\n",
    "groups_cols1 =deepcopy(groups_cols)\n",
    "[e.insert(0,'duals_sets')for e in groups_cols1]\n",
    "# groups_cols1.append(['duals_sets'])\n",
    "groups_cols1"
   ]
  },
  {
   "cell_type": "code",
   "execution_count": 45,
   "id": "ed078461",
   "metadata": {
    "execution": {
     "iopub.execute_input": "2021-11-07T08:24:45.771390Z",
     "iopub.status.busy": "2021-11-07T08:24:45.770640Z",
     "iopub.status.idle": "2021-11-07T08:24:45.777865Z",
     "shell.execute_reply": "2021-11-07T08:24:45.778519Z",
     "shell.execute_reply.started": "2021-11-07T08:23:59.269691Z"
    },
    "papermill": {
     "duration": 0.083186,
     "end_time": "2021-11-07T08:24:45.778723",
     "exception": false,
     "start_time": "2021-11-07T08:24:45.695537",
     "status": "completed"
    },
    "tags": []
   },
   "outputs": [
    {
     "data": {
      "text/plain": [
       "[['duals_sets', 'country'],\n",
       " ['duals_sets', 'venue'],\n",
       " ['duals_sets', 'city'],\n",
       " ['duals_sets', 'Season'],\n",
       " ['team', 'country'],\n",
       " ['team', 'venue'],\n",
       " ['team', 'city'],\n",
       " ['team', 'Season']]"
      ]
     },
     "execution_count": 45,
     "metadata": {},
     "output_type": "execute_result"
    }
   ],
   "source": [
    "k = len(groups_cols1)\n",
    "groups_cols2 = deepcopy(groups_cols1)\n",
    "for i in range(k):\n",
    "    ele = groups_cols2[i]\n",
    "    ele[0] = 'team'\n",
    "    groups_cols1.append(ele)\n",
    "groups_cols1    "
   ]
  },
  {
   "cell_type": "code",
   "execution_count": 46,
   "id": "3dbf648e",
   "metadata": {
    "execution": {
     "iopub.execute_input": "2021-11-07T08:24:45.928252Z",
     "iopub.status.busy": "2021-11-07T08:24:45.927541Z",
     "iopub.status.idle": "2021-11-07T08:24:45.931705Z",
     "shell.execute_reply": "2021-11-07T08:24:45.932356Z",
     "shell.execute_reply.started": "2021-11-07T08:23:59.283870Z"
    },
    "papermill": {
     "duration": 0.081141,
     "end_time": "2021-11-07T08:24:45.932532",
     "exception": false,
     "start_time": "2021-11-07T08:24:45.851391",
     "status": "completed"
    },
    "tags": []
   },
   "outputs": [],
   "source": [
    "groups_cols1.extend([['duals_sets'],['team']])"
   ]
  },
  {
   "cell_type": "code",
   "execution_count": 47,
   "id": "a84c637b",
   "metadata": {
    "execution": {
     "iopub.execute_input": "2021-11-07T08:24:46.082937Z",
     "iopub.status.busy": "2021-11-07T08:24:46.082284Z",
     "iopub.status.idle": "2021-11-07T08:24:55.834246Z",
     "shell.execute_reply": "2021-11-07T08:24:55.834760Z",
     "shell.execute_reply.started": "2021-11-07T08:23:59.295380Z"
    },
    "papermill": {
     "duration": 9.828085,
     "end_time": "2021-11-07T08:24:55.834946",
     "exception": false,
     "start_time": "2021-11-07T08:24:46.006861",
     "status": "completed"
    },
    "tags": []
   },
   "outputs": [],
   "source": [
    "df = matches_play_t1.copy()\n",
    "\n",
    "\n",
    "\n",
    "for group in groups_cols1:\n",
    "    roll_col = 'winner'\n",
    "    # ewm mean columns\n",
    "    if group[0] == 'team':\n",
    "        key_cols = ['team','date']\n",
    "    else:\n",
    "        key_cols = ['duals_sets','date']\n",
    "    new_col = '_'.join(group)+'_ewm_mean'\n",
    "    df = create_rolling_feat(df,group,roll_col,new_col,key_cols)\n",
    "    for i in [1,2,3,4]:\n",
    "        new_col = '_'.join(group)+'_sum_'+str(i)\n",
    "        df = create_rolling_feat(df,group,roll_col,new_col,key_cols,is_ewm=False,func_to_apply='sum',years_num=i)\n",
    "        \n",
    "        \n",
    "    \n",
    "    \n"
   ]
  },
  {
   "cell_type": "code",
   "execution_count": 48,
   "id": "dcb31209",
   "metadata": {
    "execution": {
     "iopub.execute_input": "2021-11-07T08:24:55.983797Z",
     "iopub.status.busy": "2021-11-07T08:24:55.983168Z",
     "iopub.status.idle": "2021-11-07T08:24:56.195886Z",
     "shell.execute_reply": "2021-11-07T08:24:56.195268Z",
     "shell.execute_reply.started": "2021-11-07T08:24:09.164021Z"
    },
    "papermill": {
     "duration": 0.288016,
     "end_time": "2021-11-07T08:24:56.196059",
     "exception": false,
     "start_time": "2021-11-07T08:24:55.908043",
     "status": "completed"
    },
    "tags": []
   },
   "outputs": [
    {
     "data": {
      "text/html": [
       "<div>\n",
       "<style scoped>\n",
       "    .dataframe tbody tr th:only-of-type {\n",
       "        vertical-align: middle;\n",
       "    }\n",
       "\n",
       "    .dataframe tbody tr th {\n",
       "        vertical-align: top;\n",
       "    }\n",
       "\n",
       "    .dataframe thead th {\n",
       "        text-align: right;\n",
       "    }\n",
       "</style>\n",
       "<table border=\"1\" class=\"dataframe\">\n",
       "  <thead>\n",
       "    <tr style=\"text-align: right;\">\n",
       "      <th></th>\n",
       "      <th>date</th>\n",
       "      <th>id</th>\n",
       "      <th>Season</th>\n",
       "      <th>city</th>\n",
       "      <th>team</th>\n",
       "      <th>result</th>\n",
       "      <th>dl_applied</th>\n",
       "      <th>winner</th>\n",
       "      <th>win_by_runs</th>\n",
       "      <th>win_by_wickets</th>\n",
       "      <th>...</th>\n",
       "      <th>duals_sets_ewm_mean</th>\n",
       "      <th>duals_sets_sum_1</th>\n",
       "      <th>duals_sets_sum_2</th>\n",
       "      <th>duals_sets_sum_3</th>\n",
       "      <th>duals_sets_sum_4</th>\n",
       "      <th>team_ewm_mean</th>\n",
       "      <th>team_sum_1</th>\n",
       "      <th>team_sum_2</th>\n",
       "      <th>team_sum_3</th>\n",
       "      <th>team_sum_4</th>\n",
       "    </tr>\n",
       "  </thead>\n",
       "  <tbody>\n",
       "    <tr>\n",
       "      <th>0</th>\n",
       "      <td>2017-05-04</td>\n",
       "      <td>1</td>\n",
       "      <td>2017</td>\n",
       "      <td>15</td>\n",
       "      <td>14</td>\n",
       "      <td>1</td>\n",
       "      <td>0</td>\n",
       "      <td>1</td>\n",
       "      <td>35</td>\n",
       "      <td>0</td>\n",
       "      <td>...</td>\n",
       "      <td>1.0</td>\n",
       "      <td>1.0</td>\n",
       "      <td>1.0</td>\n",
       "      <td>1.0</td>\n",
       "      <td>1.0</td>\n",
       "      <td>1.0</td>\n",
       "      <td>1.0</td>\n",
       "      <td>1.0</td>\n",
       "      <td>1.0</td>\n",
       "      <td>1.0</td>\n",
       "    </tr>\n",
       "    <tr>\n",
       "      <th>1</th>\n",
       "      <td>2017-06-04</td>\n",
       "      <td>2</td>\n",
       "      <td>2017</td>\n",
       "      <td>27</td>\n",
       "      <td>8</td>\n",
       "      <td>1</td>\n",
       "      <td>0</td>\n",
       "      <td>0</td>\n",
       "      <td>0</td>\n",
       "      <td>7</td>\n",
       "      <td>...</td>\n",
       "      <td>0.0</td>\n",
       "      <td>0.0</td>\n",
       "      <td>0.0</td>\n",
       "      <td>0.0</td>\n",
       "      <td>0.0</td>\n",
       "      <td>0.0</td>\n",
       "      <td>0.0</td>\n",
       "      <td>0.0</td>\n",
       "      <td>0.0</td>\n",
       "      <td>0.0</td>\n",
       "    </tr>\n",
       "    <tr>\n",
       "      <th>2</th>\n",
       "      <td>2017-07-04</td>\n",
       "      <td>3</td>\n",
       "      <td>2017</td>\n",
       "      <td>29</td>\n",
       "      <td>4</td>\n",
       "      <td>1</td>\n",
       "      <td>0</td>\n",
       "      <td>0</td>\n",
       "      <td>0</td>\n",
       "      <td>10</td>\n",
       "      <td>...</td>\n",
       "      <td>0.0</td>\n",
       "      <td>0.0</td>\n",
       "      <td>0.0</td>\n",
       "      <td>0.0</td>\n",
       "      <td>0.0</td>\n",
       "      <td>0.0</td>\n",
       "      <td>0.0</td>\n",
       "      <td>0.0</td>\n",
       "      <td>0.0</td>\n",
       "      <td>0.0</td>\n",
       "    </tr>\n",
       "    <tr>\n",
       "      <th>3</th>\n",
       "      <td>2017-08-04</td>\n",
       "      <td>4</td>\n",
       "      <td>2017</td>\n",
       "      <td>16</td>\n",
       "      <td>11</td>\n",
       "      <td>1</td>\n",
       "      <td>0</td>\n",
       "      <td>0</td>\n",
       "      <td>0</td>\n",
       "      <td>6</td>\n",
       "      <td>...</td>\n",
       "      <td>0.0</td>\n",
       "      <td>0.0</td>\n",
       "      <td>0.0</td>\n",
       "      <td>0.0</td>\n",
       "      <td>0.0</td>\n",
       "      <td>0.0</td>\n",
       "      <td>0.0</td>\n",
       "      <td>0.0</td>\n",
       "      <td>0.0</td>\n",
       "      <td>0.0</td>\n",
       "    </tr>\n",
       "    <tr>\n",
       "      <th>4</th>\n",
       "      <td>2017-08-04</td>\n",
       "      <td>5</td>\n",
       "      <td>2017</td>\n",
       "      <td>2</td>\n",
       "      <td>13</td>\n",
       "      <td>1</td>\n",
       "      <td>0</td>\n",
       "      <td>1</td>\n",
       "      <td>15</td>\n",
       "      <td>0</td>\n",
       "      <td>...</td>\n",
       "      <td>1.0</td>\n",
       "      <td>1.0</td>\n",
       "      <td>1.0</td>\n",
       "      <td>1.0</td>\n",
       "      <td>1.0</td>\n",
       "      <td>1.0</td>\n",
       "      <td>1.0</td>\n",
       "      <td>1.0</td>\n",
       "      <td>1.0</td>\n",
       "      <td>1.0</td>\n",
       "    </tr>\n",
       "  </tbody>\n",
       "</table>\n",
       "<p>5 rows × 63 columns</p>\n",
       "</div>"
      ],
      "text/plain": [
       "        date id Season city team result dl_applied winner win_by_runs  \\\n",
       "0 2017-05-04  1   2017   15   14      1          0      1          35   \n",
       "1 2017-06-04  2   2017   27    8      1          0      0           0   \n",
       "2 2017-07-04  3   2017   29    4      1          0      0           0   \n",
       "3 2017-08-04  4   2017   16   11      1          0      0           0   \n",
       "4 2017-08-04  5   2017    2   13      1          0      1          15   \n",
       "\n",
       "  win_by_wickets  ... duals_sets_ewm_mean duals_sets_sum_1 duals_sets_sum_2  \\\n",
       "0              0  ...                 1.0              1.0              1.0   \n",
       "1              7  ...                 0.0              0.0              0.0   \n",
       "2             10  ...                 0.0              0.0              0.0   \n",
       "3              6  ...                 0.0              0.0              0.0   \n",
       "4              0  ...                 1.0              1.0              1.0   \n",
       "\n",
       "  duals_sets_sum_3 duals_sets_sum_4 team_ewm_mean team_sum_1 team_sum_2  \\\n",
       "0              1.0              1.0           1.0        1.0        1.0   \n",
       "1              0.0              0.0           0.0        0.0        0.0   \n",
       "2              0.0              0.0           0.0        0.0        0.0   \n",
       "3              0.0              0.0           0.0        0.0        0.0   \n",
       "4              1.0              1.0           1.0        1.0        1.0   \n",
       "\n",
       "  team_sum_3 team_sum_4  \n",
       "0        1.0        1.0  \n",
       "1        0.0        0.0  \n",
       "2        0.0        0.0  \n",
       "3        0.0        0.0  \n",
       "4        1.0        1.0  \n",
       "\n",
       "[5 rows x 63 columns]"
      ]
     },
     "execution_count": 48,
     "metadata": {},
     "output_type": "execute_result"
    }
   ],
   "source": [
    "df = df.T.drop_duplicates().T\n",
    "df.head()"
   ]
  },
  {
   "cell_type": "code",
   "execution_count": 49,
   "id": "e89f59de",
   "metadata": {
    "execution": {
     "iopub.execute_input": "2021-11-07T08:24:56.345955Z",
     "iopub.status.busy": "2021-11-07T08:24:56.345304Z",
     "iopub.status.idle": "2021-11-07T08:24:56.374391Z",
     "shell.execute_reply": "2021-11-07T08:24:56.374906Z",
     "shell.execute_reply.started": "2021-11-07T08:24:09.383974Z"
    },
    "papermill": {
     "duration": 0.107398,
     "end_time": "2021-11-07T08:24:56.375109",
     "exception": false,
     "start_time": "2021-11-07T08:24:56.267711",
     "status": "completed"
    },
    "tags": []
   },
   "outputs": [
    {
     "data": {
      "text/html": [
       "<div>\n",
       "<style scoped>\n",
       "    .dataframe tbody tr th:only-of-type {\n",
       "        vertical-align: middle;\n",
       "    }\n",
       "\n",
       "    .dataframe tbody tr th {\n",
       "        vertical-align: top;\n",
       "    }\n",
       "\n",
       "    .dataframe thead th {\n",
       "        text-align: right;\n",
       "    }\n",
       "</style>\n",
       "<table border=\"1\" class=\"dataframe\">\n",
       "  <thead>\n",
       "    <tr style=\"text-align: right;\">\n",
       "      <th></th>\n",
       "      <th>date</th>\n",
       "      <th>id</th>\n",
       "      <th>Season</th>\n",
       "      <th>city</th>\n",
       "      <th>team</th>\n",
       "      <th>result</th>\n",
       "      <th>dl_applied</th>\n",
       "      <th>winner</th>\n",
       "      <th>win_by_runs</th>\n",
       "      <th>win_by_wickets</th>\n",
       "      <th>...</th>\n",
       "      <th>duals_sets_ewm_mean</th>\n",
       "      <th>duals_sets_sum_1</th>\n",
       "      <th>duals_sets_sum_2</th>\n",
       "      <th>duals_sets_sum_3</th>\n",
       "      <th>duals_sets_sum_4</th>\n",
       "      <th>team_ewm_mean</th>\n",
       "      <th>team_sum_1</th>\n",
       "      <th>team_sum_2</th>\n",
       "      <th>team_sum_3</th>\n",
       "      <th>team_sum_4</th>\n",
       "    </tr>\n",
       "  </thead>\n",
       "  <tbody>\n",
       "    <tr>\n",
       "      <th>0</th>\n",
       "      <td>2017-05-04</td>\n",
       "      <td>1</td>\n",
       "      <td>2017</td>\n",
       "      <td>15</td>\n",
       "      <td>14</td>\n",
       "      <td>1</td>\n",
       "      <td>0</td>\n",
       "      <td>1</td>\n",
       "      <td>35</td>\n",
       "      <td>0</td>\n",
       "      <td>...</td>\n",
       "      <td>1.0</td>\n",
       "      <td>1.0</td>\n",
       "      <td>1.0</td>\n",
       "      <td>1.0</td>\n",
       "      <td>1.0</td>\n",
       "      <td>1.0</td>\n",
       "      <td>1.0</td>\n",
       "      <td>1.0</td>\n",
       "      <td>1.0</td>\n",
       "      <td>1.0</td>\n",
       "    </tr>\n",
       "    <tr>\n",
       "      <th>1</th>\n",
       "      <td>2017-06-04</td>\n",
       "      <td>2</td>\n",
       "      <td>2017</td>\n",
       "      <td>27</td>\n",
       "      <td>8</td>\n",
       "      <td>1</td>\n",
       "      <td>0</td>\n",
       "      <td>0</td>\n",
       "      <td>0</td>\n",
       "      <td>7</td>\n",
       "      <td>...</td>\n",
       "      <td>0.0</td>\n",
       "      <td>0.0</td>\n",
       "      <td>0.0</td>\n",
       "      <td>0.0</td>\n",
       "      <td>0.0</td>\n",
       "      <td>0.0</td>\n",
       "      <td>0.0</td>\n",
       "      <td>0.0</td>\n",
       "      <td>0.0</td>\n",
       "      <td>0.0</td>\n",
       "    </tr>\n",
       "    <tr>\n",
       "      <th>2</th>\n",
       "      <td>2017-07-04</td>\n",
       "      <td>3</td>\n",
       "      <td>2017</td>\n",
       "      <td>29</td>\n",
       "      <td>4</td>\n",
       "      <td>1</td>\n",
       "      <td>0</td>\n",
       "      <td>0</td>\n",
       "      <td>0</td>\n",
       "      <td>10</td>\n",
       "      <td>...</td>\n",
       "      <td>0.0</td>\n",
       "      <td>0.0</td>\n",
       "      <td>0.0</td>\n",
       "      <td>0.0</td>\n",
       "      <td>0.0</td>\n",
       "      <td>0.0</td>\n",
       "      <td>0.0</td>\n",
       "      <td>0.0</td>\n",
       "      <td>0.0</td>\n",
       "      <td>0.0</td>\n",
       "    </tr>\n",
       "    <tr>\n",
       "      <th>3</th>\n",
       "      <td>2017-08-04</td>\n",
       "      <td>4</td>\n",
       "      <td>2017</td>\n",
       "      <td>16</td>\n",
       "      <td>11</td>\n",
       "      <td>1</td>\n",
       "      <td>0</td>\n",
       "      <td>0</td>\n",
       "      <td>0</td>\n",
       "      <td>6</td>\n",
       "      <td>...</td>\n",
       "      <td>0.0</td>\n",
       "      <td>0.0</td>\n",
       "      <td>0.0</td>\n",
       "      <td>0.0</td>\n",
       "      <td>0.0</td>\n",
       "      <td>0.0</td>\n",
       "      <td>0.0</td>\n",
       "      <td>0.0</td>\n",
       "      <td>0.0</td>\n",
       "      <td>0.0</td>\n",
       "    </tr>\n",
       "    <tr>\n",
       "      <th>4</th>\n",
       "      <td>2017-08-04</td>\n",
       "      <td>5</td>\n",
       "      <td>2017</td>\n",
       "      <td>2</td>\n",
       "      <td>13</td>\n",
       "      <td>1</td>\n",
       "      <td>0</td>\n",
       "      <td>1</td>\n",
       "      <td>15</td>\n",
       "      <td>0</td>\n",
       "      <td>...</td>\n",
       "      <td>1.0</td>\n",
       "      <td>1.0</td>\n",
       "      <td>1.0</td>\n",
       "      <td>1.0</td>\n",
       "      <td>1.0</td>\n",
       "      <td>1.0</td>\n",
       "      <td>1.0</td>\n",
       "      <td>1.0</td>\n",
       "      <td>1.0</td>\n",
       "      <td>1.0</td>\n",
       "    </tr>\n",
       "    <tr>\n",
       "      <th>...</th>\n",
       "      <td>...</td>\n",
       "      <td>...</td>\n",
       "      <td>...</td>\n",
       "      <td>...</td>\n",
       "      <td>...</td>\n",
       "      <td>...</td>\n",
       "      <td>...</td>\n",
       "      <td>...</td>\n",
       "      <td>...</td>\n",
       "      <td>...</td>\n",
       "      <td>...</td>\n",
       "      <td>...</td>\n",
       "      <td>...</td>\n",
       "      <td>...</td>\n",
       "      <td>...</td>\n",
       "      <td>...</td>\n",
       "      <td>...</td>\n",
       "      <td>...</td>\n",
       "      <td>...</td>\n",
       "      <td>...</td>\n",
       "      <td>...</td>\n",
       "    </tr>\n",
       "    <tr>\n",
       "      <th>831</th>\n",
       "      <td>2019-05-05</td>\n",
       "      <td>11347</td>\n",
       "      <td>2019</td>\n",
       "      <td>24</td>\n",
       "      <td>7</td>\n",
       "      <td>1</td>\n",
       "      <td>0</td>\n",
       "      <td>0</td>\n",
       "      <td>0</td>\n",
       "      <td>9</td>\n",
       "      <td>...</td>\n",
       "      <td>0.471179</td>\n",
       "      <td>3.0</td>\n",
       "      <td>11.0</td>\n",
       "      <td>11.0</td>\n",
       "      <td>11.0</td>\n",
       "      <td>0.363861</td>\n",
       "      <td>2.0</td>\n",
       "      <td>5.0</td>\n",
       "      <td>35.0</td>\n",
       "      <td>35.0</td>\n",
       "    </tr>\n",
       "    <tr>\n",
       "      <th>832</th>\n",
       "      <td>2019-07-05</td>\n",
       "      <td>11412</td>\n",
       "      <td>2019</td>\n",
       "      <td>8</td>\n",
       "      <td>0</td>\n",
       "      <td>1</td>\n",
       "      <td>0</td>\n",
       "      <td>0</td>\n",
       "      <td>0</td>\n",
       "      <td>6</td>\n",
       "      <td>...</td>\n",
       "      <td>0.439702</td>\n",
       "      <td>0.0</td>\n",
       "      <td>0.0</td>\n",
       "      <td>0.0</td>\n",
       "      <td>0.0</td>\n",
       "      <td>0.540841</td>\n",
       "      <td>3.0</td>\n",
       "      <td>6.0</td>\n",
       "      <td>6.0</td>\n",
       "      <td>13.0</td>\n",
       "    </tr>\n",
       "    <tr>\n",
       "      <th>833</th>\n",
       "      <td>2019-08-05</td>\n",
       "      <td>11413</td>\n",
       "      <td>2019</td>\n",
       "      <td>32</td>\n",
       "      <td>14</td>\n",
       "      <td>1</td>\n",
       "      <td>0</td>\n",
       "      <td>0</td>\n",
       "      <td>0</td>\n",
       "      <td>2</td>\n",
       "      <td>...</td>\n",
       "      <td>0.256073</td>\n",
       "      <td>1.0</td>\n",
       "      <td>1.0</td>\n",
       "      <td>1.0</td>\n",
       "      <td>1.0</td>\n",
       "      <td>0.431087</td>\n",
       "      <td>2.0</td>\n",
       "      <td>30.0</td>\n",
       "      <td>31.0</td>\n",
       "      <td>31.0</td>\n",
       "    </tr>\n",
       "    <tr>\n",
       "      <th>834</th>\n",
       "      <td>2019-10-05</td>\n",
       "      <td>11414</td>\n",
       "      <td>2019</td>\n",
       "      <td>32</td>\n",
       "      <td>2</td>\n",
       "      <td>1</td>\n",
       "      <td>0</td>\n",
       "      <td>0</td>\n",
       "      <td>0</td>\n",
       "      <td>6</td>\n",
       "      <td>...</td>\n",
       "      <td>0.0</td>\n",
       "      <td>0.0</td>\n",
       "      <td>0.0</td>\n",
       "      <td>0.0</td>\n",
       "      <td>0.0</td>\n",
       "      <td>0.456158</td>\n",
       "      <td>4.0</td>\n",
       "      <td>4.0</td>\n",
       "      <td>4.0</td>\n",
       "      <td>4.0</td>\n",
       "    </tr>\n",
       "    <tr>\n",
       "      <th>835</th>\n",
       "      <td>2019-12-05</td>\n",
       "      <td>11415</td>\n",
       "      <td>2019</td>\n",
       "      <td>15</td>\n",
       "      <td>8</td>\n",
       "      <td>1</td>\n",
       "      <td>0</td>\n",
       "      <td>1</td>\n",
       "      <td>1</td>\n",
       "      <td>0</td>\n",
       "      <td>...</td>\n",
       "      <td>0.636333</td>\n",
       "      <td>3.0</td>\n",
       "      <td>3.0</td>\n",
       "      <td>3.0</td>\n",
       "      <td>3.0</td>\n",
       "      <td>0.611387</td>\n",
       "      <td>8.0</td>\n",
       "      <td>12.0</td>\n",
       "      <td>61.0</td>\n",
       "      <td>61.0</td>\n",
       "    </tr>\n",
       "  </tbody>\n",
       "</table>\n",
       "<p>836 rows × 63 columns</p>\n",
       "</div>"
      ],
      "text/plain": [
       "          date     id Season city team result dl_applied winner win_by_runs  \\\n",
       "0   2017-05-04      1   2017   15   14      1          0      1          35   \n",
       "1   2017-06-04      2   2017   27    8      1          0      0           0   \n",
       "2   2017-07-04      3   2017   29    4      1          0      0           0   \n",
       "3   2017-08-04      4   2017   16   11      1          0      0           0   \n",
       "4   2017-08-04      5   2017    2   13      1          0      1          15   \n",
       "..         ...    ...    ...  ...  ...    ...        ...    ...         ...   \n",
       "831 2019-05-05  11347   2019   24    7      1          0      0           0   \n",
       "832 2019-07-05  11412   2019    8    0      1          0      0           0   \n",
       "833 2019-08-05  11413   2019   32   14      1          0      0           0   \n",
       "834 2019-10-05  11414   2019   32    2      1          0      0           0   \n",
       "835 2019-12-05  11415   2019   15    8      1          0      1           1   \n",
       "\n",
       "    win_by_wickets  ... duals_sets_ewm_mean duals_sets_sum_1 duals_sets_sum_2  \\\n",
       "0                0  ...                 1.0              1.0              1.0   \n",
       "1                7  ...                 0.0              0.0              0.0   \n",
       "2               10  ...                 0.0              0.0              0.0   \n",
       "3                6  ...                 0.0              0.0              0.0   \n",
       "4                0  ...                 1.0              1.0              1.0   \n",
       "..             ...  ...                 ...              ...              ...   \n",
       "831              9  ...            0.471179              3.0             11.0   \n",
       "832              6  ...            0.439702              0.0              0.0   \n",
       "833              2  ...            0.256073              1.0              1.0   \n",
       "834              6  ...                 0.0              0.0              0.0   \n",
       "835              0  ...            0.636333              3.0              3.0   \n",
       "\n",
       "    duals_sets_sum_3 duals_sets_sum_4 team_ewm_mean team_sum_1 team_sum_2  \\\n",
       "0                1.0              1.0           1.0        1.0        1.0   \n",
       "1                0.0              0.0           0.0        0.0        0.0   \n",
       "2                0.0              0.0           0.0        0.0        0.0   \n",
       "3                0.0              0.0           0.0        0.0        0.0   \n",
       "4                1.0              1.0           1.0        1.0        1.0   \n",
       "..               ...              ...           ...        ...        ...   \n",
       "831             11.0             11.0      0.363861        2.0        5.0   \n",
       "832              0.0              0.0      0.540841        3.0        6.0   \n",
       "833              1.0              1.0      0.431087        2.0       30.0   \n",
       "834              0.0              0.0      0.456158        4.0        4.0   \n",
       "835              3.0              3.0      0.611387        8.0       12.0   \n",
       "\n",
       "    team_sum_3 team_sum_4  \n",
       "0          1.0        1.0  \n",
       "1          0.0        0.0  \n",
       "2          0.0        0.0  \n",
       "3          0.0        0.0  \n",
       "4          1.0        1.0  \n",
       "..         ...        ...  \n",
       "831       35.0       35.0  \n",
       "832        6.0       13.0  \n",
       "833       31.0       31.0  \n",
       "834        4.0        4.0  \n",
       "835       61.0       61.0  \n",
       "\n",
       "[836 rows x 63 columns]"
      ]
     },
     "execution_count": 49,
     "metadata": {},
     "output_type": "execute_result"
    }
   ],
   "source": [
    "df"
   ]
  },
  {
   "cell_type": "code",
   "execution_count": 50,
   "id": "d5632967",
   "metadata": {
    "execution": {
     "iopub.execute_input": "2021-11-07T08:24:56.538370Z",
     "iopub.status.busy": "2021-11-07T08:24:56.535661Z",
     "iopub.status.idle": "2021-11-07T08:24:56.605237Z",
     "shell.execute_reply": "2021-11-07T08:24:56.604638Z",
     "shell.execute_reply.started": "2021-11-07T08:24:09.422012Z"
    },
    "papermill": {
     "duration": 0.156945,
     "end_time": "2021-11-07T08:24:56.605391",
     "exception": false,
     "start_time": "2021-11-07T08:24:56.448446",
     "status": "completed"
    },
    "tags": []
   },
   "outputs": [],
   "source": [
    "df.to_csv('matches_fat_eng.csv')"
   ]
  },
  {
   "cell_type": "code",
   "execution_count": null,
   "id": "f61c0254",
   "metadata": {
    "papermill": {
     "duration": 0.072624,
     "end_time": "2021-11-07T08:24:56.752143",
     "exception": false,
     "start_time": "2021-11-07T08:24:56.679519",
     "status": "completed"
    },
    "tags": []
   },
   "outputs": [],
   "source": []
  }
 ],
 "metadata": {
  "kernelspec": {
   "display_name": "Python 3",
   "language": "python",
   "name": "python3"
  },
  "language_info": {
   "codemirror_mode": {
    "name": "ipython",
    "version": 3
   },
   "file_extension": ".py",
   "mimetype": "text/x-python",
   "name": "python",
   "nbconvert_exporter": "python",
   "pygments_lexer": "ipython3",
   "version": "3.7.10"
  },
  "papermill": {
   "default_parameters": {},
   "duration": 33.901424,
   "end_time": "2021-11-07T08:24:58.085272",
   "environment_variables": {},
   "exception": null,
   "input_path": "__notebook__.ipynb",
   "output_path": "__notebook__.ipynb",
   "parameters": {},
   "start_time": "2021-11-07T08:24:24.183848",
   "version": "2.3.3"
  }
 },
 "nbformat": 4,
 "nbformat_minor": 5
}
