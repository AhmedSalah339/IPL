{
 "cells": [
  {
   "cell_type": "code",
   "execution_count": 1,
   "id": "2d6bf15d",
   "metadata": {
    "_cell_guid": "b1076dfc-b9ad-4769-8c92-a6c4dae69d19",
    "_uuid": "8f2839f25d086af736a60e9eeb907d3b93b6e0e5",
    "execution": {
     "iopub.execute_input": "2021-07-26T08:31:03.052486Z",
     "iopub.status.busy": "2021-07-26T08:31:03.051252Z",
     "iopub.status.idle": "2021-07-26T08:31:04.143909Z",
     "shell.execute_reply": "2021-07-26T08:31:04.144490Z",
     "shell.execute_reply.started": "2021-07-26T08:25:35.226362Z"
    },
    "papermill": {
     "duration": 1.151925,
     "end_time": "2021-07-26T08:31:04.144849",
     "exception": false,
     "start_time": "2021-07-26T08:31:02.992924",
     "status": "completed"
    },
    "tags": []
   },
   "outputs": [
    {
     "name": "stdout",
     "output_type": "stream",
     "text": [
      "/kaggle/input/cleaning/__results__.html\n",
      "/kaggle/input/cleaning/__notebook__.ipynb\n",
      "/kaggle/input/cleaning/__output__.json\n",
      "/kaggle/input/cleaning/custom.css\n",
      "/kaggle/input/cleaning/cleaned_out/matches.pkl\n",
      "/kaggle/input/cleaning/cleaned_out/deliveries.pkl\n",
      "/kaggle/input/cleaning/cleaned_out/teams.pkl\n",
      "/kaggle/input/cleaning/cleaned_out/teamwise_home_and_away.pkl\n",
      "/kaggle/input/cleaning/cleaned_out/players.pkl\n",
      "/kaggle/input/cleaning/cleaned_out/most_runs_average_strikerate.pkl\n",
      "/kaggle/input/world-cities/worldcities.csv\n",
      "/kaggle/input/ipl-data-set/matches.csv\n",
      "/kaggle/input/ipl-data-set/teamwise_home_and_away.csv\n",
      "/kaggle/input/ipl-data-set/deliveries.csv\n",
      "/kaggle/input/ipl-data-set/most_runs_average_strikerate.csv\n",
      "/kaggle/input/ipl-data-set/teams.csv\n",
      "/kaggle/input/ipl-data-set/Players.xlsx\n",
      "/kaggle/input/top-500-indian-cities/cities_r2.csv\n"
     ]
    }
   ],
   "source": [
    "# This Python 3 environment comes with many helpful analytics libraries installed\n",
    "# It is defined by the kaggle/python Docker image: https://github.com/kaggle/docker-python\n",
    "# For example, here's several helpful packages to load\n",
    "\n",
    "import numpy as np # linear algebra\n",
    "import pandas as pd # data processing, CSV file I/O (e.g. pd.read_csv)\n",
    "import matplotlib.pyplot as plt\n",
    "import seaborn as sns\n",
    "# Input data files are available in the read-only \"../input/\" directory\n",
    "# For example, running this (by clicking run or pressing Shift+Enter) will list all files under the input directory\n",
    "\n",
    "import os\n",
    "for dirname, _, filenames in os.walk('/kaggle/input'):\n",
    "    for filename in filenames:\n",
    "        print(os.path.join(dirname, filename))\n",
    "\n",
    "# You can write up to 20GB to the current directory (/kaggle/working/) that gets preserved as output when you create a version using \"Save & Run All\" \n",
    "# You can also write temporary files to /kaggle/temp/, but they won't be saved outside of the current session"
   ]
  },
  {
   "cell_type": "markdown",
   "id": "42d74e23",
   "metadata": {
    "papermill": {
     "duration": 0.053776,
     "end_time": "2021-07-26T08:31:04.252399",
     "exception": false,
     "start_time": "2021-07-26T08:31:04.198623",
     "status": "completed"
    },
    "tags": []
   },
   "source": [
    "# Read cleaned data"
   ]
  },
  {
   "cell_type": "code",
   "execution_count": 2,
   "id": "57e5cdb2",
   "metadata": {
    "execution": {
     "iopub.execute_input": "2021-07-26T08:31:04.364669Z",
     "iopub.status.busy": "2021-07-26T08:31:04.363953Z",
     "iopub.status.idle": "2021-07-26T08:31:04.721331Z",
     "shell.execute_reply": "2021-07-26T08:31:04.720616Z",
     "shell.execute_reply.started": "2021-07-26T08:25:36.245224Z"
    },
    "papermill": {
     "duration": 0.416376,
     "end_time": "2021-07-26T08:31:04.721478",
     "exception": false,
     "start_time": "2021-07-26T08:31:04.305102",
     "status": "completed"
    },
    "tags": []
   },
   "outputs": [],
   "source": [
    "base = '/kaggle/input/cleaning/cleaned_out/'\n",
    "names = ['matches','teamwise_home_and_away','deliveries','most_runs_average_strikerate','teams','players']\n",
    "for i,name in enumerate(names):\n",
    "    my_code = name+'='+'pd.read_pickle(\"'+base+name+'.pkl'+'\")'\n",
    "    exec(my_code)\n",
    "    "
   ]
  },
  {
   "cell_type": "markdown",
   "id": "b0009be1",
   "metadata": {
    "papermill": {
     "duration": 0.053691,
     "end_time": "2021-07-26T08:31:04.829148",
     "exception": false,
     "start_time": "2021-07-26T08:31:04.775457",
     "status": "completed"
    },
    "tags": []
   },
   "source": [
    "# Questions we will try to answer \n",
    "> 1. How was the performance of each team developing in each season ?\n",
    "> 2. Does certain teams have weaknesses against some specific other teams ?\n",
    "> 3. Does playing in certain cities affects some teams performance ?\n",
    "> 4. Who are the players recognized as the player of the match frequently ?\n",
    "\n",
    "\n"
   ]
  },
  {
   "cell_type": "markdown",
   "id": "39d449fc",
   "metadata": {
    "papermill": {
     "duration": 0.053274,
     "end_time": "2021-07-26T08:31:04.936191",
     "exception": false,
     "start_time": "2021-07-26T08:31:04.882917",
     "status": "completed"
    },
    "tags": []
   },
   "source": [
    "# Let's see what are the seasons we have"
   ]
  },
  {
   "cell_type": "code",
   "execution_count": 3,
   "id": "7efaf785",
   "metadata": {
    "execution": {
     "iopub.execute_input": "2021-07-26T08:31:05.060175Z",
     "iopub.status.busy": "2021-07-26T08:31:05.056336Z",
     "iopub.status.idle": "2021-07-26T08:31:05.065203Z",
     "shell.execute_reply": "2021-07-26T08:31:05.064649Z",
     "shell.execute_reply.started": "2021-07-26T08:25:36.774190Z"
    },
    "papermill": {
     "duration": 0.074516,
     "end_time": "2021-07-26T08:31:05.065348",
     "exception": false,
     "start_time": "2021-07-26T08:31:04.990832",
     "status": "completed"
    },
    "tags": []
   },
   "outputs": [
    {
     "data": {
      "text/plain": [
       "['IPL-2008',\n",
       " 'IPL-2009',\n",
       " 'IPL-2010',\n",
       " 'IPL-2011',\n",
       " 'IPL-2012',\n",
       " 'IPL-2013',\n",
       " 'IPL-2014',\n",
       " 'IPL-2015',\n",
       " 'IPL-2016',\n",
       " 'IPL-2017',\n",
       " 'IPL-2018',\n",
       " 'IPL-2019']"
      ]
     },
     "execution_count": 3,
     "metadata": {},
     "output_type": "execute_result"
    }
   ],
   "source": [
    "sorted(matches.Season.unique())"
   ]
  },
  {
   "cell_type": "markdown",
   "id": "999beed8",
   "metadata": {
    "papermill": {
     "duration": 0.052355,
     "end_time": "2021-07-26T08:31:05.170460",
     "exception": false,
     "start_time": "2021-07-26T08:31:05.118105",
     "status": "completed"
    },
    "tags": []
   },
   "source": [
    "# We have Seasons from 2008 to 2019"
   ]
  },
  {
   "cell_type": "code",
   "execution_count": 4,
   "id": "331d38fc",
   "metadata": {
    "execution": {
     "iopub.execute_input": "2021-07-26T08:31:05.282318Z",
     "iopub.status.busy": "2021-07-26T08:31:05.281602Z",
     "iopub.status.idle": "2021-07-26T08:31:05.313972Z",
     "shell.execute_reply": "2021-07-26T08:31:05.314616Z",
     "shell.execute_reply.started": "2021-07-26T08:25:36.795284Z"
    },
    "papermill": {
     "duration": 0.091404,
     "end_time": "2021-07-26T08:31:05.314793",
     "exception": false,
     "start_time": "2021-07-26T08:31:05.223389",
     "status": "completed"
    },
    "tags": []
   },
   "outputs": [
    {
     "data": {
      "text/html": [
       "<div>\n",
       "<style scoped>\n",
       "    .dataframe tbody tr th:only-of-type {\n",
       "        vertical-align: middle;\n",
       "    }\n",
       "\n",
       "    .dataframe tbody tr th {\n",
       "        vertical-align: top;\n",
       "    }\n",
       "\n",
       "    .dataframe thead th {\n",
       "        text-align: right;\n",
       "    }\n",
       "</style>\n",
       "<table border=\"1\" class=\"dataframe\">\n",
       "  <thead>\n",
       "    <tr style=\"text-align: right;\">\n",
       "      <th></th>\n",
       "      <th>id</th>\n",
       "      <th>Season</th>\n",
       "      <th>city</th>\n",
       "      <th>date</th>\n",
       "      <th>team1</th>\n",
       "      <th>team2</th>\n",
       "      <th>toss_winner</th>\n",
       "      <th>toss_decision</th>\n",
       "      <th>result</th>\n",
       "      <th>dl_applied</th>\n",
       "      <th>winner</th>\n",
       "      <th>win_by_runs</th>\n",
       "      <th>win_by_wickets</th>\n",
       "      <th>player_of_match</th>\n",
       "      <th>venue</th>\n",
       "      <th>umpire1</th>\n",
       "      <th>umpire2</th>\n",
       "      <th>umpire3</th>\n",
       "    </tr>\n",
       "  </thead>\n",
       "  <tbody>\n",
       "    <tr>\n",
       "      <th>0</th>\n",
       "      <td>1</td>\n",
       "      <td>2017</td>\n",
       "      <td>Hyderabad</td>\n",
       "      <td>2017-05-04</td>\n",
       "      <td>Sunrisers Hyderabad</td>\n",
       "      <td>Royal Challengers Bangalore</td>\n",
       "      <td>Royal Challengers Bangalore</td>\n",
       "      <td>field</td>\n",
       "      <td>normal</td>\n",
       "      <td>0</td>\n",
       "      <td>Sunrisers Hyderabad</td>\n",
       "      <td>35</td>\n",
       "      <td>0</td>\n",
       "      <td>Yuvraj Singh</td>\n",
       "      <td>Rajiv Gandhi International Stadium, Uppal</td>\n",
       "      <td>AY Dandekar</td>\n",
       "      <td>NJ Llong</td>\n",
       "      <td>none</td>\n",
       "    </tr>\n",
       "    <tr>\n",
       "      <th>1</th>\n",
       "      <td>2</td>\n",
       "      <td>2017</td>\n",
       "      <td>Pune</td>\n",
       "      <td>2017-06-04</td>\n",
       "      <td>Mumbai Indians</td>\n",
       "      <td>Rising Pune Supergiant</td>\n",
       "      <td>Rising Pune Supergiant</td>\n",
       "      <td>field</td>\n",
       "      <td>normal</td>\n",
       "      <td>0</td>\n",
       "      <td>Rising Pune Supergiant</td>\n",
       "      <td>0</td>\n",
       "      <td>7</td>\n",
       "      <td>SPD Smith</td>\n",
       "      <td>Maharashtra Cricket Association Stadium</td>\n",
       "      <td>A Nand Kishore</td>\n",
       "      <td>S Ravi</td>\n",
       "      <td>none</td>\n",
       "    </tr>\n",
       "    <tr>\n",
       "      <th>2</th>\n",
       "      <td>3</td>\n",
       "      <td>2017</td>\n",
       "      <td>Rajkot</td>\n",
       "      <td>2017-07-04</td>\n",
       "      <td>Gujarat Lions</td>\n",
       "      <td>Kolkata Knight Riders</td>\n",
       "      <td>Kolkata Knight Riders</td>\n",
       "      <td>field</td>\n",
       "      <td>normal</td>\n",
       "      <td>0</td>\n",
       "      <td>Kolkata Knight Riders</td>\n",
       "      <td>0</td>\n",
       "      <td>10</td>\n",
       "      <td>CA Lynn</td>\n",
       "      <td>Saurashtra Cricket Association Stadium</td>\n",
       "      <td>Nitin Menon</td>\n",
       "      <td>CK Nandan</td>\n",
       "      <td>none</td>\n",
       "    </tr>\n",
       "    <tr>\n",
       "      <th>3</th>\n",
       "      <td>4</td>\n",
       "      <td>2017</td>\n",
       "      <td>Indore</td>\n",
       "      <td>2017-08-04</td>\n",
       "      <td>Rising Pune Supergiant</td>\n",
       "      <td>Kings XI Punjab</td>\n",
       "      <td>Kings XI Punjab</td>\n",
       "      <td>field</td>\n",
       "      <td>normal</td>\n",
       "      <td>0</td>\n",
       "      <td>Kings XI Punjab</td>\n",
       "      <td>0</td>\n",
       "      <td>6</td>\n",
       "      <td>GJ Maxwell</td>\n",
       "      <td>Holkar Cricket Stadium</td>\n",
       "      <td>AK Chaudhary</td>\n",
       "      <td>C Shamshuddin</td>\n",
       "      <td>none</td>\n",
       "    </tr>\n",
       "    <tr>\n",
       "      <th>4</th>\n",
       "      <td>5</td>\n",
       "      <td>2017</td>\n",
       "      <td>Bangalore</td>\n",
       "      <td>2017-08-04</td>\n",
       "      <td>Royal Challengers Bangalore</td>\n",
       "      <td>Delhi Daredevils</td>\n",
       "      <td>Royal Challengers Bangalore</td>\n",
       "      <td>bat</td>\n",
       "      <td>normal</td>\n",
       "      <td>0</td>\n",
       "      <td>Royal Challengers Bangalore</td>\n",
       "      <td>15</td>\n",
       "      <td>0</td>\n",
       "      <td>KM Jadhav</td>\n",
       "      <td>M Chinnaswamy Stadium</td>\n",
       "      <td>none</td>\n",
       "      <td>none</td>\n",
       "      <td>none</td>\n",
       "    </tr>\n",
       "  </tbody>\n",
       "</table>\n",
       "</div>"
      ],
      "text/plain": [
       "   id  Season       city       date                        team1  \\\n",
       "0   1    2017  Hyderabad 2017-05-04          Sunrisers Hyderabad   \n",
       "1   2    2017       Pune 2017-06-04               Mumbai Indians   \n",
       "2   3    2017     Rajkot 2017-07-04                Gujarat Lions   \n",
       "3   4    2017     Indore 2017-08-04       Rising Pune Supergiant   \n",
       "4   5    2017  Bangalore 2017-08-04  Royal Challengers Bangalore   \n",
       "\n",
       "                         team2                  toss_winner toss_decision  \\\n",
       "0  Royal Challengers Bangalore  Royal Challengers Bangalore         field   \n",
       "1       Rising Pune Supergiant       Rising Pune Supergiant         field   \n",
       "2        Kolkata Knight Riders        Kolkata Knight Riders         field   \n",
       "3              Kings XI Punjab              Kings XI Punjab         field   \n",
       "4             Delhi Daredevils  Royal Challengers Bangalore           bat   \n",
       "\n",
       "   result  dl_applied                       winner  win_by_runs  \\\n",
       "0  normal           0          Sunrisers Hyderabad           35   \n",
       "1  normal           0       Rising Pune Supergiant            0   \n",
       "2  normal           0        Kolkata Knight Riders            0   \n",
       "3  normal           0              Kings XI Punjab            0   \n",
       "4  normal           0  Royal Challengers Bangalore           15   \n",
       "\n",
       "   win_by_wickets player_of_match                                      venue  \\\n",
       "0               0    Yuvraj Singh  Rajiv Gandhi International Stadium, Uppal   \n",
       "1               7       SPD Smith    Maharashtra Cricket Association Stadium   \n",
       "2              10         CA Lynn     Saurashtra Cricket Association Stadium   \n",
       "3               6      GJ Maxwell                     Holkar Cricket Stadium   \n",
       "4               0       KM Jadhav                      M Chinnaswamy Stadium   \n",
       "\n",
       "          umpire1        umpire2 umpire3  \n",
       "0     AY Dandekar       NJ Llong    none  \n",
       "1  A Nand Kishore         S Ravi    none  \n",
       "2     Nitin Menon      CK Nandan    none  \n",
       "3    AK Chaudhary  C Shamshuddin    none  \n",
       "4            none           none    none  "
      ]
     },
     "execution_count": 4,
     "metadata": {},
     "output_type": "execute_result"
    }
   ],
   "source": [
    "matches['Season'] = matches['Season'].str[-4:].astype(int)\n",
    "matches.head()"
   ]
  },
  {
   "cell_type": "code",
   "execution_count": 5,
   "id": "f150c0d7",
   "metadata": {
    "execution": {
     "iopub.execute_input": "2021-07-26T08:31:05.425067Z",
     "iopub.status.busy": "2021-07-26T08:31:05.424444Z",
     "iopub.status.idle": "2021-07-26T08:31:05.675019Z",
     "shell.execute_reply": "2021-07-26T08:31:05.675529Z",
     "shell.execute_reply.started": "2021-07-26T08:25:36.841195Z"
    },
    "papermill": {
     "duration": 0.307602,
     "end_time": "2021-07-26T08:31:05.675739",
     "exception": false,
     "start_time": "2021-07-26T08:31:05.368137",
     "status": "completed"
    },
    "tags": []
   },
   "outputs": [
    {
     "data": {
      "image/png": "[encoded data removed]",
      "text/plain": [
       "<Figure size 432x288 with 1 Axes>"
      ]
     },
     "metadata": {
      "needs_background": "light"
     },
     "output_type": "display_data"
    }
   ],
   "source": [
    "c = sns.color_palette()[0]\n",
    "sns.countplot(x=\"Season\", data=matches,color = c);"
   ]
  },
  {
   "cell_type": "markdown",
   "id": "7a8f2993",
   "metadata": {
    "papermill": {
     "duration": 0.057167,
     "end_time": "2021-07-26T08:31:05.788909",
     "exception": false,
     "start_time": "2021-07-26T08:31:05.731742",
     "status": "completed"
    },
    "tags": []
   },
   "source": [
    "> 2011 - 2013 seasons are the seasons with bigger number of matches between all the seasons"
   ]
  },
  {
   "cell_type": "code",
   "execution_count": 6,
   "id": "4bec1082",
   "metadata": {
    "execution": {
     "iopub.execute_input": "2021-07-26T08:31:05.954417Z",
     "iopub.status.busy": "2021-07-26T08:31:05.953118Z",
     "iopub.status.idle": "2021-07-26T08:31:06.321143Z",
     "shell.execute_reply": "2021-07-26T08:31:06.320580Z",
     "shell.execute_reply.started": "2021-07-26T08:25:37.097643Z"
    },
    "papermill": {
     "duration": 0.477077,
     "end_time": "2021-07-26T08:31:06.321332",
     "exception": false,
     "start_time": "2021-07-26T08:31:05.844255",
     "status": "completed"
    },
    "tags": []
   },
   "outputs": [
    {
     "data": {
      "image/png": "[encoded data removed]",
      "text/plain": [
       "<Figure size 720x720 with 1 Axes>"
      ]
     },
     "metadata": {
      "needs_background": "light"
     },
     "output_type": "display_data"
    }
   ],
   "source": [
    "plt.figure(figsize = (10,10))\n",
    "sns.countplot(y=\"city\", data=matches,order = matches['city'].value_counts().index,color = c);"
   ]
  },
  {
   "cell_type": "markdown",
   "id": "2abaa8af",
   "metadata": {
    "papermill": {
     "duration": 0.056524,
     "end_time": "2021-07-26T08:31:06.434808",
     "exception": false,
     "start_time": "2021-07-26T08:31:06.378284",
     "status": "completed"
    },
    "tags": []
   },
   "source": [
    "> Most of the matches are played in big Indian cities "
   ]
  },
  {
   "cell_type": "code",
   "execution_count": 7,
   "id": "b162e279",
   "metadata": {
    "execution": {
     "iopub.execute_input": "2021-07-26T08:31:06.555286Z",
     "iopub.status.busy": "2021-07-26T08:31:06.554521Z",
     "iopub.status.idle": "2021-07-26T08:31:06.720018Z",
     "shell.execute_reply": "2021-07-26T08:31:06.719363Z",
     "shell.execute_reply.started": "2021-07-26T08:25:37.513239Z"
    },
    "papermill": {
     "duration": 0.227146,
     "end_time": "2021-07-26T08:31:06.720205",
     "exception": false,
     "start_time": "2021-07-26T08:31:06.493059",
     "status": "completed"
    },
    "tags": []
   },
   "outputs": [
    {
     "data": {
      "text/html": [
       "<div>\n",
       "<style scoped>\n",
       "    .dataframe tbody tr th:only-of-type {\n",
       "        vertical-align: middle;\n",
       "    }\n",
       "\n",
       "    .dataframe tbody tr th {\n",
       "        vertical-align: top;\n",
       "    }\n",
       "\n",
       "    .dataframe thead th {\n",
       "        text-align: right;\n",
       "    }\n",
       "</style>\n",
       "<table border=\"1\" class=\"dataframe\">\n",
       "  <thead>\n",
       "    <tr style=\"text-align: right;\">\n",
       "      <th></th>\n",
       "      <th>city</th>\n",
       "      <th>city_ascii</th>\n",
       "      <th>lat</th>\n",
       "      <th>lng</th>\n",
       "      <th>country</th>\n",
       "      <th>iso2</th>\n",
       "      <th>iso3</th>\n",
       "      <th>admin_name</th>\n",
       "      <th>capital</th>\n",
       "      <th>population</th>\n",
       "      <th>id</th>\n",
       "    </tr>\n",
       "  </thead>\n",
       "  <tbody>\n",
       "    <tr>\n",
       "      <th>0</th>\n",
       "      <td>Tokyo</td>\n",
       "      <td>Tokyo</td>\n",
       "      <td>35.6897</td>\n",
       "      <td>139.6922</td>\n",
       "      <td>Japan</td>\n",
       "      <td>JP</td>\n",
       "      <td>JPN</td>\n",
       "      <td>Tōkyō</td>\n",
       "      <td>primary</td>\n",
       "      <td>37977000.0</td>\n",
       "      <td>1392685764</td>\n",
       "    </tr>\n",
       "    <tr>\n",
       "      <th>1</th>\n",
       "      <td>Jakarta</td>\n",
       "      <td>Jakarta</td>\n",
       "      <td>-6.2146</td>\n",
       "      <td>106.8451</td>\n",
       "      <td>Indonesia</td>\n",
       "      <td>ID</td>\n",
       "      <td>IDN</td>\n",
       "      <td>Jakarta</td>\n",
       "      <td>primary</td>\n",
       "      <td>34540000.0</td>\n",
       "      <td>1360771077</td>\n",
       "    </tr>\n",
       "    <tr>\n",
       "      <th>2</th>\n",
       "      <td>Delhi</td>\n",
       "      <td>Delhi</td>\n",
       "      <td>28.6600</td>\n",
       "      <td>77.2300</td>\n",
       "      <td>India</td>\n",
       "      <td>IN</td>\n",
       "      <td>IND</td>\n",
       "      <td>Delhi</td>\n",
       "      <td>admin</td>\n",
       "      <td>29617000.0</td>\n",
       "      <td>1356872604</td>\n",
       "    </tr>\n",
       "    <tr>\n",
       "      <th>3</th>\n",
       "      <td>Mumbai</td>\n",
       "      <td>Mumbai</td>\n",
       "      <td>18.9667</td>\n",
       "      <td>72.8333</td>\n",
       "      <td>India</td>\n",
       "      <td>IN</td>\n",
       "      <td>IND</td>\n",
       "      <td>Mahārāshtra</td>\n",
       "      <td>admin</td>\n",
       "      <td>23355000.0</td>\n",
       "      <td>1356226629</td>\n",
       "    </tr>\n",
       "    <tr>\n",
       "      <th>4</th>\n",
       "      <td>Manila</td>\n",
       "      <td>Manila</td>\n",
       "      <td>14.5958</td>\n",
       "      <td>120.9772</td>\n",
       "      <td>Philippines</td>\n",
       "      <td>PH</td>\n",
       "      <td>PHL</td>\n",
       "      <td>Manila</td>\n",
       "      <td>primary</td>\n",
       "      <td>23088000.0</td>\n",
       "      <td>1608618140</td>\n",
       "    </tr>\n",
       "  </tbody>\n",
       "</table>\n",
       "</div>"
      ],
      "text/plain": [
       "      city city_ascii      lat       lng      country iso2 iso3   admin_name  \\\n",
       "0    Tokyo      Tokyo  35.6897  139.6922        Japan   JP  JPN        Tōkyō   \n",
       "1  Jakarta    Jakarta  -6.2146  106.8451    Indonesia   ID  IDN      Jakarta   \n",
       "2    Delhi      Delhi  28.6600   77.2300        India   IN  IND        Delhi   \n",
       "3   Mumbai     Mumbai  18.9667   72.8333        India   IN  IND  Mahārāshtra   \n",
       "4   Manila     Manila  14.5958  120.9772  Philippines   PH  PHL       Manila   \n",
       "\n",
       "   capital  population          id  \n",
       "0  primary  37977000.0  1392685764  \n",
       "1  primary  34540000.0  1360771077  \n",
       "2    admin  29617000.0  1356872604  \n",
       "3    admin  23355000.0  1356226629  \n",
       "4  primary  23088000.0  1608618140  "
      ]
     },
     "execution_count": 7,
     "metadata": {},
     "output_type": "execute_result"
    }
   ],
   "source": [
    "world_cities = pd.read_csv('/kaggle/input/world-cities/worldcities.csv')\n",
    "world_cities.head()"
   ]
  },
  {
   "cell_type": "code",
   "execution_count": 8,
   "id": "2a69483c",
   "metadata": {
    "execution": {
     "iopub.execute_input": "2021-07-26T08:31:06.847892Z",
     "iopub.status.busy": "2021-07-26T08:31:06.846757Z",
     "iopub.status.idle": "2021-07-26T08:31:06.891891Z",
     "shell.execute_reply": "2021-07-26T08:31:06.892414Z",
     "shell.execute_reply.started": "2021-07-26T08:25:37.670265Z"
    },
    "papermill": {
     "duration": 0.112851,
     "end_time": "2021-07-26T08:31:06.892628",
     "exception": false,
     "start_time": "2021-07-26T08:31:06.779777",
     "status": "completed"
    },
    "tags": []
   },
   "outputs": [
    {
     "data": {
      "text/html": [
       "<div>\n",
       "<style scoped>\n",
       "    .dataframe tbody tr th:only-of-type {\n",
       "        vertical-align: middle;\n",
       "    }\n",
       "\n",
       "    .dataframe tbody tr th {\n",
       "        vertical-align: top;\n",
       "    }\n",
       "\n",
       "    .dataframe thead th {\n",
       "        text-align: right;\n",
       "    }\n",
       "</style>\n",
       "<table border=\"1\" class=\"dataframe\">\n",
       "  <thead>\n",
       "    <tr style=\"text-align: right;\">\n",
       "      <th></th>\n",
       "      <th>id</th>\n",
       "      <th>Season</th>\n",
       "      <th>city</th>\n",
       "      <th>date</th>\n",
       "      <th>team1</th>\n",
       "      <th>team2</th>\n",
       "      <th>toss_winner</th>\n",
       "      <th>toss_decision</th>\n",
       "      <th>result</th>\n",
       "      <th>dl_applied</th>\n",
       "      <th>winner</th>\n",
       "      <th>win_by_runs</th>\n",
       "      <th>win_by_wickets</th>\n",
       "      <th>player_of_match</th>\n",
       "      <th>venue</th>\n",
       "      <th>umpire1</th>\n",
       "      <th>umpire2</th>\n",
       "      <th>umpire3</th>\n",
       "      <th>country</th>\n",
       "      <th>population</th>\n",
       "    </tr>\n",
       "  </thead>\n",
       "  <tbody>\n",
       "    <tr>\n",
       "      <th>0</th>\n",
       "      <td>1</td>\n",
       "      <td>2017</td>\n",
       "      <td>Hyderabad</td>\n",
       "      <td>2017-05-04</td>\n",
       "      <td>Sunrisers Hyderabad</td>\n",
       "      <td>Royal Challengers Bangalore</td>\n",
       "      <td>Royal Challengers Bangalore</td>\n",
       "      <td>field</td>\n",
       "      <td>normal</td>\n",
       "      <td>0</td>\n",
       "      <td>Sunrisers Hyderabad</td>\n",
       "      <td>35</td>\n",
       "      <td>0</td>\n",
       "      <td>Yuvraj Singh</td>\n",
       "      <td>Rajiv Gandhi International Stadium, Uppal</td>\n",
       "      <td>AY Dandekar</td>\n",
       "      <td>NJ Llong</td>\n",
       "      <td>none</td>\n",
       "      <td>NaN</td>\n",
       "      <td>NaN</td>\n",
       "    </tr>\n",
       "    <tr>\n",
       "      <th>1</th>\n",
       "      <td>2</td>\n",
       "      <td>2017</td>\n",
       "      <td>Pune</td>\n",
       "      <td>2017-06-04</td>\n",
       "      <td>Mumbai Indians</td>\n",
       "      <td>Rising Pune Supergiant</td>\n",
       "      <td>Rising Pune Supergiant</td>\n",
       "      <td>field</td>\n",
       "      <td>normal</td>\n",
       "      <td>0</td>\n",
       "      <td>Rising Pune Supergiant</td>\n",
       "      <td>0</td>\n",
       "      <td>7</td>\n",
       "      <td>SPD Smith</td>\n",
       "      <td>Maharashtra Cricket Association Stadium</td>\n",
       "      <td>A Nand Kishore</td>\n",
       "      <td>S Ravi</td>\n",
       "      <td>none</td>\n",
       "      <td>India</td>\n",
       "      <td>7764000.0</td>\n",
       "    </tr>\n",
       "    <tr>\n",
       "      <th>2</th>\n",
       "      <td>3</td>\n",
       "      <td>2017</td>\n",
       "      <td>Rajkot</td>\n",
       "      <td>2017-07-04</td>\n",
       "      <td>Gujarat Lions</td>\n",
       "      <td>Kolkata Knight Riders</td>\n",
       "      <td>Kolkata Knight Riders</td>\n",
       "      <td>field</td>\n",
       "      <td>normal</td>\n",
       "      <td>0</td>\n",
       "      <td>Kolkata Knight Riders</td>\n",
       "      <td>0</td>\n",
       "      <td>10</td>\n",
       "      <td>CA Lynn</td>\n",
       "      <td>Saurashtra Cricket Association Stadium</td>\n",
       "      <td>Nitin Menon</td>\n",
       "      <td>CK Nandan</td>\n",
       "      <td>none</td>\n",
       "      <td>NaN</td>\n",
       "      <td>NaN</td>\n",
       "    </tr>\n",
       "    <tr>\n",
       "      <th>3</th>\n",
       "      <td>4</td>\n",
       "      <td>2017</td>\n",
       "      <td>Indore</td>\n",
       "      <td>2017-08-04</td>\n",
       "      <td>Rising Pune Supergiant</td>\n",
       "      <td>Kings XI Punjab</td>\n",
       "      <td>Kings XI Punjab</td>\n",
       "      <td>field</td>\n",
       "      <td>normal</td>\n",
       "      <td>0</td>\n",
       "      <td>Kings XI Punjab</td>\n",
       "      <td>0</td>\n",
       "      <td>6</td>\n",
       "      <td>GJ Maxwell</td>\n",
       "      <td>Holkar Cricket Stadium</td>\n",
       "      <td>AK Chaudhary</td>\n",
       "      <td>C Shamshuddin</td>\n",
       "      <td>none</td>\n",
       "      <td>India</td>\n",
       "      <td>2201927.0</td>\n",
       "    </tr>\n",
       "    <tr>\n",
       "      <th>4</th>\n",
       "      <td>5</td>\n",
       "      <td>2017</td>\n",
       "      <td>Bangalore</td>\n",
       "      <td>2017-08-04</td>\n",
       "      <td>Royal Challengers Bangalore</td>\n",
       "      <td>Delhi Daredevils</td>\n",
       "      <td>Royal Challengers Bangalore</td>\n",
       "      <td>bat</td>\n",
       "      <td>normal</td>\n",
       "      <td>0</td>\n",
       "      <td>Royal Challengers Bangalore</td>\n",
       "      <td>15</td>\n",
       "      <td>0</td>\n",
       "      <td>KM Jadhav</td>\n",
       "      <td>M Chinnaswamy Stadium</td>\n",
       "      <td>none</td>\n",
       "      <td>none</td>\n",
       "      <td>none</td>\n",
       "      <td>India</td>\n",
       "      <td>13707000.0</td>\n",
       "    </tr>\n",
       "  </tbody>\n",
       "</table>\n",
       "</div>"
      ],
      "text/plain": [
       "   id  Season       city       date                        team1  \\\n",
       "0   1    2017  Hyderabad 2017-05-04          Sunrisers Hyderabad   \n",
       "1   2    2017       Pune 2017-06-04               Mumbai Indians   \n",
       "2   3    2017     Rajkot 2017-07-04                Gujarat Lions   \n",
       "3   4    2017     Indore 2017-08-04       Rising Pune Supergiant   \n",
       "4   5    2017  Bangalore 2017-08-04  Royal Challengers Bangalore   \n",
       "\n",
       "                         team2                  toss_winner toss_decision  \\\n",
       "0  Royal Challengers Bangalore  Royal Challengers Bangalore         field   \n",
       "1       Rising Pune Supergiant       Rising Pune Supergiant         field   \n",
       "2        Kolkata Knight Riders        Kolkata Knight Riders         field   \n",
       "3              Kings XI Punjab              Kings XI Punjab         field   \n",
       "4             Delhi Daredevils  Royal Challengers Bangalore           bat   \n",
       "\n",
       "   result  dl_applied                       winner  win_by_runs  \\\n",
       "0  normal           0          Sunrisers Hyderabad           35   \n",
       "1  normal           0       Rising Pune Supergiant            0   \n",
       "2  normal           0        Kolkata Knight Riders            0   \n",
       "3  normal           0              Kings XI Punjab            0   \n",
       "4  normal           0  Royal Challengers Bangalore           15   \n",
       "\n",
       "   win_by_wickets player_of_match                                      venue  \\\n",
       "0               0    Yuvraj Singh  Rajiv Gandhi International Stadium, Uppal   \n",
       "1               7       SPD Smith    Maharashtra Cricket Association Stadium   \n",
       "2              10         CA Lynn     Saurashtra Cricket Association Stadium   \n",
       "3               6      GJ Maxwell                     Holkar Cricket Stadium   \n",
       "4               0       KM Jadhav                      M Chinnaswamy Stadium   \n",
       "\n",
       "          umpire1        umpire2 umpire3 country  population  \n",
       "0     AY Dandekar       NJ Llong    none     NaN         NaN  \n",
       "1  A Nand Kishore         S Ravi    none   India   7764000.0  \n",
       "2     Nitin Menon      CK Nandan    none     NaN         NaN  \n",
       "3    AK Chaudhary  C Shamshuddin    none   India   2201927.0  \n",
       "4            none           none    none   India  13707000.0  "
      ]
     },
     "execution_count": 8,
     "metadata": {},
     "output_type": "execute_result"
    }
   ],
   "source": [
    "matches_world = matches.join(world_cities[['city','country','population']].set_index('city'), on='city', how='left')\n",
    "matches_world.head()"
   ]
  },
  {
   "cell_type": "markdown",
   "id": "d301a361",
   "metadata": {
    "papermill": {
     "duration": 0.060048,
     "end_time": "2021-07-26T08:31:07.010587",
     "exception": false,
     "start_time": "2021-07-26T08:31:06.950539",
     "status": "completed"
    },
    "tags": []
   },
   "source": [
    "*Let's see how many cities are left without population and country*"
   ]
  },
  {
   "cell_type": "code",
   "execution_count": 9,
   "id": "06598309",
   "metadata": {
    "execution": {
     "iopub.execute_input": "2021-07-26T08:31:07.138573Z",
     "iopub.status.busy": "2021-07-26T08:31:07.137531Z",
     "iopub.status.idle": "2021-07-26T08:31:07.147563Z",
     "shell.execute_reply": "2021-07-26T08:31:07.148052Z",
     "shell.execute_reply.started": "2021-07-26T08:25:37.718601Z"
    },
    "papermill": {
     "duration": 0.074064,
     "end_time": "2021-07-26T08:31:07.148261",
     "exception": false,
     "start_time": "2021-07-26T08:31:07.074197",
     "status": "completed"
    },
    "tags": []
   },
   "outputs": [
    {
     "data": {
      "text/plain": [
       "array(['Hyderabad', 'Rajkot', 'Kolkata', 'Chandigarh', 'Kanpur',\n",
       "       'Ahmedabad', 'Nagpur', 'Dharamsala', 'Visakhapatnam', 'Ranchi',\n",
       "       'Mohali', 'Bengaluru'], dtype=object)"
      ]
     },
     "execution_count": 9,
     "metadata": {},
     "output_type": "execute_result"
    }
   ],
   "source": [
    "matches_world[matches_world['country'].isnull()].city.unique()"
   ]
  },
  {
   "cell_type": "markdown",
   "id": "422986f8",
   "metadata": {
    "papermill": {
     "duration": 0.057981,
     "end_time": "2021-07-26T08:31:07.264597",
     "exception": false,
     "start_time": "2021-07-26T08:31:07.206616",
     "status": "completed"
    },
    "tags": []
   },
   "source": [
    "*12 city of the 33 cities and most of them are indian cities*"
   ]
  },
  {
   "cell_type": "code",
   "execution_count": 10,
   "id": "8af81e09",
   "metadata": {
    "execution": {
     "iopub.execute_input": "2021-07-26T08:31:07.386359Z",
     "iopub.status.busy": "2021-07-26T08:31:07.385384Z",
     "iopub.status.idle": "2021-07-26T08:31:07.404348Z",
     "shell.execute_reply": "2021-07-26T08:31:07.403730Z",
     "shell.execute_reply.started": "2021-07-26T08:25:37.729742Z"
    },
    "papermill": {
     "duration": 0.080915,
     "end_time": "2021-07-26T08:31:07.404511",
     "exception": false,
     "start_time": "2021-07-26T08:31:07.323596",
     "status": "completed"
    },
    "tags": []
   },
   "outputs": [],
   "source": [
    "indian_cities = pd.read_csv('/kaggle/input/top-500-indian-cities/cities_r2.csv')"
   ]
  },
  {
   "cell_type": "code",
   "execution_count": 11,
   "id": "a4a68339",
   "metadata": {
    "execution": {
     "iopub.execute_input": "2021-07-26T08:31:07.547393Z",
     "iopub.status.busy": "2021-07-26T08:31:07.546443Z",
     "iopub.status.idle": "2021-07-26T08:31:07.551694Z",
     "shell.execute_reply": "2021-07-26T08:31:07.551157Z",
     "shell.execute_reply.started": "2021-07-26T08:25:37.753840Z"
    },
    "papermill": {
     "duration": 0.089548,
     "end_time": "2021-07-26T08:31:07.551845",
     "exception": false,
     "start_time": "2021-07-26T08:31:07.462297",
     "status": "completed"
    },
    "tags": []
   },
   "outputs": [
    {
     "data": {
      "text/html": [
       "<div>\n",
       "<style scoped>\n",
       "    .dataframe tbody tr th:only-of-type {\n",
       "        vertical-align: middle;\n",
       "    }\n",
       "\n",
       "    .dataframe tbody tr th {\n",
       "        vertical-align: top;\n",
       "    }\n",
       "\n",
       "    .dataframe thead th {\n",
       "        text-align: right;\n",
       "    }\n",
       "</style>\n",
       "<table border=\"1\" class=\"dataframe\">\n",
       "  <thead>\n",
       "    <tr style=\"text-align: right;\">\n",
       "      <th></th>\n",
       "      <th>name_of_city</th>\n",
       "      <th>state_code</th>\n",
       "      <th>state_name</th>\n",
       "      <th>dist_code</th>\n",
       "      <th>population_total</th>\n",
       "      <th>population_male</th>\n",
       "      <th>population_female</th>\n",
       "      <th>0-6_population_total</th>\n",
       "      <th>0-6_population_male</th>\n",
       "      <th>0-6_population_female</th>\n",
       "      <th>...</th>\n",
       "      <th>literates_female</th>\n",
       "      <th>sex_ratio</th>\n",
       "      <th>child_sex_ratio</th>\n",
       "      <th>effective_literacy_rate_total</th>\n",
       "      <th>effective_literacy_rate_male</th>\n",
       "      <th>effective_literacy_rate_female</th>\n",
       "      <th>location</th>\n",
       "      <th>total_graduates</th>\n",
       "      <th>male_graduates</th>\n",
       "      <th>female_graduates</th>\n",
       "    </tr>\n",
       "  </thead>\n",
       "  <tbody>\n",
       "    <tr>\n",
       "      <th>0</th>\n",
       "      <td>Abohar</td>\n",
       "      <td>3</td>\n",
       "      <td>PUNJAB</td>\n",
       "      <td>9</td>\n",
       "      <td>145238</td>\n",
       "      <td>76840</td>\n",
       "      <td>68398</td>\n",
       "      <td>15870</td>\n",
       "      <td>8587</td>\n",
       "      <td>7283</td>\n",
       "      <td>...</td>\n",
       "      <td>44972</td>\n",
       "      <td>890</td>\n",
       "      <td>848</td>\n",
       "      <td>79.86</td>\n",
       "      <td>85.49</td>\n",
       "      <td>73.59</td>\n",
       "      <td>30.1452928,74.1993043</td>\n",
       "      <td>16287</td>\n",
       "      <td>8612</td>\n",
       "      <td>7675</td>\n",
       "    </tr>\n",
       "    <tr>\n",
       "      <th>1</th>\n",
       "      <td>Achalpur</td>\n",
       "      <td>27</td>\n",
       "      <td>MAHARASHTRA</td>\n",
       "      <td>7</td>\n",
       "      <td>112293</td>\n",
       "      <td>58256</td>\n",
       "      <td>54037</td>\n",
       "      <td>11810</td>\n",
       "      <td>6186</td>\n",
       "      <td>5624</td>\n",
       "      <td>...</td>\n",
       "      <td>43086</td>\n",
       "      <td>928</td>\n",
       "      <td>909</td>\n",
       "      <td>91.99</td>\n",
       "      <td>94.77</td>\n",
       "      <td>89.00</td>\n",
       "      <td>21.257584,77.5086754</td>\n",
       "      <td>8863</td>\n",
       "      <td>5269</td>\n",
       "      <td>3594</td>\n",
       "    </tr>\n",
       "    <tr>\n",
       "      <th>2</th>\n",
       "      <td>Adilabad</td>\n",
       "      <td>28</td>\n",
       "      <td>ANDHRA PRADESH</td>\n",
       "      <td>1</td>\n",
       "      <td>117388</td>\n",
       "      <td>59232</td>\n",
       "      <td>58156</td>\n",
       "      <td>13103</td>\n",
       "      <td>6731</td>\n",
       "      <td>6372</td>\n",
       "      <td>...</td>\n",
       "      <td>37660</td>\n",
       "      <td>982</td>\n",
       "      <td>947</td>\n",
       "      <td>80.51</td>\n",
       "      <td>88.18</td>\n",
       "      <td>72.73</td>\n",
       "      <td>19.0809075,79.560344</td>\n",
       "      <td>10565</td>\n",
       "      <td>6797</td>\n",
       "      <td>3768</td>\n",
       "    </tr>\n",
       "    <tr>\n",
       "      <th>3</th>\n",
       "      <td>Adityapur</td>\n",
       "      <td>20</td>\n",
       "      <td>JHARKHAND</td>\n",
       "      <td>24</td>\n",
       "      <td>173988</td>\n",
       "      <td>91495</td>\n",
       "      <td>82493</td>\n",
       "      <td>23042</td>\n",
       "      <td>12063</td>\n",
       "      <td>10979</td>\n",
       "      <td>...</td>\n",
       "      <td>54515</td>\n",
       "      <td>902</td>\n",
       "      <td>910</td>\n",
       "      <td>83.46</td>\n",
       "      <td>89.98</td>\n",
       "      <td>76.23</td>\n",
       "      <td>22.7834741,86.1576889</td>\n",
       "      <td>19225</td>\n",
       "      <td>12189</td>\n",
       "      <td>7036</td>\n",
       "    </tr>\n",
       "    <tr>\n",
       "      <th>4</th>\n",
       "      <td>Adoni</td>\n",
       "      <td>28</td>\n",
       "      <td>ANDHRA PRADESH</td>\n",
       "      <td>21</td>\n",
       "      <td>166537</td>\n",
       "      <td>82743</td>\n",
       "      <td>83794</td>\n",
       "      <td>18406</td>\n",
       "      <td>9355</td>\n",
       "      <td>9051</td>\n",
       "      <td>...</td>\n",
       "      <td>45089</td>\n",
       "      <td>1013</td>\n",
       "      <td>968</td>\n",
       "      <td>68.38</td>\n",
       "      <td>76.58</td>\n",
       "      <td>60.33</td>\n",
       "      <td>15.6322227,77.2728368</td>\n",
       "      <td>11902</td>\n",
       "      <td>7871</td>\n",
       "      <td>4031</td>\n",
       "    </tr>\n",
       "  </tbody>\n",
       "</table>\n",
       "<p>5 rows × 22 columns</p>\n",
       "</div>"
      ],
      "text/plain": [
       "  name_of_city  state_code      state_name  dist_code  population_total  \\\n",
       "0      Abohar            3          PUNJAB          9            145238   \n",
       "1    Achalpur           27     MAHARASHTRA          7            112293   \n",
       "2    Adilabad           28  ANDHRA PRADESH          1            117388   \n",
       "3   Adityapur           20       JHARKHAND         24            173988   \n",
       "4       Adoni           28  ANDHRA PRADESH         21            166537   \n",
       "\n",
       "   population_male  population_female  0-6_population_total  \\\n",
       "0            76840              68398                 15870   \n",
       "1            58256              54037                 11810   \n",
       "2            59232              58156                 13103   \n",
       "3            91495              82493                 23042   \n",
       "4            82743              83794                 18406   \n",
       "\n",
       "   0-6_population_male  0-6_population_female  ...  literates_female  \\\n",
       "0                 8587                   7283  ...             44972   \n",
       "1                 6186                   5624  ...             43086   \n",
       "2                 6731                   6372  ...             37660   \n",
       "3                12063                  10979  ...             54515   \n",
       "4                 9355                   9051  ...             45089   \n",
       "\n",
       "   sex_ratio  child_sex_ratio  effective_literacy_rate_total  \\\n",
       "0        890              848                          79.86   \n",
       "1        928              909                          91.99   \n",
       "2        982              947                          80.51   \n",
       "3        902              910                          83.46   \n",
       "4       1013              968                          68.38   \n",
       "\n",
       "   effective_literacy_rate_male  effective_literacy_rate_female  \\\n",
       "0                         85.49                           73.59   \n",
       "1                         94.77                           89.00   \n",
       "2                         88.18                           72.73   \n",
       "3                         89.98                           76.23   \n",
       "4                         76.58                           60.33   \n",
       "\n",
       "                location  total_graduates male_graduates  female_graduates  \n",
       "0  30.1452928,74.1993043            16287           8612              7675  \n",
       "1   21.257584,77.5086754             8863           5269              3594  \n",
       "2   19.0809075,79.560344            10565           6797              3768  \n",
       "3  22.7834741,86.1576889            19225          12189              7036  \n",
       "4  15.6322227,77.2728368            11902           7871              4031  \n",
       "\n",
       "[5 rows x 22 columns]"
      ]
     },
     "execution_count": 11,
     "metadata": {},
     "output_type": "execute_result"
    }
   ],
   "source": [
    "indian_cities.head()"
   ]
  },
  {
   "cell_type": "markdown",
   "id": "495a0ce0",
   "metadata": {
    "papermill": {
     "duration": 0.059802,
     "end_time": "2021-07-26T08:31:07.670581",
     "exception": false,
     "start_time": "2021-07-26T08:31:07.610779",
     "status": "completed"
    },
    "tags": []
   },
   "source": [
    "**Let's see what cities we got**"
   ]
  },
  {
   "cell_type": "code",
   "execution_count": 12,
   "id": "574c23ec",
   "metadata": {
    "execution": {
     "iopub.execute_input": "2021-07-26T08:31:07.800312Z",
     "iopub.status.busy": "2021-07-26T08:31:07.798624Z",
     "iopub.status.idle": "2021-07-26T08:31:07.807879Z",
     "shell.execute_reply": "2021-07-26T08:31:07.807213Z",
     "shell.execute_reply.started": "2021-07-26T08:25:37.785607Z"
    },
    "papermill": {
     "duration": 0.079491,
     "end_time": "2021-07-26T08:31:07.808065",
     "exception": false,
     "start_time": "2021-07-26T08:31:07.728574",
     "status": "completed"
    },
    "tags": []
   },
   "outputs": [
    {
     "name": "stdout",
     "output_type": "stream",
     "text": [
      "10\n"
     ]
    },
    {
     "data": {
      "text/plain": [
       "{'Ahmedabad',\n",
       " 'Chandigarh',\n",
       " 'Dharamsala',\n",
       " 'Hyderabad',\n",
       " 'Kanpur',\n",
       " 'Kolkata',\n",
       " 'Mohali',\n",
       " 'Nagpur',\n",
       " 'Rajkot',\n",
       " 'Ranchi'}"
      ]
     },
     "execution_count": 12,
     "metadata": {},
     "output_type": "execute_result"
    }
   ],
   "source": [
    "ind_cities = indian_cities.name_of_city.unique()\n",
    "print(len(set(matches_world[matches_world['country'].isnull()].city.unique()) - set(ind_cities)))\n",
    "set(matches_world[matches_world['country'].isnull()].city.unique()) - set(ind_cities)"
   ]
  },
  {
   "cell_type": "markdown",
   "id": "9aa72d48",
   "metadata": {
    "papermill": {
     "duration": 0.059598,
     "end_time": "2021-07-26T08:31:07.927779",
     "exception": false,
     "start_time": "2021-07-26T08:31:07.868181",
     "status": "completed"
    },
    "tags": []
   },
   "source": [
    "So we got 2 countries"
   ]
  },
  {
   "cell_type": "code",
   "execution_count": 13,
   "id": "9ff4fef3",
   "metadata": {
    "execution": {
     "iopub.execute_input": "2021-07-26T08:31:08.089514Z",
     "iopub.status.busy": "2021-07-26T08:31:08.070885Z",
     "iopub.status.idle": "2021-07-26T08:31:08.094765Z",
     "shell.execute_reply": "2021-07-26T08:31:08.094247Z",
     "shell.execute_reply.started": "2021-07-26T08:25:37.804889Z"
    },
    "papermill": {
     "duration": 0.104971,
     "end_time": "2021-07-26T08:31:08.094927",
     "exception": false,
     "start_time": "2021-07-26T08:31:07.989956",
     "status": "completed"
    },
    "tags": []
   },
   "outputs": [
    {
     "data": {
      "text/html": [
       "<div>\n",
       "<style scoped>\n",
       "    .dataframe tbody tr th:only-of-type {\n",
       "        vertical-align: middle;\n",
       "    }\n",
       "\n",
       "    .dataframe tbody tr th {\n",
       "        vertical-align: top;\n",
       "    }\n",
       "\n",
       "    .dataframe thead th {\n",
       "        text-align: right;\n",
       "    }\n",
       "</style>\n",
       "<table border=\"1\" class=\"dataframe\">\n",
       "  <thead>\n",
       "    <tr style=\"text-align: right;\">\n",
       "      <th></th>\n",
       "      <th>name_of_city</th>\n",
       "      <th>state_code</th>\n",
       "      <th>state_name</th>\n",
       "      <th>dist_code</th>\n",
       "      <th>population_total</th>\n",
       "      <th>population_male</th>\n",
       "      <th>population_female</th>\n",
       "      <th>0-6_population_total</th>\n",
       "      <th>0-6_population_male</th>\n",
       "      <th>0-6_population_female</th>\n",
       "      <th>...</th>\n",
       "      <th>literates_female</th>\n",
       "      <th>sex_ratio</th>\n",
       "      <th>child_sex_ratio</th>\n",
       "      <th>effective_literacy_rate_total</th>\n",
       "      <th>effective_literacy_rate_male</th>\n",
       "      <th>effective_literacy_rate_female</th>\n",
       "      <th>location</th>\n",
       "      <th>total_graduates</th>\n",
       "      <th>male_graduates</th>\n",
       "      <th>female_graduates</th>\n",
       "    </tr>\n",
       "  </thead>\n",
       "  <tbody>\n",
       "    <tr>\n",
       "      <th>0</th>\n",
       "      <td>Abohar</td>\n",
       "      <td>3</td>\n",
       "      <td>PUNJAB</td>\n",
       "      <td>9</td>\n",
       "      <td>145238</td>\n",
       "      <td>76840</td>\n",
       "      <td>68398</td>\n",
       "      <td>15870</td>\n",
       "      <td>8587</td>\n",
       "      <td>7283</td>\n",
       "      <td>...</td>\n",
       "      <td>44972</td>\n",
       "      <td>890</td>\n",
       "      <td>848</td>\n",
       "      <td>79.86</td>\n",
       "      <td>85.49</td>\n",
       "      <td>73.59</td>\n",
       "      <td>30.1452928,74.1993043</td>\n",
       "      <td>16287</td>\n",
       "      <td>8612</td>\n",
       "      <td>7675</td>\n",
       "    </tr>\n",
       "    <tr>\n",
       "      <th>1</th>\n",
       "      <td>Achalpur</td>\n",
       "      <td>27</td>\n",
       "      <td>MAHARASHTRA</td>\n",
       "      <td>7</td>\n",
       "      <td>112293</td>\n",
       "      <td>58256</td>\n",
       "      <td>54037</td>\n",
       "      <td>11810</td>\n",
       "      <td>6186</td>\n",
       "      <td>5624</td>\n",
       "      <td>...</td>\n",
       "      <td>43086</td>\n",
       "      <td>928</td>\n",
       "      <td>909</td>\n",
       "      <td>91.99</td>\n",
       "      <td>94.77</td>\n",
       "      <td>89.00</td>\n",
       "      <td>21.257584,77.5086754</td>\n",
       "      <td>8863</td>\n",
       "      <td>5269</td>\n",
       "      <td>3594</td>\n",
       "    </tr>\n",
       "    <tr>\n",
       "      <th>2</th>\n",
       "      <td>Adilabad</td>\n",
       "      <td>28</td>\n",
       "      <td>ANDHRA PRADESH</td>\n",
       "      <td>1</td>\n",
       "      <td>117388</td>\n",
       "      <td>59232</td>\n",
       "      <td>58156</td>\n",
       "      <td>13103</td>\n",
       "      <td>6731</td>\n",
       "      <td>6372</td>\n",
       "      <td>...</td>\n",
       "      <td>37660</td>\n",
       "      <td>982</td>\n",
       "      <td>947</td>\n",
       "      <td>80.51</td>\n",
       "      <td>88.18</td>\n",
       "      <td>72.73</td>\n",
       "      <td>19.0809075,79.560344</td>\n",
       "      <td>10565</td>\n",
       "      <td>6797</td>\n",
       "      <td>3768</td>\n",
       "    </tr>\n",
       "    <tr>\n",
       "      <th>3</th>\n",
       "      <td>Adityapur</td>\n",
       "      <td>20</td>\n",
       "      <td>JHARKHAND</td>\n",
       "      <td>24</td>\n",
       "      <td>173988</td>\n",
       "      <td>91495</td>\n",
       "      <td>82493</td>\n",
       "      <td>23042</td>\n",
       "      <td>12063</td>\n",
       "      <td>10979</td>\n",
       "      <td>...</td>\n",
       "      <td>54515</td>\n",
       "      <td>902</td>\n",
       "      <td>910</td>\n",
       "      <td>83.46</td>\n",
       "      <td>89.98</td>\n",
       "      <td>76.23</td>\n",
       "      <td>22.7834741,86.1576889</td>\n",
       "      <td>19225</td>\n",
       "      <td>12189</td>\n",
       "      <td>7036</td>\n",
       "    </tr>\n",
       "    <tr>\n",
       "      <th>4</th>\n",
       "      <td>Adoni</td>\n",
       "      <td>28</td>\n",
       "      <td>ANDHRA PRADESH</td>\n",
       "      <td>21</td>\n",
       "      <td>166537</td>\n",
       "      <td>82743</td>\n",
       "      <td>83794</td>\n",
       "      <td>18406</td>\n",
       "      <td>9355</td>\n",
       "      <td>9051</td>\n",
       "      <td>...</td>\n",
       "      <td>45089</td>\n",
       "      <td>1013</td>\n",
       "      <td>968</td>\n",
       "      <td>68.38</td>\n",
       "      <td>76.58</td>\n",
       "      <td>60.33</td>\n",
       "      <td>15.6322227,77.2728368</td>\n",
       "      <td>11902</td>\n",
       "      <td>7871</td>\n",
       "      <td>4031</td>\n",
       "    </tr>\n",
       "    <tr>\n",
       "      <th>5</th>\n",
       "      <td>Agartala</td>\n",
       "      <td>16</td>\n",
       "      <td>TRIPURA</td>\n",
       "      <td>1</td>\n",
       "      <td>399688</td>\n",
       "      <td>199616</td>\n",
       "      <td>200072</td>\n",
       "      <td>33635</td>\n",
       "      <td>17341</td>\n",
       "      <td>16294</td>\n",
       "      <td>...</td>\n",
       "      <td>169109</td>\n",
       "      <td>1002</td>\n",
       "      <td>940</td>\n",
       "      <td>93.88</td>\n",
       "      <td>95.75</td>\n",
       "      <td>92.02</td>\n",
       "      <td>23.831457,91.2867777</td>\n",
       "      <td>52711</td>\n",
       "      <td>30215</td>\n",
       "      <td>22496</td>\n",
       "    </tr>\n",
       "    <tr>\n",
       "      <th>6</th>\n",
       "      <td>Agra</td>\n",
       "      <td>9</td>\n",
       "      <td>UTTAR PRADESH</td>\n",
       "      <td>15</td>\n",
       "      <td>1574542</td>\n",
       "      <td>849771</td>\n",
       "      <td>724771</td>\n",
       "      <td>186516</td>\n",
       "      <td>105279</td>\n",
       "      <td>81237</td>\n",
       "      <td>...</td>\n",
       "      <td>376725</td>\n",
       "      <td>853</td>\n",
       "      <td>772</td>\n",
       "      <td>63.44</td>\n",
       "      <td>67.67</td>\n",
       "      <td>58.54</td>\n",
       "      <td>27.1766701,78.0080745</td>\n",
       "      <td>185813</td>\n",
       "      <td>106082</td>\n",
       "      <td>79731</td>\n",
       "    </tr>\n",
       "    <tr>\n",
       "      <th>7</th>\n",
       "      <td>Ahmadabad</td>\n",
       "      <td>24</td>\n",
       "      <td>GUJARAT</td>\n",
       "      <td>7</td>\n",
       "      <td>5570585</td>\n",
       "      <td>2935869</td>\n",
       "      <td>2634716</td>\n",
       "      <td>589076</td>\n",
       "      <td>317917</td>\n",
       "      <td>271159</td>\n",
       "      <td>...</td>\n",
       "      <td>2004480</td>\n",
       "      <td>897</td>\n",
       "      <td>853</td>\n",
       "      <td>89.62</td>\n",
       "      <td>93.96</td>\n",
       "      <td>84.81</td>\n",
       "      <td>23.022505,72.5713621</td>\n",
       "      <td>769858</td>\n",
       "      <td>435267</td>\n",
       "      <td>334591</td>\n",
       "    </tr>\n",
       "    <tr>\n",
       "      <th>8</th>\n",
       "      <td>Ahmadnagar</td>\n",
       "      <td>27</td>\n",
       "      <td>MAHARASHTRA</td>\n",
       "      <td>26</td>\n",
       "      <td>350905</td>\n",
       "      <td>179755</td>\n",
       "      <td>171150</td>\n",
       "      <td>36712</td>\n",
       "      <td>19748</td>\n",
       "      <td>16964</td>\n",
       "      <td>...</td>\n",
       "      <td>134649</td>\n",
       "      <td>952</td>\n",
       "      <td>859</td>\n",
       "      <td>91.49</td>\n",
       "      <td>95.51</td>\n",
       "      <td>87.33</td>\n",
       "      <td>19.0952075,74.7495916</td>\n",
       "      <td>51661</td>\n",
       "      <td>29832</td>\n",
       "      <td>21829</td>\n",
       "    </tr>\n",
       "    <tr>\n",
       "      <th>9</th>\n",
       "      <td>Aizawl</td>\n",
       "      <td>15</td>\n",
       "      <td>MIZORAM</td>\n",
       "      <td>3</td>\n",
       "      <td>291822</td>\n",
       "      <td>143803</td>\n",
       "      <td>148019</td>\n",
       "      <td>35147</td>\n",
       "      <td>17667</td>\n",
       "      <td>17480</td>\n",
       "      <td>...</td>\n",
       "      <td>128332</td>\n",
       "      <td>1029</td>\n",
       "      <td>989</td>\n",
       "      <td>98.80</td>\n",
       "      <td>99.30</td>\n",
       "      <td>98.31</td>\n",
       "      <td>23.727107,92.7176389</td>\n",
       "      <td>26832</td>\n",
       "      <td>14900</td>\n",
       "      <td>11932</td>\n",
       "    </tr>\n",
       "  </tbody>\n",
       "</table>\n",
       "<p>10 rows × 22 columns</p>\n",
       "</div>"
      ],
      "text/plain": [
       "  name_of_city  state_code      state_name  dist_code  population_total  \\\n",
       "0      Abohar            3          PUNJAB          9            145238   \n",
       "1    Achalpur           27     MAHARASHTRA          7            112293   \n",
       "2    Adilabad           28  ANDHRA PRADESH          1            117388   \n",
       "3   Adityapur           20       JHARKHAND         24            173988   \n",
       "4       Adoni           28  ANDHRA PRADESH         21            166537   \n",
       "5    Agartala           16         TRIPURA          1            399688   \n",
       "6        Agra            9   UTTAR PRADESH         15           1574542   \n",
       "7   Ahmadabad           24         GUJARAT          7           5570585   \n",
       "8  Ahmadnagar           27     MAHARASHTRA         26            350905   \n",
       "9      Aizawl           15         MIZORAM          3            291822   \n",
       "\n",
       "   population_male  population_female  0-6_population_total  \\\n",
       "0            76840              68398                 15870   \n",
       "1            58256              54037                 11810   \n",
       "2            59232              58156                 13103   \n",
       "3            91495              82493                 23042   \n",
       "4            82743              83794                 18406   \n",
       "5           199616             200072                 33635   \n",
       "6           849771             724771                186516   \n",
       "7          2935869            2634716                589076   \n",
       "8           179755             171150                 36712   \n",
       "9           143803             148019                 35147   \n",
       "\n",
       "   0-6_population_male  0-6_population_female  ...  literates_female  \\\n",
       "0                 8587                   7283  ...             44972   \n",
       "1                 6186                   5624  ...             43086   \n",
       "2                 6731                   6372  ...             37660   \n",
       "3                12063                  10979  ...             54515   \n",
       "4                 9355                   9051  ...             45089   \n",
       "5                17341                  16294  ...            169109   \n",
       "6               105279                  81237  ...            376725   \n",
       "7               317917                 271159  ...           2004480   \n",
       "8                19748                  16964  ...            134649   \n",
       "9                17667                  17480  ...            128332   \n",
       "\n",
       "   sex_ratio  child_sex_ratio  effective_literacy_rate_total  \\\n",
       "0        890              848                          79.86   \n",
       "1        928              909                          91.99   \n",
       "2        982              947                          80.51   \n",
       "3        902              910                          83.46   \n",
       "4       1013              968                          68.38   \n",
       "5       1002              940                          93.88   \n",
       "6        853              772                          63.44   \n",
       "7        897              853                          89.62   \n",
       "8        952              859                          91.49   \n",
       "9       1029              989                          98.80   \n",
       "\n",
       "   effective_literacy_rate_male  effective_literacy_rate_female  \\\n",
       "0                         85.49                           73.59   \n",
       "1                         94.77                           89.00   \n",
       "2                         88.18                           72.73   \n",
       "3                         89.98                           76.23   \n",
       "4                         76.58                           60.33   \n",
       "5                         95.75                           92.02   \n",
       "6                         67.67                           58.54   \n",
       "7                         93.96                           84.81   \n",
       "8                         95.51                           87.33   \n",
       "9                         99.30                           98.31   \n",
       "\n",
       "                location  total_graduates male_graduates  female_graduates  \n",
       "0  30.1452928,74.1993043            16287           8612              7675  \n",
       "1   21.257584,77.5086754             8863           5269              3594  \n",
       "2   19.0809075,79.560344            10565           6797              3768  \n",
       "3  22.7834741,86.1576889            19225          12189              7036  \n",
       "4  15.6322227,77.2728368            11902           7871              4031  \n",
       "5   23.831457,91.2867777            52711          30215             22496  \n",
       "6  27.1766701,78.0080745           185813         106082             79731  \n",
       "7   23.022505,72.5713621           769858         435267            334591  \n",
       "8  19.0952075,74.7495916            51661          29832             21829  \n",
       "9   23.727107,92.7176389            26832          14900             11932  \n",
       "\n",
       "[10 rows x 22 columns]"
      ]
     },
     "execution_count": 13,
     "metadata": {},
     "output_type": "execute_result"
    }
   ],
   "source": [
    "indian_cities.head(10)"
   ]
  },
  {
   "cell_type": "markdown",
   "id": "75726acd",
   "metadata": {
    "papermill": {
     "duration": 0.059393,
     "end_time": "2021-07-26T08:31:08.214948",
     "exception": false,
     "start_time": "2021-07-26T08:31:08.155555",
     "status": "completed"
    },
    "tags": []
   },
   "source": [
    "> We can see here that Ahmadabad is just spelled differently "
   ]
  },
  {
   "cell_type": "markdown",
   "id": "afebfa8b",
   "metadata": {
    "papermill": {
     "duration": 0.059281,
     "end_time": "2021-07-26T08:31:08.333673",
     "exception": false,
     "start_time": "2021-07-26T08:31:08.274392",
     "status": "completed"
    },
    "tags": []
   },
   "source": [
    "> We can recognize a proplem with the data set as Chandigarh exists in both datasets but is not detected in the matches df"
   ]
  },
  {
   "cell_type": "markdown",
   "id": "207cd6ea",
   "metadata": {
    "papermill": {
     "duration": 0.059131,
     "end_time": "2021-07-26T08:31:08.452312",
     "exception": false,
     "start_time": "2021-07-26T08:31:08.393181",
     "status": "completed"
    },
    "tags": []
   },
   "source": [
    "> There are spaces in the end of every name "
   ]
  },
  {
   "cell_type": "code",
   "execution_count": 14,
   "id": "9657dce0",
   "metadata": {
    "execution": {
     "iopub.execute_input": "2021-07-26T08:31:08.585989Z",
     "iopub.status.busy": "2021-07-26T08:31:08.585277Z",
     "iopub.status.idle": "2021-07-26T08:31:08.590478Z",
     "shell.execute_reply": "2021-07-26T08:31:08.589798Z",
     "shell.execute_reply.started": "2021-07-26T08:25:37.843110Z"
    },
    "papermill": {
     "duration": 0.078734,
     "end_time": "2021-07-26T08:31:08.590636",
     "exception": false,
     "start_time": "2021-07-26T08:31:08.511902",
     "status": "completed"
    },
    "tags": []
   },
   "outputs": [
    {
     "name": "stdout",
     "output_type": "stream",
     "text": [
      "4\n"
     ]
    },
    {
     "data": {
      "text/plain": [
       "{'Ahmedabad', 'Dharamsala', 'Hyderabad', 'Mohali'}"
      ]
     },
     "execution_count": 14,
     "metadata": {},
     "output_type": "execute_result"
    }
   ],
   "source": [
    "indian_cities['name_of_city'] = indian_cities['name_of_city'].str.strip()\n",
    "ind_cities = indian_cities.name_of_city.unique()\n",
    "\n",
    "print(len(set(matches_world[matches_world['country'].isnull()].city.unique()) - set(ind_cities)))\n",
    "set(matches_world[matches_world['country'].isnull()].city.unique()) - set(ind_cities)"
   ]
  },
  {
   "cell_type": "markdown",
   "id": "5de7d722",
   "metadata": {
    "papermill": {
     "duration": 0.061435,
     "end_time": "2021-07-26T08:31:08.713289",
     "exception": false,
     "start_time": "2021-07-26T08:31:08.651854",
     "status": "completed"
    },
    "tags": []
   },
   "source": [
    "> Now we have just 4 cities with unknown names let's check the spell"
   ]
  },
  {
   "cell_type": "markdown",
   "id": "3c328a42",
   "metadata": {
    "papermill": {
     "duration": 0.063031,
     "end_time": "2021-07-26T08:31:08.837636",
     "exception": false,
     "start_time": "2021-07-26T08:31:08.774605",
     "status": "completed"
    },
    "tags": []
   },
   "source": [
    "> Looks like we can just solve AhmedAbad problem for now"
   ]
  },
  {
   "cell_type": "markdown",
   "id": "d16c88cf",
   "metadata": {
    "papermill": {
     "duration": 0.061296,
     "end_time": "2021-07-26T08:31:08.960894",
     "exception": false,
     "start_time": "2021-07-26T08:31:08.899598",
     "status": "completed"
    },
    "tags": []
   },
   "source": [
    "> The indian data set is from 2011 and the world data set is from 2020, so we will just use the necessary data from the indian dataset with a column indicating the source"
   ]
  },
  {
   "cell_type": "code",
   "execution_count": 15,
   "id": "35f74f07",
   "metadata": {
    "execution": {
     "iopub.execute_input": "2021-07-26T08:31:09.096546Z",
     "iopub.status.busy": "2021-07-26T08:31:09.095672Z",
     "iopub.status.idle": "2021-07-26T08:31:09.099154Z",
     "shell.execute_reply": "2021-07-26T08:31:09.098565Z",
     "shell.execute_reply.started": "2021-07-26T08:25:37.862926Z"
    },
    "papermill": {
     "duration": 0.075607,
     "end_time": "2021-07-26T08:31:09.099333",
     "exception": false,
     "start_time": "2021-07-26T08:31:09.023726",
     "status": "completed"
    },
    "tags": []
   },
   "outputs": [],
   "source": [
    "indian_cities = indian_cities.rename(columns = {'name_of_city':'city','population_total':'population'})\n",
    "indian_cities['country'] = 'India'\n",
    "indian_cities.loc[indian_cities[indian_cities['city'] == 'Ahmadabad'].index,'city'] = 'Ahmedabad'"
   ]
  },
  {
   "cell_type": "code",
   "execution_count": 16,
   "id": "0c2fed20",
   "metadata": {
    "execution": {
     "iopub.execute_input": "2021-07-26T08:31:09.233786Z",
     "iopub.status.busy": "2021-07-26T08:31:09.232700Z",
     "iopub.status.idle": "2021-07-26T08:31:09.238092Z",
     "shell.execute_reply": "2021-07-26T08:31:09.237377Z",
     "shell.execute_reply.started": "2021-07-26T08:25:37.873541Z"
    },
    "papermill": {
     "duration": 0.076388,
     "end_time": "2021-07-26T08:31:09.238259",
     "exception": false,
     "start_time": "2021-07-26T08:31:09.161871",
     "status": "completed"
    },
    "tags": []
   },
   "outputs": [
    {
     "data": {
      "text/plain": [
       "{'Ahmedabad',\n",
       " 'Bengaluru',\n",
       " 'Chandigarh',\n",
       " 'Kanpur',\n",
       " 'Kolkata',\n",
       " 'Nagpur',\n",
       " 'Rajkot',\n",
       " 'Ranchi',\n",
       " 'Visakhapatnam'}"
      ]
     },
     "execution_count": 16,
     "metadata": {},
     "output_type": "execute_result"
    }
   ],
   "source": [
    "c1 = set(matches_world[matches_world['country'].isnull()].city.unique())\n",
    "\n",
    "cs = c1.intersection(ind_cities)\n",
    "cs.add('Ahmedabad')\n",
    "cs"
   ]
  },
  {
   "cell_type": "code",
   "execution_count": 17,
   "id": "ebfe2842",
   "metadata": {
    "execution": {
     "iopub.execute_input": "2021-07-26T08:31:09.381650Z",
     "iopub.status.busy": "2021-07-26T08:31:09.380654Z",
     "iopub.status.idle": "2021-07-26T08:31:09.384809Z",
     "shell.execute_reply": "2021-07-26T08:31:09.384221Z",
     "shell.execute_reply.started": "2021-07-26T08:25:37.888346Z"
    },
    "papermill": {
     "duration": 0.084798,
     "end_time": "2021-07-26T08:31:09.384980",
     "exception": false,
     "start_time": "2021-07-26T08:31:09.300182",
     "status": "completed"
    },
    "tags": []
   },
   "outputs": [
    {
     "data": {
      "text/html": [
       "<div>\n",
       "<style scoped>\n",
       "    .dataframe tbody tr th:only-of-type {\n",
       "        vertical-align: middle;\n",
       "    }\n",
       "\n",
       "    .dataframe tbody tr th {\n",
       "        vertical-align: top;\n",
       "    }\n",
       "\n",
       "    .dataframe thead th {\n",
       "        text-align: right;\n",
       "    }\n",
       "</style>\n",
       "<table border=\"1\" class=\"dataframe\">\n",
       "  <thead>\n",
       "    <tr style=\"text-align: right;\">\n",
       "      <th></th>\n",
       "      <th>city</th>\n",
       "      <th>country</th>\n",
       "      <th>population</th>\n",
       "    </tr>\n",
       "  </thead>\n",
       "  <tbody>\n",
       "    <tr>\n",
       "      <th>7</th>\n",
       "      <td>Ahmedabad</td>\n",
       "      <td>India</td>\n",
       "      <td>5570585</td>\n",
       "    </tr>\n",
       "    <tr>\n",
       "      <th>72</th>\n",
       "      <td>Bengaluru</td>\n",
       "      <td>India</td>\n",
       "      <td>8425970</td>\n",
       "    </tr>\n",
       "    <tr>\n",
       "      <th>115</th>\n",
       "      <td>Chandigarh</td>\n",
       "      <td>India</td>\n",
       "      <td>960787</td>\n",
       "    </tr>\n",
       "    <tr>\n",
       "      <th>251</th>\n",
       "      <td>Kanpur</td>\n",
       "      <td>India</td>\n",
       "      <td>2767031</td>\n",
       "    </tr>\n",
       "    <tr>\n",
       "      <th>274</th>\n",
       "      <td>Kolkata</td>\n",
       "      <td>India</td>\n",
       "      <td>4486679</td>\n",
       "    </tr>\n",
       "    <tr>\n",
       "      <th>334</th>\n",
       "      <td>Nagpur</td>\n",
       "      <td>India</td>\n",
       "      <td>2405421</td>\n",
       "    </tr>\n",
       "    <tr>\n",
       "      <th>392</th>\n",
       "      <td>Rajkot</td>\n",
       "      <td>India</td>\n",
       "      <td>1286995</td>\n",
       "    </tr>\n",
       "    <tr>\n",
       "      <th>397</th>\n",
       "      <td>Ranchi</td>\n",
       "      <td>India</td>\n",
       "      <td>1073440</td>\n",
       "    </tr>\n",
       "    <tr>\n",
       "      <th>487</th>\n",
       "      <td>Visakhapatnam</td>\n",
       "      <td>India</td>\n",
       "      <td>1730320</td>\n",
       "    </tr>\n",
       "  </tbody>\n",
       "</table>\n",
       "</div>"
      ],
      "text/plain": [
       "              city country  population\n",
       "7        Ahmedabad   India     5570585\n",
       "72       Bengaluru   India     8425970\n",
       "115     Chandigarh   India      960787\n",
       "251         Kanpur   India     2767031\n",
       "274        Kolkata   India     4486679\n",
       "334         Nagpur   India     2405421\n",
       "392         Rajkot   India     1286995\n",
       "397         Ranchi   India     1073440\n",
       "487  Visakhapatnam   India     1730320"
      ]
     },
     "execution_count": 17,
     "metadata": {},
     "output_type": "execute_result"
    }
   ],
   "source": [
    "df1 = indian_cities[indian_cities['city'].isin(cs)][['city','country','population']]\n",
    "df1"
   ]
  },
  {
   "cell_type": "code",
   "execution_count": 18,
   "id": "07a45e79",
   "metadata": {
    "execution": {
     "iopub.execute_input": "2021-07-26T08:31:09.519659Z",
     "iopub.status.busy": "2021-07-26T08:31:09.518778Z",
     "iopub.status.idle": "2021-07-26T08:31:09.546525Z",
     "shell.execute_reply": "2021-07-26T08:31:09.547029Z",
     "shell.execute_reply.started": "2021-07-26T08:25:37.910137Z"
    },
    "papermill": {
     "duration": 0.099259,
     "end_time": "2021-07-26T08:31:09.547229",
     "exception": false,
     "start_time": "2021-07-26T08:31:09.447970",
     "status": "completed"
    },
    "tags": []
   },
   "outputs": [
    {
     "data": {
      "text/plain": [
       "array(['Hyderabad', 'Dharamsala', 'Mohali'], dtype=object)"
      ]
     },
     "execution_count": 18,
     "metadata": {},
     "output_type": "execute_result"
    }
   ],
   "source": [
    "df2 = pd.concat([world_cities[['city','country','population']],df1])\n",
    "matches_world = matches.join(df2.set_index('city'), on='city', how='left')\n",
    "matches_world[matches_world['country'].isnull()].city.unique()"
   ]
  },
  {
   "cell_type": "markdown",
   "id": "e01c05b5",
   "metadata": {
    "papermill": {
     "duration": 0.061947,
     "end_time": "2021-07-26T08:31:09.672273",
     "exception": false,
     "start_time": "2021-07-26T08:31:09.610326",
     "status": "completed"
    },
    "tags": []
   },
   "source": [
    "> We can search google for populations"
   ]
  },
  {
   "cell_type": "code",
   "execution_count": 19,
   "id": "3c2ccd30",
   "metadata": {
    "execution": {
     "iopub.execute_input": "2021-07-26T08:31:09.811378Z",
     "iopub.status.busy": "2021-07-26T08:31:09.810548Z",
     "iopub.status.idle": "2021-07-26T08:31:09.814183Z",
     "shell.execute_reply": "2021-07-26T08:31:09.813606Z",
     "shell.execute_reply.started": "2021-07-26T08:25:37.940028Z"
    },
    "papermill": {
     "duration": 0.079754,
     "end_time": "2021-07-26T08:31:09.814319",
     "exception": false,
     "start_time": "2021-07-26T08:31:09.734565",
     "status": "completed"
    },
    "tags": []
   },
   "outputs": [],
   "source": [
    "matches_world['country'] = matches_world['country'].fillna('India')\n",
    "populations = [6.81*10**6,53,543,146,213]\n",
    "for pop,city in zip(populations,['Hyderabad', 'Dharamsala', 'Mohali']):\n",
    "    matches_world.loc[matches_world[matches_world['city'] == city].index,'population'] = pop\n",
    "    "
   ]
  },
  {
   "cell_type": "code",
   "execution_count": 20,
   "id": "e649019c",
   "metadata": {
    "execution": {
     "iopub.execute_input": "2021-07-26T08:31:09.946146Z",
     "iopub.status.busy": "2021-07-26T08:31:09.945260Z",
     "iopub.status.idle": "2021-07-26T08:31:09.950317Z",
     "shell.execute_reply": "2021-07-26T08:31:09.949780Z",
     "shell.execute_reply.started": "2021-07-26T08:25:37.956243Z"
    },
    "papermill": {
     "duration": 0.07395,
     "end_time": "2021-07-26T08:31:09.950473",
     "exception": false,
     "start_time": "2021-07-26T08:31:09.876523",
     "status": "completed"
    },
    "tags": []
   },
   "outputs": [
    {
     "data": {
      "text/plain": [
       "India                   679\n",
       "United States            74\n",
       "South Africa             57\n",
       "United Arab Emirates     20\n",
       "Canada                    3\n",
       "United Kingdom            3\n",
       "Name: country, dtype: int64"
      ]
     },
     "execution_count": 20,
     "metadata": {},
     "output_type": "execute_result"
    }
   ],
   "source": [
    "matches_world['country'].value_counts()"
   ]
  },
  {
   "cell_type": "code",
   "execution_count": 21,
   "id": "f9e5d5f7",
   "metadata": {
    "execution": {
     "iopub.execute_input": "2021-07-26T08:31:10.100138Z",
     "iopub.status.busy": "2021-07-26T08:31:10.099053Z",
     "iopub.status.idle": "2021-07-26T08:31:10.265490Z",
     "shell.execute_reply": "2021-07-26T08:31:10.264784Z",
     "shell.execute_reply.started": "2021-07-26T08:25:37.974100Z"
    },
    "papermill": {
     "duration": 0.251882,
     "end_time": "2021-07-26T08:31:10.265634",
     "exception": false,
     "start_time": "2021-07-26T08:31:10.013752",
     "status": "completed"
    },
    "tags": []
   },
   "outputs": [
    {
     "data": {
      "image/png": "[encoded data removed]",
      "text/plain": [
       "<Figure size 864x864 with 1 Axes>"
      ]
     },
     "metadata": {},
     "output_type": "display_data"
    }
   ],
   "source": [
    "\n",
    "\n",
    "s = matches_world['country'].value_counts()\n",
    "labels = s.index\n",
    "sizes = s.values\n",
    "# explode = (0.1, 0, 0, 0)  # only \"explode\" the 2nd slice (i.e. 'Hogs')\n",
    "\n",
    "fig1, ax1 = plt.subplots(figsize=(12,12))\n",
    "ax1.pie(sizes, labels=labels, autopct='%1.1f%%',rotatelabels = True,\n",
    "         startangle=90)\n",
    "ax1.axis('equal')  # Equal aspect ratio ensures that pie is drawn as a circle.\n",
    "\n",
    "plt.show()"
   ]
  },
  {
   "cell_type": "markdown",
   "id": "00c947c6",
   "metadata": {
    "papermill": {
     "duration": 0.064005,
     "end_time": "2021-07-26T08:31:10.393236",
     "exception": false,
     "start_time": "2021-07-26T08:31:10.329231",
     "status": "completed"
    },
    "tags": []
   },
   "source": [
    "> India takes part in 81.2% of the mathces followed by the US, then South Africa, Emirates, UK, and South Africa"
   ]
  },
  {
   "cell_type": "markdown",
   "id": "e739c6e8",
   "metadata": {
    "papermill": {
     "duration": 0.063116,
     "end_time": "2021-07-26T08:31:10.519783",
     "exception": false,
     "start_time": "2021-07-26T08:31:10.456667",
     "status": "completed"
    },
    "tags": []
   },
   "source": [
    "# Let's see how much matches each team played "
   ]
  },
  {
   "cell_type": "code",
   "execution_count": 22,
   "id": "cb091900",
   "metadata": {
    "execution": {
     "iopub.execute_input": "2021-07-26T08:31:10.656354Z",
     "iopub.status.busy": "2021-07-26T08:31:10.655631Z",
     "iopub.status.idle": "2021-07-26T08:31:10.680638Z",
     "shell.execute_reply": "2021-07-26T08:31:10.681121Z",
     "shell.execute_reply.started": "2021-07-26T08:25:38.196424Z"
    },
    "papermill": {
     "duration": 0.097973,
     "end_time": "2021-07-26T08:31:10.681298",
     "exception": false,
     "start_time": "2021-07-26T08:31:10.583325",
     "status": "completed"
    },
    "tags": []
   },
   "outputs": [
    {
     "data": {
      "text/plain": [
       "Kochi Tuskers Kerala            15\n",
       "Rising Pune Supergiants         15\n",
       "Rising Pune Supergiant          17\n",
       "Delhi Capitals                  23\n",
       "Gujarat Lions                   33\n",
       "Pune Warriors                   48\n",
       "Deccan Chargers                 83\n",
       "Sunrisers Hyderabad            116\n",
       "Rajasthan Royals               160\n",
       "Chennai Super Kings            174\n",
       "Kolkata Knight Riders          188\n",
       "Kings XI Punjab                189\n",
       "Royal Challengers Bangalore    189\n",
       "Mumbai Indians                 198\n",
       "Delhi Daredevils               224\n",
       "dtype: int64"
      ]
     },
     "execution_count": 22,
     "metadata": {},
     "output_type": "execute_result"
    }
   ],
   "source": [
    "k = matches_world['team1'].value_counts().sort_index()+matches_world['team2'].value_counts().sort_index()\n",
    "k = k.sort_values()\n",
    "k"
   ]
  },
  {
   "cell_type": "code",
   "execution_count": 23,
   "id": "98654ea5",
   "metadata": {
    "execution": {
     "iopub.execute_input": "2021-07-26T08:31:10.814959Z",
     "iopub.status.busy": "2021-07-26T08:31:10.813974Z",
     "iopub.status.idle": "2021-07-26T08:31:11.092710Z",
     "shell.execute_reply": "2021-07-26T08:31:11.093198Z",
     "shell.execute_reply.started": "2021-07-26T08:25:38.226140Z"
    },
    "papermill": {
     "duration": 0.347825,
     "end_time": "2021-07-26T08:31:11.093389",
     "exception": false,
     "start_time": "2021-07-26T08:31:10.745564",
     "status": "completed"
    },
    "tags": []
   },
   "outputs": [
    {
     "data": {
      "image/png": "[encoded data removed]",
      "text/plain": [
       "<Figure size 432x288 with 1 Axes>"
      ]
     },
     "metadata": {
      "needs_background": "light"
     },
     "output_type": "display_data"
    }
   ],
   "source": [
    "sns.barplot(y=k.index,x=k,color=c);"
   ]
  },
  {
   "cell_type": "markdown",
   "id": "2f491bb0",
   "metadata": {
    "papermill": {
     "duration": 0.065235,
     "end_time": "2021-07-26T08:31:11.223628",
     "exception": false,
     "start_time": "2021-07-26T08:31:11.158393",
     "status": "completed"
    },
    "tags": []
   },
   "source": [
    "> Some teams play a lot of matches and others don't"
   ]
  },
  {
   "cell_type": "markdown",
   "id": "ae2ef05e",
   "metadata": {
    "papermill": {
     "duration": 0.064176,
     "end_time": "2021-07-26T08:31:11.352488",
     "exception": false,
     "start_time": "2021-07-26T08:31:11.288312",
     "status": "completed"
    },
    "tags": []
   },
   "source": [
    "# Let's check  the winning rate of each team on each season"
   ]
  },
  {
   "cell_type": "code",
   "execution_count": 24,
   "id": "854abf20",
   "metadata": {
    "execution": {
     "iopub.execute_input": "2021-07-26T08:31:11.492082Z",
     "iopub.status.busy": "2021-07-26T08:31:11.491360Z",
     "iopub.status.idle": "2021-07-26T08:31:11.497065Z",
     "shell.execute_reply": "2021-07-26T08:31:11.496508Z",
     "shell.execute_reply.started": "2021-07-26T08:25:38.499469Z"
    },
    "papermill": {
     "duration": 0.079361,
     "end_time": "2021-07-26T08:31:11.497228",
     "exception": false,
     "start_time": "2021-07-26T08:31:11.417867",
     "status": "completed"
    },
    "tags": []
   },
   "outputs": [],
   "source": [
    "w = matches_world.groupby(['Season','winner'])['id'].count()"
   ]
  },
  {
   "cell_type": "code",
   "execution_count": 25,
   "id": "d45e50d0",
   "metadata": {
    "execution": {
     "iopub.execute_input": "2021-07-26T08:31:11.645992Z",
     "iopub.status.busy": "2021-07-26T08:31:11.643350Z",
     "iopub.status.idle": "2021-07-26T08:31:13.001608Z",
     "shell.execute_reply": "2021-07-26T08:31:13.002089Z",
     "shell.execute_reply.started": "2021-07-26T08:25:38.507986Z"
    },
    "papermill": {
     "duration": 1.438822,
     "end_time": "2021-07-26T08:31:13.002271",
     "exception": false,
     "start_time": "2021-07-26T08:31:11.563449",
     "status": "completed"
    },
    "tags": []
   },
   "outputs": [
    {
     "data": {
      "text/plain": [
       "<AxesSubplot:xlabel='Season', ylabel='winner'>"
      ]
     },
     "execution_count": 25,
     "metadata": {},
     "output_type": "execute_result"
    },
    {
     "data": {
      "image/png": "[encoded data removed]",
      "text/plain": [
       "<Figure size 720x720 with 2 Axes>"
      ]
     },
     "metadata": {
      "needs_background": "light"
     },
     "output_type": "display_data"
    }
   ],
   "source": [
    "plt.figure(figsize=(10,10))\n",
    "w = w.reset_index()\n",
    "w_piv = w.pivot(index = 'winner', columns = 'Season',\n",
    "                            values = 'id').fillna(0)\n",
    "sns.heatmap(w_piv, annot = True, fmt = '.0f',\n",
    "           cbar_kws = {'label' : 'winning count'})"
   ]
  },
  {
   "cell_type": "markdown",
   "id": "0f169708",
   "metadata": {
    "papermill": {
     "duration": 0.070048,
     "end_time": "2021-07-26T08:31:13.140182",
     "exception": false,
     "start_time": "2021-07-26T08:31:13.070134",
     "status": "completed"
    },
    "tags": []
   },
   "source": [
    "> We can see here that there are some teams that appears for only a period of time and there are 8 teams that are almost played on all seasons"
   ]
  },
  {
   "cell_type": "markdown",
   "id": "51b92dcc",
   "metadata": {
    "papermill": {
     "duration": 0.06702,
     "end_time": "2021-07-26T08:31:13.275176",
     "exception": false,
     "start_time": "2021-07-26T08:31:13.208156",
     "status": "completed"
    },
    "tags": []
   },
   "source": [
    "> we can see also there are some teams with high flactuations in winning and others with more stable performance"
   ]
  },
  {
   "cell_type": "markdown",
   "id": "739ece02",
   "metadata": {
    "papermill": {
     "duration": 0.066951,
     "end_time": "2021-07-26T08:31:13.409371",
     "exception": false,
     "start_time": "2021-07-26T08:31:13.342420",
     "status": "completed"
    },
    "tags": []
   },
   "source": [
    "## 2. Does certain teams have weaknesses against some specific other teams ?"
   ]
  },
  {
   "cell_type": "markdown",
   "id": "c9d94353",
   "metadata": {
    "papermill": {
     "duration": 0.066863,
     "end_time": "2021-07-26T08:31:13.543320",
     "exception": false,
     "start_time": "2021-07-26T08:31:13.476457",
     "status": "completed"
    },
    "tags": []
   },
   "source": [
    "#### Let's first get the distripution of the teams compinations"
   ]
  },
  {
   "cell_type": "code",
   "execution_count": 26,
   "id": "08925c69",
   "metadata": {
    "execution": {
     "iopub.execute_input": "2021-07-26T08:31:13.681345Z",
     "iopub.status.busy": "2021-07-26T08:31:13.680351Z",
     "iopub.status.idle": "2021-07-26T08:31:13.733294Z",
     "shell.execute_reply": "2021-07-26T08:31:13.733770Z",
     "shell.execute_reply.started": "2021-07-26T08:25:39.863748Z"
    },
    "papermill": {
     "duration": 0.123486,
     "end_time": "2021-07-26T08:31:13.733955",
     "exception": false,
     "start_time": "2021-07-26T08:31:13.610469",
     "status": "completed"
    },
    "tags": []
   },
   "outputs": [
    {
     "data": {
      "text/html": [
       "<div>\n",
       "<style scoped>\n",
       "    .dataframe tbody tr th:only-of-type {\n",
       "        vertical-align: middle;\n",
       "    }\n",
       "\n",
       "    .dataframe tbody tr th {\n",
       "        vertical-align: top;\n",
       "    }\n",
       "\n",
       "    .dataframe thead th {\n",
       "        text-align: right;\n",
       "    }\n",
       "</style>\n",
       "<table border=\"1\" class=\"dataframe\">\n",
       "  <thead>\n",
       "    <tr style=\"text-align: right;\">\n",
       "      <th></th>\n",
       "      <th>id</th>\n",
       "      <th>Season</th>\n",
       "      <th>city</th>\n",
       "      <th>date</th>\n",
       "      <th>team1</th>\n",
       "      <th>team2</th>\n",
       "      <th>toss_winner</th>\n",
       "      <th>toss_decision</th>\n",
       "      <th>result</th>\n",
       "      <th>dl_applied</th>\n",
       "      <th>...</th>\n",
       "      <th>win_by_runs</th>\n",
       "      <th>win_by_wickets</th>\n",
       "      <th>player_of_match</th>\n",
       "      <th>venue</th>\n",
       "      <th>umpire1</th>\n",
       "      <th>umpire2</th>\n",
       "      <th>umpire3</th>\n",
       "      <th>country</th>\n",
       "      <th>population</th>\n",
       "      <th>duals_sets</th>\n",
       "    </tr>\n",
       "  </thead>\n",
       "  <tbody>\n",
       "    <tr>\n",
       "      <th>0</th>\n",
       "      <td>1</td>\n",
       "      <td>2017</td>\n",
       "      <td>Hyderabad</td>\n",
       "      <td>2017-05-04</td>\n",
       "      <td>Sunrisers Hyderabad</td>\n",
       "      <td>Royal Challengers Bangalore</td>\n",
       "      <td>Royal Challengers Bangalore</td>\n",
       "      <td>field</td>\n",
       "      <td>normal</td>\n",
       "      <td>0</td>\n",
       "      <td>...</td>\n",
       "      <td>35</td>\n",
       "      <td>0</td>\n",
       "      <td>Yuvraj Singh</td>\n",
       "      <td>Rajiv Gandhi International Stadium, Uppal</td>\n",
       "      <td>AY Dandekar</td>\n",
       "      <td>NJ Llong</td>\n",
       "      <td>none</td>\n",
       "      <td>India</td>\n",
       "      <td>6810000.0</td>\n",
       "      <td>Sunrisers Hyderabad_Royal Challengers Bangalore</td>\n",
       "    </tr>\n",
       "    <tr>\n",
       "      <th>1</th>\n",
       "      <td>2</td>\n",
       "      <td>2017</td>\n",
       "      <td>Pune</td>\n",
       "      <td>2017-06-04</td>\n",
       "      <td>Mumbai Indians</td>\n",
       "      <td>Rising Pune Supergiant</td>\n",
       "      <td>Rising Pune Supergiant</td>\n",
       "      <td>field</td>\n",
       "      <td>normal</td>\n",
       "      <td>0</td>\n",
       "      <td>...</td>\n",
       "      <td>0</td>\n",
       "      <td>7</td>\n",
       "      <td>SPD Smith</td>\n",
       "      <td>Maharashtra Cricket Association Stadium</td>\n",
       "      <td>A Nand Kishore</td>\n",
       "      <td>S Ravi</td>\n",
       "      <td>none</td>\n",
       "      <td>India</td>\n",
       "      <td>7764000.0</td>\n",
       "      <td>Rising Pune Supergiant_Mumbai Indians</td>\n",
       "    </tr>\n",
       "    <tr>\n",
       "      <th>2</th>\n",
       "      <td>3</td>\n",
       "      <td>2017</td>\n",
       "      <td>Rajkot</td>\n",
       "      <td>2017-07-04</td>\n",
       "      <td>Gujarat Lions</td>\n",
       "      <td>Kolkata Knight Riders</td>\n",
       "      <td>Kolkata Knight Riders</td>\n",
       "      <td>field</td>\n",
       "      <td>normal</td>\n",
       "      <td>0</td>\n",
       "      <td>...</td>\n",
       "      <td>0</td>\n",
       "      <td>10</td>\n",
       "      <td>CA Lynn</td>\n",
       "      <td>Saurashtra Cricket Association Stadium</td>\n",
       "      <td>Nitin Menon</td>\n",
       "      <td>CK Nandan</td>\n",
       "      <td>none</td>\n",
       "      <td>India</td>\n",
       "      <td>1286995.0</td>\n",
       "      <td>Gujarat Lions_Kolkata Knight Riders</td>\n",
       "    </tr>\n",
       "    <tr>\n",
       "      <th>3</th>\n",
       "      <td>4</td>\n",
       "      <td>2017</td>\n",
       "      <td>Indore</td>\n",
       "      <td>2017-08-04</td>\n",
       "      <td>Rising Pune Supergiant</td>\n",
       "      <td>Kings XI Punjab</td>\n",
       "      <td>Kings XI Punjab</td>\n",
       "      <td>field</td>\n",
       "      <td>normal</td>\n",
       "      <td>0</td>\n",
       "      <td>...</td>\n",
       "      <td>0</td>\n",
       "      <td>6</td>\n",
       "      <td>GJ Maxwell</td>\n",
       "      <td>Holkar Cricket Stadium</td>\n",
       "      <td>AK Chaudhary</td>\n",
       "      <td>C Shamshuddin</td>\n",
       "      <td>none</td>\n",
       "      <td>India</td>\n",
       "      <td>2201927.0</td>\n",
       "      <td>Kings XI Punjab_Rising Pune Supergiant</td>\n",
       "    </tr>\n",
       "    <tr>\n",
       "      <th>4</th>\n",
       "      <td>5</td>\n",
       "      <td>2017</td>\n",
       "      <td>Bangalore</td>\n",
       "      <td>2017-08-04</td>\n",
       "      <td>Royal Challengers Bangalore</td>\n",
       "      <td>Delhi Daredevils</td>\n",
       "      <td>Royal Challengers Bangalore</td>\n",
       "      <td>bat</td>\n",
       "      <td>normal</td>\n",
       "      <td>0</td>\n",
       "      <td>...</td>\n",
       "      <td>15</td>\n",
       "      <td>0</td>\n",
       "      <td>KM Jadhav</td>\n",
       "      <td>M Chinnaswamy Stadium</td>\n",
       "      <td>none</td>\n",
       "      <td>none</td>\n",
       "      <td>none</td>\n",
       "      <td>India</td>\n",
       "      <td>13707000.0</td>\n",
       "      <td>Delhi Daredevils_Royal Challengers Bangalore</td>\n",
       "    </tr>\n",
       "  </tbody>\n",
       "</table>\n",
       "<p>5 rows × 21 columns</p>\n",
       "</div>"
      ],
      "text/plain": [
       "   id  Season       city       date                        team1  \\\n",
       "0   1    2017  Hyderabad 2017-05-04          Sunrisers Hyderabad   \n",
       "1   2    2017       Pune 2017-06-04               Mumbai Indians   \n",
       "2   3    2017     Rajkot 2017-07-04                Gujarat Lions   \n",
       "3   4    2017     Indore 2017-08-04       Rising Pune Supergiant   \n",
       "4   5    2017  Bangalore 2017-08-04  Royal Challengers Bangalore   \n",
       "\n",
       "                         team2                  toss_winner toss_decision  \\\n",
       "0  Royal Challengers Bangalore  Royal Challengers Bangalore         field   \n",
       "1       Rising Pune Supergiant       Rising Pune Supergiant         field   \n",
       "2        Kolkata Knight Riders        Kolkata Knight Riders         field   \n",
       "3              Kings XI Punjab              Kings XI Punjab         field   \n",
       "4             Delhi Daredevils  Royal Challengers Bangalore           bat   \n",
       "\n",
       "   result  dl_applied  ... win_by_runs  win_by_wickets  player_of_match  \\\n",
       "0  normal           0  ...          35               0     Yuvraj Singh   \n",
       "1  normal           0  ...           0               7        SPD Smith   \n",
       "2  normal           0  ...           0              10          CA Lynn   \n",
       "3  normal           0  ...           0               6       GJ Maxwell   \n",
       "4  normal           0  ...          15               0        KM Jadhav   \n",
       "\n",
       "                                       venue         umpire1        umpire2  \\\n",
       "0  Rajiv Gandhi International Stadium, Uppal     AY Dandekar       NJ Llong   \n",
       "1    Maharashtra Cricket Association Stadium  A Nand Kishore         S Ravi   \n",
       "2     Saurashtra Cricket Association Stadium     Nitin Menon      CK Nandan   \n",
       "3                     Holkar Cricket Stadium    AK Chaudhary  C Shamshuddin   \n",
       "4                      M Chinnaswamy Stadium            none           none   \n",
       "\n",
       "  umpire3 country  population                                       duals_sets  \n",
       "0    none   India   6810000.0  Sunrisers Hyderabad_Royal Challengers Bangalore  \n",
       "1    none   India   7764000.0            Rising Pune Supergiant_Mumbai Indians  \n",
       "2    none   India   1286995.0              Gujarat Lions_Kolkata Knight Riders  \n",
       "3    none   India   2201927.0           Kings XI Punjab_Rising Pune Supergiant  \n",
       "4    none   India  13707000.0     Delhi Daredevils_Royal Challengers Bangalore  \n",
       "\n",
       "[5 rows x 21 columns]"
      ]
     },
     "execution_count": 26,
     "metadata": {},
     "output_type": "execute_result"
    }
   ],
   "source": [
    "def get_duals_sets(x):\n",
    "    l = list(set((x[4],x[5])))\n",
    "    return l[0]+\"_\"+l[1]\n",
    "matches_world_eda = matches_world.copy()\n",
    "matches_world_eda['duals_sets'] = matches_world.apply( get_duals_sets,axis=1)\n",
    "matches_world_eda.head()"
   ]
  },
  {
   "cell_type": "code",
   "execution_count": 27,
   "id": "0fca41af",
   "metadata": {
    "execution": {
     "iopub.execute_input": "2021-07-26T08:31:13.948430Z",
     "iopub.status.busy": "2021-07-26T08:31:13.944541Z",
     "iopub.status.idle": "2021-07-26T08:31:17.015722Z",
     "shell.execute_reply": "2021-07-26T08:31:17.016270Z",
     "shell.execute_reply.started": "2021-07-26T08:25:39.915897Z"
    },
    "papermill": {
     "duration": 3.214333,
     "end_time": "2021-07-26T08:31:17.016472",
     "exception": false,
     "start_time": "2021-07-26T08:31:13.802139",
     "status": "completed"
    },
    "tags": []
   },
   "outputs": [
    {
     "data": {
      "text/plain": [
       "<AxesSubplot:xlabel='duals_sets'>"
      ]
     },
     "execution_count": 27,
     "metadata": {},
     "output_type": "execute_result"
    },
    {
     "data": {
      "image/png": "[encoded data removed]",
      "text/plain": [
       "<Figure size 864x864 with 1 Axes>"
      ]
     },
     "metadata": {
      "needs_background": "light"
     },
     "output_type": "display_data"
    }
   ],
   "source": [
    "k = matches_world_eda['duals_sets'].value_counts()\n",
    "plt.figure(figsize=(12,12))\n",
    "sns.barplot(y = k.index,x = k,color=c)"
   ]
  },
  {
   "cell_type": "markdown",
   "id": "e89aa8bb",
   "metadata": {
    "papermill": {
     "duration": 0.074798,
     "end_time": "2021-07-26T08:31:17.170061",
     "exception": false,
     "start_time": "2021-07-26T08:31:17.095263",
     "status": "completed"
    },
    "tags": []
   },
   "source": [
    "> Duals numbers ranges from 1 to 30"
   ]
  },
  {
   "cell_type": "markdown",
   "id": "d7bef4e1",
   "metadata": {
    "papermill": {
     "duration": 0.076172,
     "end_time": "2021-07-26T08:31:17.321730",
     "exception": false,
     "start_time": "2021-07-26T08:31:17.245558",
     "status": "completed"
    },
    "tags": []
   },
   "source": [
    "> Let's see who are the teams that are strong specially against certain teams"
   ]
  },
  {
   "cell_type": "code",
   "execution_count": 28,
   "id": "4a68b6ea",
   "metadata": {
    "execution": {
     "iopub.execute_input": "2021-07-26T08:31:17.486273Z",
     "iopub.status.busy": "2021-07-26T08:31:17.479923Z",
     "iopub.status.idle": "2021-07-26T08:31:17.506832Z",
     "shell.execute_reply": "2021-07-26T08:31:17.506269Z",
     "shell.execute_reply.started": "2021-07-26T08:25:43.025829Z"
    },
    "papermill": {
     "duration": 0.108585,
     "end_time": "2021-07-26T08:31:17.507018",
     "exception": false,
     "start_time": "2021-07-26T08:31:17.398433",
     "status": "completed"
    },
    "tags": []
   },
   "outputs": [
    {
     "data": {
      "text/plain": [
       "duals_sets\n",
       "Chennai Super Kings_Delhi Capitals                                 (100.0, 3)\n",
       "Chennai Super Kings_Delhi Daredevils                  (66.66666666666667, 24)\n",
       "Chennai Super Kings_Kolkata Knight Riders                          (65.0, 20)\n",
       "Chennai Super Kings_Mumbai Indians                                 (37.5, 16)\n",
       "Chennai Super Kings_Royal Challengers Bangalore       (65.21739130434783, 23)\n",
       "                                                               ...           \n",
       "Rising Pune Supergiants_Sunrisers Hyderabad                         (50.0, 2)\n",
       "Royal Challengers Bangalore_Kolkata Knight Riders                 (56.25, 16)\n",
       "Sunrisers Hyderabad_Delhi Daredevils                  (42.857142857142854, 7)\n",
       "Sunrisers Hyderabad_Kolkata Knight Riders             (44.44444444444444, 18)\n",
       "Sunrisers Hyderabad_Royal Challengers Bangalore      (57.142857142857146, 14)\n",
       "Name: winner, Length: 86, dtype: object"
      ]
     },
     "execution_count": 28,
     "metadata": {},
     "output_type": "execute_result"
    }
   ],
   "source": [
    "def get_win_rate(x):\n",
    "#     print(type())\n",
    "    first_team = x.name.split('_')[0]\n",
    "    \n",
    "    return 100*sum(x == first_team)/len(x),len(x)\n",
    "\n",
    "win = matches_world_eda.groupby('duals_sets')['winner'].apply(get_win_rate)\n",
    "win"
   ]
  },
  {
   "cell_type": "markdown",
   "id": "76a926b9",
   "metadata": {
    "papermill": {
     "duration": 0.075068,
     "end_time": "2021-07-26T08:31:17.657823",
     "exception": false,
     "start_time": "2021-07-26T08:31:17.582755",
     "status": "completed"
    },
    "tags": []
   },
   "source": [
    "> Let's filter duals that played more than 10 matches against each others"
   ]
  },
  {
   "cell_type": "code",
   "execution_count": 29,
   "id": "ace8079e",
   "metadata": {
    "execution": {
     "iopub.execute_input": "2021-07-26T08:31:17.815898Z",
     "iopub.status.busy": "2021-07-26T08:31:17.815214Z",
     "iopub.status.idle": "2021-07-26T08:31:17.818440Z",
     "shell.execute_reply": "2021-07-26T08:31:17.818933Z",
     "shell.execute_reply.started": "2021-07-26T08:25:43.054272Z"
    },
    "papermill": {
     "duration": 0.086471,
     "end_time": "2021-07-26T08:31:17.819189",
     "exception": false,
     "start_time": "2021-07-26T08:31:17.732718",
     "status": "completed"
    },
    "tags": []
   },
   "outputs": [],
   "source": [
    "k =  win.values\n",
    "idx = [j for j,i in enumerate(k) if (i[0]>50 or i[0]<40) and i[1]>10]\n",
    "w = win[idx]"
   ]
  },
  {
   "cell_type": "markdown",
   "id": "11b83c8a",
   "metadata": {
    "papermill": {
     "duration": 0.075376,
     "end_time": "2021-07-26T08:31:17.971370",
     "exception": false,
     "start_time": "2021-07-26T08:31:17.895994",
     "status": "completed"
    },
    "tags": []
   },
   "source": [
    "> Some sorting and preparing"
   ]
  },
  {
   "cell_type": "code",
   "execution_count": 30,
   "id": "a4b81831",
   "metadata": {
    "execution": {
     "iopub.execute_input": "2021-07-26T08:31:18.153538Z",
     "iopub.status.busy": "2021-07-26T08:31:18.152395Z",
     "iopub.status.idle": "2021-07-26T08:31:18.155701Z",
     "shell.execute_reply": "2021-07-26T08:31:18.155039Z",
     "shell.execute_reply.started": "2021-07-26T08:25:43.067046Z"
    },
    "papermill": {
     "duration": 0.095666,
     "end_time": "2021-07-26T08:31:18.155858",
     "exception": false,
     "start_time": "2021-07-26T08:31:18.060192",
     "status": "completed"
    },
    "tags": []
   },
   "outputs": [],
   "source": [
    "w_idx = w.index\n",
    "w_final = []\n",
    "t_final = []\n",
    "for i in range(len(w)):\n",
    "    k = w_idx[i].split('_')\n",
    "    w_now = w[i][0]\n",
    "    if w_now>50:\n",
    "        t_final.append(k[0]+\"_\"+k[1])\n",
    "        w_final.append(w_now)\n",
    "    else:\n",
    "        t_final.append(k[1]+\"_\"+k[0])\n",
    "        w_final.append(100-w_now)\n",
    "        "
   ]
  },
  {
   "cell_type": "code",
   "execution_count": 31,
   "id": "067c4ace",
   "metadata": {
    "execution": {
     "iopub.execute_input": "2021-07-26T08:31:18.311283Z",
     "iopub.status.busy": "2021-07-26T08:31:18.310418Z",
     "iopub.status.idle": "2021-07-26T08:31:18.313803Z",
     "shell.execute_reply": "2021-07-26T08:31:18.314355Z",
     "shell.execute_reply.started": "2021-07-26T08:25:43.079099Z"
    },
    "papermill": {
     "duration": 0.084272,
     "end_time": "2021-07-26T08:31:18.314539",
     "exception": false,
     "start_time": "2021-07-26T08:31:18.230267",
     "status": "completed"
    },
    "tags": []
   },
   "outputs": [],
   "source": [
    "w_sorted = pd.Series(w_final,t_final).sort_values(ascending=False)\n",
    "v1 = w_sorted.values\n",
    "v2 = 100-v1\n",
    "t_final = np.array([[k.split(\"_\")[0],k.split(\"_\")[1]] for k in w_sorted.index]).flatten()"
   ]
  },
  {
   "cell_type": "code",
   "execution_count": 32,
   "id": "af234862",
   "metadata": {
    "execution": {
     "iopub.execute_input": "2021-07-26T08:31:18.471459Z",
     "iopub.status.busy": "2021-07-26T08:31:18.470617Z",
     "iopub.status.idle": "2021-07-26T08:31:19.372430Z",
     "shell.execute_reply": "2021-07-26T08:31:19.373084Z",
     "shell.execute_reply.started": "2021-07-26T08:25:43.091147Z"
    },
    "papermill": {
     "duration": 0.984922,
     "end_time": "2021-07-26T08:31:19.373314",
     "exception": false,
     "start_time": "2021-07-26T08:31:18.388392",
     "status": "completed"
    },
    "tags": []
   },
   "outputs": [
    {
     "data": {
      "image/png": "[encoded data removed]",
      "text/plain": [
       "<Figure size 1440x504 with 1 Axes>"
      ]
     },
     "metadata": {
      "needs_background": "light"
     },
     "output_type": "display_data"
    }
   ],
   "source": [
    "x1 = np.arange(len(v1))\n",
    "x2 = np.array([[i,i-0.2]for i in range(len(v1))]).flatten()\n",
    "f = plt.figure(figsize=(20,7))\n",
    "ax = f.add_subplot(111)\n",
    "r1 = ax.bar(x1-0.2, v1, width=0.2, color='b', align='center');\n",
    "r2 = ax.bar(x1, v2, width=0.2, color='g', align='center');\n",
    "ax.set_xticks(x2);\n",
    "ax.set_xticklabels(t_final);\n",
    "ax.bar_label(r1, padding=3,fmt='%.0f')\n",
    "ax.bar_label(r2, padding=3,fmt='%.0f')\n",
    "plt.xticks(rotation=90);\n"
   ]
  },
  {
   "cell_type": "markdown",
   "id": "3fc9e1a1",
   "metadata": {
    "papermill": {
     "duration": 0.07884,
     "end_time": "2021-07-26T08:31:19.531737",
     "exception": false,
     "start_time": "2021-07-26T08:31:19.452897",
     "status": "completed"
    },
    "tags": []
   },
   "source": [
    "*Some teams perform really well against certain teams as we can see*"
   ]
  },
  {
   "cell_type": "markdown",
   "id": "fbf4de05",
   "metadata": {
    "papermill": {
     "duration": 0.083013,
     "end_time": "2021-07-26T08:31:19.695783",
     "exception": false,
     "start_time": "2021-07-26T08:31:19.612770",
     "status": "completed"
    },
    "tags": []
   },
   "source": [
    "Let's check the affect of cities on various teams"
   ]
  },
  {
   "cell_type": "markdown",
   "id": "58937444",
   "metadata": {
    "papermill": {
     "duration": 0.076991,
     "end_time": "2021-07-26T08:31:19.848591",
     "exception": false,
     "start_time": "2021-07-26T08:31:19.771600",
     "status": "completed"
    },
    "tags": []
   },
   "source": [
    "> Let's check that for the first most 10 frequent countries and the teams with more consistent data (look the heat map above) "
   ]
  },
  {
   "cell_type": "markdown",
   "id": "b7d893a9",
   "metadata": {
    "papermill": {
     "duration": 0.077195,
     "end_time": "2021-07-26T08:31:20.002131",
     "exception": false,
     "start_time": "2021-07-26T08:31:19.924936",
     "status": "completed"
    },
    "tags": []
   },
   "source": [
    "Let's get the number of seasons played per team"
   ]
  },
  {
   "cell_type": "code",
   "execution_count": 33,
   "id": "ec379e90",
   "metadata": {
    "execution": {
     "iopub.execute_input": "2021-07-26T08:31:20.160424Z",
     "iopub.status.busy": "2021-07-26T08:31:20.159606Z",
     "iopub.status.idle": "2021-07-26T08:31:20.170467Z",
     "shell.execute_reply": "2021-07-26T08:31:20.170979Z",
     "shell.execute_reply.started": "2021-07-26T08:25:44.110978Z"
    },
    "papermill": {
     "duration": 0.092298,
     "end_time": "2021-07-26T08:31:20.171193",
     "exception": false,
     "start_time": "2021-07-26T08:31:20.078895",
     "status": "completed"
    },
    "tags": []
   },
   "outputs": [
    {
     "data": {
      "text/plain": [
       "[('Kings XI Punjab', 12),\n",
       " ('Kolkata Knight Riders', 12),\n",
       " ('Mumbai Indians', 12),\n",
       " ('Royal Challengers Bangalore', 12),\n",
       " ('Delhi Daredevils', 11),\n",
       " ('Chennai Super Kings', 10),\n",
       " ('Rajasthan Royals', 10),\n",
       " ('Sunrisers Hyderabad', 7),\n",
       " ('Deccan Chargers', 5),\n",
       " ('Pune Warriors', 3),\n",
       " ('none', 3),\n",
       " ('Gujarat Lions', 2),\n",
       " ('Delhi Capitals', 1),\n",
       " ('Kochi Tuskers Kerala', 1),\n",
       " ('Rising Pune Supergiant', 1),\n",
       " ('Rising Pune Supergiants', 1)]"
      ]
     },
     "execution_count": 33,
     "metadata": {},
     "output_type": "execute_result"
    }
   ],
   "source": [
    "seasons_played_num = []\n",
    "for i,row in w_piv.iterrows():\n",
    "    seasons_played_num.append((i,len([k for k in row if k>0])))\n",
    "seasons_played_num = sorted(seasons_played_num,key=lambda x:x[1],reverse=True)\n",
    "seasons_played_num"
   ]
  },
  {
   "cell_type": "markdown",
   "id": "271273e0",
   "metadata": {
    "papermill": {
     "duration": 0.075467,
     "end_time": "2021-07-26T08:31:20.322729",
     "exception": false,
     "start_time": "2021-07-26T08:31:20.247262",
     "status": "completed"
    },
    "tags": []
   },
   "source": [
    "> We can see that the highest 7 have 10 seasons played and above, so we will consider them"
   ]
  },
  {
   "cell_type": "code",
   "execution_count": 34,
   "id": "6cdf40b0",
   "metadata": {
    "execution": {
     "iopub.execute_input": "2021-07-26T08:31:20.479842Z",
     "iopub.status.busy": "2021-07-26T08:31:20.479157Z",
     "iopub.status.idle": "2021-07-26T08:31:20.485220Z",
     "shell.execute_reply": "2021-07-26T08:31:20.485698Z",
     "shell.execute_reply.started": "2021-07-26T08:25:44.123034Z"
    },
    "papermill": {
     "duration": 0.087223,
     "end_time": "2021-07-26T08:31:20.485880",
     "exception": false,
     "start_time": "2021-07-26T08:31:20.398657",
     "status": "completed"
    },
    "tags": []
   },
   "outputs": [],
   "source": [
    "city_teams = seasons_played_num[:8]\n",
    "city_teams = [k[0] for k in city_teams]\n",
    "cities = matches['city'].value_counts()[:11].index\n"
   ]
  },
  {
   "cell_type": "code",
   "execution_count": 35,
   "id": "1253e2df",
   "metadata": {
    "execution": {
     "iopub.execute_input": "2021-07-26T08:31:20.641359Z",
     "iopub.status.busy": "2021-07-26T08:31:20.640645Z",
     "iopub.status.idle": "2021-07-26T08:31:20.650480Z",
     "shell.execute_reply": "2021-07-26T08:31:20.650945Z",
     "shell.execute_reply.started": "2021-07-26T08:25:44.136175Z"
    },
    "papermill": {
     "duration": 0.089317,
     "end_time": "2021-07-26T08:31:20.651152",
     "exception": false,
     "start_time": "2021-07-26T08:31:20.561835",
     "status": "completed"
    },
    "tags": []
   },
   "outputs": [
    {
     "data": {
      "text/plain": [
       "(673, 4)"
      ]
     },
     "execution_count": 35,
     "metadata": {},
     "output_type": "execute_result"
    }
   ],
   "source": [
    "matches_cities = matches_world_eda[matches_world_eda.city.isin(cities)]\n",
    "matches_cities = matches_cities[['team1','team2','winner','city']]\n",
    "matches_cities.shape"
   ]
  },
  {
   "cell_type": "code",
   "execution_count": 36,
   "id": "ecadfbf7",
   "metadata": {
    "execution": {
     "iopub.execute_input": "2021-07-26T08:31:20.808472Z",
     "iopub.status.busy": "2021-07-26T08:31:20.807444Z",
     "iopub.status.idle": "2021-07-26T08:31:20.825862Z",
     "shell.execute_reply": "2021-07-26T08:31:20.826402Z",
     "shell.execute_reply.started": "2021-07-26T08:25:44.155151Z"
    },
    "papermill": {
     "duration": 0.099256,
     "end_time": "2021-07-26T08:31:20.826626",
     "exception": false,
     "start_time": "2021-07-26T08:31:20.727370",
     "status": "completed"
    },
    "tags": []
   },
   "outputs": [],
   "source": [
    "def get_loser(row):\n",
    "#     print(row)\n",
    "    t1 = row[0]\n",
    "    t2 = row[1]\n",
    "    w = row[2]\n",
    "    return t1 if w!=t1 else t2\n",
    "matches_cities['loser'] = matches_cities.apply(get_loser,axis=1)"
   ]
  },
  {
   "cell_type": "code",
   "execution_count": 37,
   "id": "58478bc9",
   "metadata": {
    "execution": {
     "iopub.execute_input": "2021-07-26T08:31:20.993716Z",
     "iopub.status.busy": "2021-07-26T08:31:20.992765Z",
     "iopub.status.idle": "2021-07-26T08:31:21.033513Z",
     "shell.execute_reply": "2021-07-26T08:31:21.032913Z",
     "shell.execute_reply.started": "2021-07-26T08:25:44.177822Z"
    },
    "papermill": {
     "duration": 0.123657,
     "end_time": "2021-07-26T08:31:21.033686",
     "exception": false,
     "start_time": "2021-07-26T08:31:20.910029",
     "status": "completed"
    },
    "tags": []
   },
   "outputs": [
    {
     "data": {
      "text/html": [
       "<div>\n",
       "<style scoped>\n",
       "    .dataframe tbody tr th:only-of-type {\n",
       "        vertical-align: middle;\n",
       "    }\n",
       "\n",
       "    .dataframe tbody tr th {\n",
       "        vertical-align: top;\n",
       "    }\n",
       "\n",
       "    .dataframe thead th {\n",
       "        text-align: right;\n",
       "    }\n",
       "</style>\n",
       "<table border=\"1\" class=\"dataframe\">\n",
       "  <thead>\n",
       "    <tr style=\"text-align: right;\">\n",
       "      <th></th>\n",
       "      <th>city</th>\n",
       "      <th>level_1</th>\n",
       "      <th>team1</th>\n",
       "      <th>team2</th>\n",
       "      <th>win_rate</th>\n",
       "    </tr>\n",
       "  </thead>\n",
       "  <tbody>\n",
       "    <tr>\n",
       "      <th>0</th>\n",
       "      <td>Bangalore</td>\n",
       "      <td>Chennai Super Kings</td>\n",
       "      <td>4.0</td>\n",
       "      <td>3.0</td>\n",
       "      <td>57.142857</td>\n",
       "    </tr>\n",
       "    <tr>\n",
       "      <th>2</th>\n",
       "      <td>Bangalore</td>\n",
       "      <td>Delhi Daredevils</td>\n",
       "      <td>3.0</td>\n",
       "      <td>5.0</td>\n",
       "      <td>37.500000</td>\n",
       "    </tr>\n",
       "    <tr>\n",
       "      <th>4</th>\n",
       "      <td>Bangalore</td>\n",
       "      <td>Kings XI Punjab</td>\n",
       "      <td>5.0</td>\n",
       "      <td>5.0</td>\n",
       "      <td>50.000000</td>\n",
       "    </tr>\n",
       "    <tr>\n",
       "      <th>6</th>\n",
       "      <td>Bangalore</td>\n",
       "      <td>Kolkata Knight Riders</td>\n",
       "      <td>6.0</td>\n",
       "      <td>5.0</td>\n",
       "      <td>54.545455</td>\n",
       "    </tr>\n",
       "    <tr>\n",
       "      <th>7</th>\n",
       "      <td>Bangalore</td>\n",
       "      <td>Mumbai Indians</td>\n",
       "      <td>8.0</td>\n",
       "      <td>2.0</td>\n",
       "      <td>80.000000</td>\n",
       "    </tr>\n",
       "  </tbody>\n",
       "</table>\n",
       "</div>"
      ],
      "text/plain": [
       "        city                level_1  team1  team2   win_rate\n",
       "0  Bangalore    Chennai Super Kings    4.0    3.0  57.142857\n",
       "2  Bangalore       Delhi Daredevils    3.0    5.0  37.500000\n",
       "4  Bangalore        Kings XI Punjab    5.0    5.0  50.000000\n",
       "6  Bangalore  Kolkata Knight Riders    6.0    5.0  54.545455\n",
       "7  Bangalore         Mumbai Indians    8.0    2.0  80.000000"
      ]
     },
     "execution_count": 37,
     "metadata": {},
     "output_type": "execute_result"
    }
   ],
   "source": [
    "w = matches_cities.groupby(['city','winner']).count()['team1']\n",
    "l = matches_cities.groupby(['city','loser']).count()['team2']\n",
    "w_l = pd.concat([w, l], axis=1).fillna(0)\n",
    "w_l['win_rate'] = 100*w_l['team1']/(w_l['team2']+w_l['team1'])\n",
    "w_l = w_l.reset_index()\n",
    "w_l = w_l[w_l['level_1'].isin(city_teams)]\n",
    "\n",
    "w_l.head()"
   ]
  },
  {
   "cell_type": "code",
   "execution_count": 38,
   "id": "a531766c",
   "metadata": {
    "execution": {
     "iopub.execute_input": "2021-07-26T08:31:21.220412Z",
     "iopub.status.busy": "2021-07-26T08:31:21.219642Z",
     "iopub.status.idle": "2021-07-26T08:31:22.022971Z",
     "shell.execute_reply": "2021-07-26T08:31:22.023499Z",
     "shell.execute_reply.started": "2021-07-26T08:25:44.214332Z"
    },
    "papermill": {
     "duration": 0.899048,
     "end_time": "2021-07-26T08:31:22.023716",
     "exception": false,
     "start_time": "2021-07-26T08:31:21.124668",
     "status": "completed"
    },
    "tags": []
   },
   "outputs": [
    {
     "data": {
      "text/plain": [
       "<AxesSubplot:xlabel='city', ylabel='level_1'>"
      ]
     },
     "execution_count": 38,
     "metadata": {},
     "output_type": "execute_result"
    },
    {
     "data": {
      "image/png": "[encoded data removed]",
      "text/plain": [
       "<Figure size 720x720 with 2 Axes>"
      ]
     },
     "metadata": {
      "needs_background": "light"
     },
     "output_type": "display_data"
    }
   ],
   "source": [
    "plt.figure(figsize=(10,10))\n",
    "w_l_piv = w_l.pivot(index = 'level_1', columns = 'city',\n",
    "                            values = 'win_rate').fillna(0)\n",
    "\n",
    "sns.heatmap(w_l_piv, annot = True, fmt = '.0f',\n",
    "           cbar_kws = {'label' : 'winning rate'})"
   ]
  },
  {
   "cell_type": "markdown",
   "id": "45e86724",
   "metadata": {
    "papermill": {
     "duration": 0.08107,
     "end_time": "2021-07-26T08:31:22.186686",
     "exception": false,
     "start_time": "2021-07-26T08:31:22.105616",
     "status": "completed"
    },
    "tags": []
   },
   "source": [
    "We can see genrally the high variability in winning rates in various cities, so let's check the number of matche each team played in each city"
   ]
  },
  {
   "cell_type": "code",
   "execution_count": 39,
   "id": "8ffc6712",
   "metadata": {
    "execution": {
     "iopub.execute_input": "2021-07-26T08:31:22.352481Z",
     "iopub.status.busy": "2021-07-26T08:31:22.351761Z",
     "iopub.status.idle": "2021-07-26T08:31:23.291435Z",
     "shell.execute_reply": "2021-07-26T08:31:23.291934Z",
     "shell.execute_reply.started": "2021-07-26T08:25:44.974907Z"
    },
    "papermill": {
     "duration": 1.024532,
     "end_time": "2021-07-26T08:31:23.292209",
     "exception": false,
     "start_time": "2021-07-26T08:31:22.267677",
     "status": "completed"
    },
    "tags": []
   },
   "outputs": [
    {
     "data": {
      "text/plain": [
       "<AxesSubplot:xlabel='city', ylabel='level_1'>"
      ]
     },
     "execution_count": 39,
     "metadata": {},
     "output_type": "execute_result"
    },
    {
     "data": {
      "image/png": "[encoded data removed]",
      "text/plain": [
       "<Figure size 720x720 with 2 Axes>"
      ]
     },
     "metadata": {
      "needs_background": "light"
     },
     "output_type": "display_data"
    }
   ],
   "source": [
    "w_l['count_games'] = w_l['team2']+w_l['team1']\n",
    "w_l = w_l.reset_index()\n",
    "w_l = w_l[w_l['level_1'].isin(city_teams)]\n",
    "plt.figure(figsize=(10,10))\n",
    "w_l_piv = w_l.pivot(index = 'level_1', columns = 'city',\n",
    "                            values = 'count_games').fillna(0)\n",
    "\n",
    "sns.heatmap(w_l_piv, annot = True, fmt = '.0f',\n",
    "           cbar_kws = {'label' : 'count games'})"
   ]
  },
  {
   "cell_type": "markdown",
   "id": "2a132dea",
   "metadata": {
    "papermill": {
     "duration": 0.083019,
     "end_time": "2021-07-26T08:31:23.484910",
     "exception": false,
     "start_time": "2021-07-26T08:31:23.401891",
     "status": "completed"
    },
    "tags": []
   },
   "source": [
    "> We can see a couple of observations here:\n",
    "1- Each team has a certain country that it played most of its matches in \n",
    "2- Delhi is the highest country in the number of matches all the big teams are playing "
   ]
  },
  {
   "cell_type": "markdown",
   "id": "c9421617",
   "metadata": {
    "papermill": {
     "duration": 0.087013,
     "end_time": "2021-07-26T08:31:23.660026",
     "exception": false,
     "start_time": "2021-07-26T08:31:23.573013",
     "status": "completed"
    },
    "tags": []
   },
   "source": [
    "## Now let's check the player of the match histogram  "
   ]
  },
  {
   "cell_type": "code",
   "execution_count": 40,
   "id": "c1fca185",
   "metadata": {
    "execution": {
     "iopub.execute_input": "2021-07-26T08:31:23.838283Z",
     "iopub.status.busy": "2021-07-26T08:31:23.837463Z",
     "iopub.status.idle": "2021-07-26T08:31:23.842399Z",
     "shell.execute_reply": "2021-07-26T08:31:23.843361Z",
     "shell.execute_reply.started": "2021-07-26T08:25:45.847813Z"
    },
    "papermill": {
     "duration": 0.098825,
     "end_time": "2021-07-26T08:31:23.843785",
     "exception": false,
     "start_time": "2021-07-26T08:31:23.744960",
     "status": "completed"
    },
    "tags": []
   },
   "outputs": [
    {
     "name": "stdout",
     "output_type": "stream",
     "text": [
      "227\n"
     ]
    }
   ],
   "source": [
    "print(matches_world_eda['player_of_match'].nunique())\n",
    "p_o_m = matches_world_eda['player_of_match'].value_counts()"
   ]
  },
  {
   "cell_type": "code",
   "execution_count": 41,
   "id": "bdc09956",
   "metadata": {
    "execution": {
     "iopub.execute_input": "2021-07-26T08:31:24.018953Z",
     "iopub.status.busy": "2021-07-26T08:31:24.018224Z",
     "iopub.status.idle": "2021-07-26T08:31:24.029713Z",
     "shell.execute_reply": "2021-07-26T08:31:24.029107Z",
     "shell.execute_reply.started": "2021-07-26T08:25:45.858121Z"
    },
    "papermill": {
     "duration": 0.0998,
     "end_time": "2021-07-26T08:31:24.029902",
     "exception": false,
     "start_time": "2021-07-26T08:31:23.930102",
     "status": "completed"
    },
    "tags": []
   },
   "outputs": [
    {
     "data": {
      "text/plain": [
       "CH Gayle          22\n",
       "AB de Villiers    21\n",
       "DA Warner         20\n",
       "MS Dhoni          18\n",
       "RG Sharma         17\n",
       "SR Watson         16\n",
       "A Mishra          16\n",
       "YK Pathan         16\n",
       "G Gambhir         14\n",
       "MEK Hussey        14\n",
       "DR Smith          14\n",
       "SK Raina          14\n",
       "V Sehwag          14\n",
       "AM Rahane         13\n",
       "V Kohli           13\n",
       "JH Kallis         11\n",
       "AD Russell        11\n",
       "UT Yadav          10\n",
       "KA Pollard        10\n",
       "Name: player_of_match, dtype: int64"
      ]
     },
     "execution_count": 41,
     "metadata": {},
     "output_type": "execute_result"
    }
   ],
   "source": [
    "p_o_m[p_o_m>9]"
   ]
  },
  {
   "cell_type": "markdown",
   "id": "6a02dd43",
   "metadata": {
    "papermill": {
     "duration": 0.085661,
     "end_time": "2021-07-26T08:31:24.204253",
     "exception": false,
     "start_time": "2021-07-26T08:31:24.118592",
     "status": "completed"
    },
    "tags": []
   },
   "source": [
    "> we can see some players with high number of honors, but unfortunately we can't use this as a feature for our model unless we know that one of these players will play in the match"
   ]
  },
  {
   "cell_type": "code",
   "execution_count": 42,
   "id": "87fe458f",
   "metadata": {
    "execution": {
     "iopub.execute_input": "2021-07-26T08:31:24.379727Z",
     "iopub.status.busy": "2021-07-26T08:31:24.378590Z",
     "iopub.status.idle": "2021-07-26T08:31:24.380989Z",
     "shell.execute_reply": "2021-07-26T08:31:24.381514Z",
     "shell.execute_reply.started": "2021-07-26T08:29:30.585933Z"
    },
    "papermill": {
     "duration": 0.093389,
     "end_time": "2021-07-26T08:31:24.381719",
     "exception": false,
     "start_time": "2021-07-26T08:31:24.288330",
     "status": "completed"
    },
    "tags": []
   },
   "outputs": [],
   "source": [
    "out_base = \"/kaggle/working/\"\n",
    "mode = 0o666\n",
    "if not os.path.exists(out_base):\n",
    "    os.mkdir(out_base,mode)"
   ]
  },
  {
   "cell_type": "code",
   "execution_count": 43,
   "id": "93a66e81",
   "metadata": {
    "execution": {
     "iopub.execute_input": "2021-07-26T08:31:24.552764Z",
     "iopub.status.busy": "2021-07-26T08:31:24.551756Z",
     "iopub.status.idle": "2021-07-26T08:31:24.558426Z",
     "shell.execute_reply": "2021-07-26T08:31:24.558889Z",
     "shell.execute_reply.started": "2021-07-26T08:30:02.509916Z"
    },
    "papermill": {
     "duration": 0.09383,
     "end_time": "2021-07-26T08:31:24.559129",
     "exception": false,
     "start_time": "2021-07-26T08:31:24.465299",
     "status": "completed"
    },
    "tags": []
   },
   "outputs": [],
   "source": [
    "matches_world_eda.to_pickle(out_base+\"/matches_world_eda.pkl\")"
   ]
  },
  {
   "cell_type": "markdown",
   "id": "507ce79a",
   "metadata": {
    "papermill": {
     "duration": 0.082895,
     "end_time": "2021-07-26T08:31:24.724928",
     "exception": false,
     "start_time": "2021-07-26T08:31:24.642033",
     "status": "completed"
    },
    "tags": []
   },
   "source": [
    "## Next we will do feature engineering based on the insights we saw here"
   ]
  }
 ],
 "metadata": {
  "kernelspec": {
   "display_name": "Python 3",
   "language": "python",
   "name": "python3"
  },
  "language_info": {
   "codemirror_mode": {
    "name": "ipython",
    "version": 3
   },
   "file_extension": ".py",
   "mimetype": "text/x-python",
   "name": "python",
   "nbconvert_exporter": "python",
   "pygments_lexer": "ipython3",
   "version": "3.7.10"
  },
  "papermill": {
   "default_parameters": {},
   "duration": 30.972132,
   "end_time": "2021-07-26T08:31:25.820274",
   "environment_variables": {},
   "exception": null,
   "input_path": "__notebook__.ipynb",
   "output_path": "__notebook__.ipynb",
   "parameters": {},
   "start_time": "2021-07-26T08:30:54.848142",
   "version": "2.3.3"
  }
 },
 "nbformat": 4,
 "nbformat_minor": 5
}
